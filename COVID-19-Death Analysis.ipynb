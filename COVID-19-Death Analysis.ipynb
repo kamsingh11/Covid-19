{
 "cells": [
  {
   "cell_type": "markdown",
   "metadata": {},
   "source": [
    "# Data Pre-processing"
   ]
  },
  {
   "cell_type": "markdown",
   "metadata": {},
   "source": [
    "#### Understanding structure of data \n",
    "Identifying Continuous and Categorical data\n",
    "Handling Missing data\n",
    "Methods to identify outliers\n",
    "Measuring centrality of data\n",
    "Measuring spread of data"
   ]
  },
  {
   "cell_type": "code",
   "execution_count": 1,
   "metadata": {},
   "outputs": [
    {
     "name": "stderr",
     "output_type": "stream",
     "text": [
      "In C:\\Users\\kamsi\\Anaconda3\\lib\\site-packages\\matplotlib\\mpl-data\\stylelib\\_classic_test.mplstyle: \n",
      "The text.latex.preview rcparam was deprecated in Matplotlib 3.3 and will be removed two minor releases later.\n",
      "In C:\\Users\\kamsi\\Anaconda3\\lib\\site-packages\\matplotlib\\mpl-data\\stylelib\\_classic_test.mplstyle: \n",
      "The mathtext.fallback_to_cm rcparam was deprecated in Matplotlib 3.3 and will be removed two minor releases later.\n",
      "In C:\\Users\\kamsi\\Anaconda3\\lib\\site-packages\\matplotlib\\mpl-data\\stylelib\\_classic_test.mplstyle: Support for setting the 'mathtext.fallback_to_cm' rcParam is deprecated since 3.3 and will be removed two minor releases later; use 'mathtext.fallback : 'cm' instead.\n",
      "In C:\\Users\\kamsi\\Anaconda3\\lib\\site-packages\\matplotlib\\mpl-data\\stylelib\\_classic_test.mplstyle: \n",
      "The validate_bool_maybe_none function was deprecated in Matplotlib 3.3 and will be removed two minor releases later.\n",
      "In C:\\Users\\kamsi\\Anaconda3\\lib\\site-packages\\matplotlib\\mpl-data\\stylelib\\_classic_test.mplstyle: \n",
      "The savefig.jpeg_quality rcparam was deprecated in Matplotlib 3.3 and will be removed two minor releases later.\n",
      "In C:\\Users\\kamsi\\Anaconda3\\lib\\site-packages\\matplotlib\\mpl-data\\stylelib\\_classic_test.mplstyle: \n",
      "The keymap.all_axes rcparam was deprecated in Matplotlib 3.3 and will be removed two minor releases later.\n",
      "In C:\\Users\\kamsi\\Anaconda3\\lib\\site-packages\\matplotlib\\mpl-data\\stylelib\\_classic_test.mplstyle: \n",
      "The animation.avconv_path rcparam was deprecated in Matplotlib 3.3 and will be removed two minor releases later.\n",
      "In C:\\Users\\kamsi\\Anaconda3\\lib\\site-packages\\matplotlib\\mpl-data\\stylelib\\_classic_test.mplstyle: \n",
      "The animation.avconv_args rcparam was deprecated in Matplotlib 3.3 and will be removed two minor releases later.\n"
     ]
    }
   ],
   "source": [
    "import pandas as pd\n",
    "import numpy as np\n",
    "from sklearn.impute import SimpleImputer\n",
    "import matplotlib.pylab as plt\n",
    "from sklearn.model_selection import train_test_split \n",
    "from sklearn.linear_model import LinearRegression \n",
    "from sklearn.svm import SVR\n",
    "from sklearn.model_selection import cross_val_score\n",
    "from sklearn.model_selection import RepeatedStratifiedKFold\n",
    "from sklearn.pipeline import Pipeline\n",
    "import seaborn as sns\n",
    "import datetime as dt\n",
    "import random\n",
    "import scipy.stats as stats\n",
    "%matplotlib inline \n",
    "sns.set()\n",
    "from pandas.api.types import CategoricalDtype\n",
    "from plotnine import *\n",
    "import datetime as dt\n",
    "from datetime import timedelta\n",
    "from statsmodels.tsa.api import Holt\n",
    "\n"
   ]
  },
  {
   "cell_type": "markdown",
   "metadata": {},
   "source": [
    "## Reading Data"
   ]
  },
  {
   "cell_type": "code",
   "execution_count": 2,
   "metadata": {},
   "outputs": [],
   "source": [
    "df = pd.read_csv(\"Data/owid-covid-data.csv\")"
   ]
  },
  {
   "cell_type": "markdown",
   "metadata": {},
   "source": [
    "## Understanding structure of data\n",
    "\n",
    "#### Looking at top 10 rows of data"
   ]
  },
  {
   "cell_type": "code",
   "execution_count": 3,
   "metadata": {},
   "outputs": [
    {
     "data": {
      "text/html": [
       "<div>\n",
       "<style scoped>\n",
       "    .dataframe tbody tr th:only-of-type {\n",
       "        vertical-align: middle;\n",
       "    }\n",
       "\n",
       "    .dataframe tbody tr th {\n",
       "        vertical-align: top;\n",
       "    }\n",
       "\n",
       "    .dataframe thead th {\n",
       "        text-align: right;\n",
       "    }\n",
       "</style>\n",
       "<table border=\"1\" class=\"dataframe\">\n",
       "  <thead>\n",
       "    <tr style=\"text-align: right;\">\n",
       "      <th></th>\n",
       "      <th>iso_code</th>\n",
       "      <th>continent</th>\n",
       "      <th>location</th>\n",
       "      <th>date</th>\n",
       "      <th>total_cases</th>\n",
       "      <th>new_cases</th>\n",
       "      <th>total_deaths</th>\n",
       "      <th>new_deaths</th>\n",
       "      <th>total_cases_per_million</th>\n",
       "      <th>new_cases_per_million</th>\n",
       "      <th>...</th>\n",
       "      <th>aged_70_older</th>\n",
       "      <th>gdp_per_capita</th>\n",
       "      <th>extreme_poverty</th>\n",
       "      <th>cardiovasc_death_rate</th>\n",
       "      <th>diabetes_prevalence</th>\n",
       "      <th>female_smokers</th>\n",
       "      <th>male_smokers</th>\n",
       "      <th>handwashing_facilities</th>\n",
       "      <th>hospital_beds_per_thousand</th>\n",
       "      <th>life_expectancy</th>\n",
       "    </tr>\n",
       "  </thead>\n",
       "  <tbody>\n",
       "    <tr>\n",
       "      <td>0</td>\n",
       "      <td>AFG</td>\n",
       "      <td>Asia</td>\n",
       "      <td>Afghanistan</td>\n",
       "      <td>2019-12-31</td>\n",
       "      <td>0.0</td>\n",
       "      <td>0.0</td>\n",
       "      <td>0.0</td>\n",
       "      <td>0.0</td>\n",
       "      <td>0.0</td>\n",
       "      <td>0.0</td>\n",
       "      <td>...</td>\n",
       "      <td>1.337</td>\n",
       "      <td>1803.987</td>\n",
       "      <td>NaN</td>\n",
       "      <td>597.029</td>\n",
       "      <td>9.59</td>\n",
       "      <td>NaN</td>\n",
       "      <td>NaN</td>\n",
       "      <td>37.746</td>\n",
       "      <td>0.5</td>\n",
       "      <td>64.83</td>\n",
       "    </tr>\n",
       "    <tr>\n",
       "      <td>1</td>\n",
       "      <td>AFG</td>\n",
       "      <td>Asia</td>\n",
       "      <td>Afghanistan</td>\n",
       "      <td>2020-01-01</td>\n",
       "      <td>0.0</td>\n",
       "      <td>0.0</td>\n",
       "      <td>0.0</td>\n",
       "      <td>0.0</td>\n",
       "      <td>0.0</td>\n",
       "      <td>0.0</td>\n",
       "      <td>...</td>\n",
       "      <td>1.337</td>\n",
       "      <td>1803.987</td>\n",
       "      <td>NaN</td>\n",
       "      <td>597.029</td>\n",
       "      <td>9.59</td>\n",
       "      <td>NaN</td>\n",
       "      <td>NaN</td>\n",
       "      <td>37.746</td>\n",
       "      <td>0.5</td>\n",
       "      <td>64.83</td>\n",
       "    </tr>\n",
       "    <tr>\n",
       "      <td>2</td>\n",
       "      <td>AFG</td>\n",
       "      <td>Asia</td>\n",
       "      <td>Afghanistan</td>\n",
       "      <td>2020-01-02</td>\n",
       "      <td>0.0</td>\n",
       "      <td>0.0</td>\n",
       "      <td>0.0</td>\n",
       "      <td>0.0</td>\n",
       "      <td>0.0</td>\n",
       "      <td>0.0</td>\n",
       "      <td>...</td>\n",
       "      <td>1.337</td>\n",
       "      <td>1803.987</td>\n",
       "      <td>NaN</td>\n",
       "      <td>597.029</td>\n",
       "      <td>9.59</td>\n",
       "      <td>NaN</td>\n",
       "      <td>NaN</td>\n",
       "      <td>37.746</td>\n",
       "      <td>0.5</td>\n",
       "      <td>64.83</td>\n",
       "    </tr>\n",
       "    <tr>\n",
       "      <td>3</td>\n",
       "      <td>AFG</td>\n",
       "      <td>Asia</td>\n",
       "      <td>Afghanistan</td>\n",
       "      <td>2020-01-03</td>\n",
       "      <td>0.0</td>\n",
       "      <td>0.0</td>\n",
       "      <td>0.0</td>\n",
       "      <td>0.0</td>\n",
       "      <td>0.0</td>\n",
       "      <td>0.0</td>\n",
       "      <td>...</td>\n",
       "      <td>1.337</td>\n",
       "      <td>1803.987</td>\n",
       "      <td>NaN</td>\n",
       "      <td>597.029</td>\n",
       "      <td>9.59</td>\n",
       "      <td>NaN</td>\n",
       "      <td>NaN</td>\n",
       "      <td>37.746</td>\n",
       "      <td>0.5</td>\n",
       "      <td>64.83</td>\n",
       "    </tr>\n",
       "    <tr>\n",
       "      <td>4</td>\n",
       "      <td>AFG</td>\n",
       "      <td>Asia</td>\n",
       "      <td>Afghanistan</td>\n",
       "      <td>2020-01-04</td>\n",
       "      <td>0.0</td>\n",
       "      <td>0.0</td>\n",
       "      <td>0.0</td>\n",
       "      <td>0.0</td>\n",
       "      <td>0.0</td>\n",
       "      <td>0.0</td>\n",
       "      <td>...</td>\n",
       "      <td>1.337</td>\n",
       "      <td>1803.987</td>\n",
       "      <td>NaN</td>\n",
       "      <td>597.029</td>\n",
       "      <td>9.59</td>\n",
       "      <td>NaN</td>\n",
       "      <td>NaN</td>\n",
       "      <td>37.746</td>\n",
       "      <td>0.5</td>\n",
       "      <td>64.83</td>\n",
       "    </tr>\n",
       "    <tr>\n",
       "      <td>5</td>\n",
       "      <td>AFG</td>\n",
       "      <td>Asia</td>\n",
       "      <td>Afghanistan</td>\n",
       "      <td>2020-01-05</td>\n",
       "      <td>0.0</td>\n",
       "      <td>0.0</td>\n",
       "      <td>0.0</td>\n",
       "      <td>0.0</td>\n",
       "      <td>0.0</td>\n",
       "      <td>0.0</td>\n",
       "      <td>...</td>\n",
       "      <td>1.337</td>\n",
       "      <td>1803.987</td>\n",
       "      <td>NaN</td>\n",
       "      <td>597.029</td>\n",
       "      <td>9.59</td>\n",
       "      <td>NaN</td>\n",
       "      <td>NaN</td>\n",
       "      <td>37.746</td>\n",
       "      <td>0.5</td>\n",
       "      <td>64.83</td>\n",
       "    </tr>\n",
       "    <tr>\n",
       "      <td>6</td>\n",
       "      <td>AFG</td>\n",
       "      <td>Asia</td>\n",
       "      <td>Afghanistan</td>\n",
       "      <td>2020-01-06</td>\n",
       "      <td>0.0</td>\n",
       "      <td>0.0</td>\n",
       "      <td>0.0</td>\n",
       "      <td>0.0</td>\n",
       "      <td>0.0</td>\n",
       "      <td>0.0</td>\n",
       "      <td>...</td>\n",
       "      <td>1.337</td>\n",
       "      <td>1803.987</td>\n",
       "      <td>NaN</td>\n",
       "      <td>597.029</td>\n",
       "      <td>9.59</td>\n",
       "      <td>NaN</td>\n",
       "      <td>NaN</td>\n",
       "      <td>37.746</td>\n",
       "      <td>0.5</td>\n",
       "      <td>64.83</td>\n",
       "    </tr>\n",
       "    <tr>\n",
       "      <td>7</td>\n",
       "      <td>AFG</td>\n",
       "      <td>Asia</td>\n",
       "      <td>Afghanistan</td>\n",
       "      <td>2020-01-07</td>\n",
       "      <td>0.0</td>\n",
       "      <td>0.0</td>\n",
       "      <td>0.0</td>\n",
       "      <td>0.0</td>\n",
       "      <td>0.0</td>\n",
       "      <td>0.0</td>\n",
       "      <td>...</td>\n",
       "      <td>1.337</td>\n",
       "      <td>1803.987</td>\n",
       "      <td>NaN</td>\n",
       "      <td>597.029</td>\n",
       "      <td>9.59</td>\n",
       "      <td>NaN</td>\n",
       "      <td>NaN</td>\n",
       "      <td>37.746</td>\n",
       "      <td>0.5</td>\n",
       "      <td>64.83</td>\n",
       "    </tr>\n",
       "    <tr>\n",
       "      <td>8</td>\n",
       "      <td>AFG</td>\n",
       "      <td>Asia</td>\n",
       "      <td>Afghanistan</td>\n",
       "      <td>2020-01-08</td>\n",
       "      <td>0.0</td>\n",
       "      <td>0.0</td>\n",
       "      <td>0.0</td>\n",
       "      <td>0.0</td>\n",
       "      <td>0.0</td>\n",
       "      <td>0.0</td>\n",
       "      <td>...</td>\n",
       "      <td>1.337</td>\n",
       "      <td>1803.987</td>\n",
       "      <td>NaN</td>\n",
       "      <td>597.029</td>\n",
       "      <td>9.59</td>\n",
       "      <td>NaN</td>\n",
       "      <td>NaN</td>\n",
       "      <td>37.746</td>\n",
       "      <td>0.5</td>\n",
       "      <td>64.83</td>\n",
       "    </tr>\n",
       "    <tr>\n",
       "      <td>9</td>\n",
       "      <td>AFG</td>\n",
       "      <td>Asia</td>\n",
       "      <td>Afghanistan</td>\n",
       "      <td>2020-01-09</td>\n",
       "      <td>0.0</td>\n",
       "      <td>0.0</td>\n",
       "      <td>0.0</td>\n",
       "      <td>0.0</td>\n",
       "      <td>0.0</td>\n",
       "      <td>0.0</td>\n",
       "      <td>...</td>\n",
       "      <td>1.337</td>\n",
       "      <td>1803.987</td>\n",
       "      <td>NaN</td>\n",
       "      <td>597.029</td>\n",
       "      <td>9.59</td>\n",
       "      <td>NaN</td>\n",
       "      <td>NaN</td>\n",
       "      <td>37.746</td>\n",
       "      <td>0.5</td>\n",
       "      <td>64.83</td>\n",
       "    </tr>\n",
       "  </tbody>\n",
       "</table>\n",
       "<p>10 rows × 34 columns</p>\n",
       "</div>"
      ],
      "text/plain": [
       "  iso_code continent     location        date  total_cases  new_cases  \\\n",
       "0      AFG      Asia  Afghanistan  2019-12-31          0.0        0.0   \n",
       "1      AFG      Asia  Afghanistan  2020-01-01          0.0        0.0   \n",
       "2      AFG      Asia  Afghanistan  2020-01-02          0.0        0.0   \n",
       "3      AFG      Asia  Afghanistan  2020-01-03          0.0        0.0   \n",
       "4      AFG      Asia  Afghanistan  2020-01-04          0.0        0.0   \n",
       "5      AFG      Asia  Afghanistan  2020-01-05          0.0        0.0   \n",
       "6      AFG      Asia  Afghanistan  2020-01-06          0.0        0.0   \n",
       "7      AFG      Asia  Afghanistan  2020-01-07          0.0        0.0   \n",
       "8      AFG      Asia  Afghanistan  2020-01-08          0.0        0.0   \n",
       "9      AFG      Asia  Afghanistan  2020-01-09          0.0        0.0   \n",
       "\n",
       "   total_deaths  new_deaths  total_cases_per_million  new_cases_per_million  \\\n",
       "0           0.0         0.0                      0.0                    0.0   \n",
       "1           0.0         0.0                      0.0                    0.0   \n",
       "2           0.0         0.0                      0.0                    0.0   \n",
       "3           0.0         0.0                      0.0                    0.0   \n",
       "4           0.0         0.0                      0.0                    0.0   \n",
       "5           0.0         0.0                      0.0                    0.0   \n",
       "6           0.0         0.0                      0.0                    0.0   \n",
       "7           0.0         0.0                      0.0                    0.0   \n",
       "8           0.0         0.0                      0.0                    0.0   \n",
       "9           0.0         0.0                      0.0                    0.0   \n",
       "\n",
       "   ...  aged_70_older  gdp_per_capita  extreme_poverty  cardiovasc_death_rate  \\\n",
       "0  ...          1.337        1803.987              NaN                597.029   \n",
       "1  ...          1.337        1803.987              NaN                597.029   \n",
       "2  ...          1.337        1803.987              NaN                597.029   \n",
       "3  ...          1.337        1803.987              NaN                597.029   \n",
       "4  ...          1.337        1803.987              NaN                597.029   \n",
       "5  ...          1.337        1803.987              NaN                597.029   \n",
       "6  ...          1.337        1803.987              NaN                597.029   \n",
       "7  ...          1.337        1803.987              NaN                597.029   \n",
       "8  ...          1.337        1803.987              NaN                597.029   \n",
       "9  ...          1.337        1803.987              NaN                597.029   \n",
       "\n",
       "   diabetes_prevalence  female_smokers  male_smokers  handwashing_facilities  \\\n",
       "0                 9.59             NaN           NaN                  37.746   \n",
       "1                 9.59             NaN           NaN                  37.746   \n",
       "2                 9.59             NaN           NaN                  37.746   \n",
       "3                 9.59             NaN           NaN                  37.746   \n",
       "4                 9.59             NaN           NaN                  37.746   \n",
       "5                 9.59             NaN           NaN                  37.746   \n",
       "6                 9.59             NaN           NaN                  37.746   \n",
       "7                 9.59             NaN           NaN                  37.746   \n",
       "8                 9.59             NaN           NaN                  37.746   \n",
       "9                 9.59             NaN           NaN                  37.746   \n",
       "\n",
       "  hospital_beds_per_thousand  life_expectancy  \n",
       "0                        0.5            64.83  \n",
       "1                        0.5            64.83  \n",
       "2                        0.5            64.83  \n",
       "3                        0.5            64.83  \n",
       "4                        0.5            64.83  \n",
       "5                        0.5            64.83  \n",
       "6                        0.5            64.83  \n",
       "7                        0.5            64.83  \n",
       "8                        0.5            64.83  \n",
       "9                        0.5            64.83  \n",
       "\n",
       "[10 rows x 34 columns]"
      ]
     },
     "execution_count": 3,
     "metadata": {},
     "output_type": "execute_result"
    }
   ],
   "source": [
    "df.head(10)"
   ]
  },
  {
   "cell_type": "code",
   "execution_count": 4,
   "metadata": {},
   "outputs": [
    {
     "data": {
      "text/html": [
       "<div>\n",
       "<style scoped>\n",
       "    .dataframe tbody tr th:only-of-type {\n",
       "        vertical-align: middle;\n",
       "    }\n",
       "\n",
       "    .dataframe tbody tr th {\n",
       "        vertical-align: top;\n",
       "    }\n",
       "\n",
       "    .dataframe thead th {\n",
       "        text-align: right;\n",
       "    }\n",
       "</style>\n",
       "<table border=\"1\" class=\"dataframe\">\n",
       "  <thead>\n",
       "    <tr style=\"text-align: right;\">\n",
       "      <th></th>\n",
       "      <th>iso_code</th>\n",
       "      <th>continent</th>\n",
       "      <th>location</th>\n",
       "      <th>date</th>\n",
       "      <th>total_cases</th>\n",
       "      <th>new_cases</th>\n",
       "      <th>total_deaths</th>\n",
       "      <th>new_deaths</th>\n",
       "      <th>total_cases_per_million</th>\n",
       "      <th>new_cases_per_million</th>\n",
       "      <th>...</th>\n",
       "      <th>aged_70_older</th>\n",
       "      <th>gdp_per_capita</th>\n",
       "      <th>extreme_poverty</th>\n",
       "      <th>cardiovasc_death_rate</th>\n",
       "      <th>diabetes_prevalence</th>\n",
       "      <th>female_smokers</th>\n",
       "      <th>male_smokers</th>\n",
       "      <th>handwashing_facilities</th>\n",
       "      <th>hospital_beds_per_thousand</th>\n",
       "      <th>life_expectancy</th>\n",
       "    </tr>\n",
       "  </thead>\n",
       "  <tbody>\n",
       "    <tr>\n",
       "      <td>33407</td>\n",
       "      <td>NaN</td>\n",
       "      <td>NaN</td>\n",
       "      <td>International</td>\n",
       "      <td>2020-02-23</td>\n",
       "      <td>634.0</td>\n",
       "      <td>0.0</td>\n",
       "      <td>2.0</td>\n",
       "      <td>0.0</td>\n",
       "      <td>NaN</td>\n",
       "      <td>NaN</td>\n",
       "      <td>...</td>\n",
       "      <td>NaN</td>\n",
       "      <td>NaN</td>\n",
       "      <td>NaN</td>\n",
       "      <td>NaN</td>\n",
       "      <td>NaN</td>\n",
       "      <td>NaN</td>\n",
       "      <td>NaN</td>\n",
       "      <td>NaN</td>\n",
       "      <td>NaN</td>\n",
       "      <td>NaN</td>\n",
       "    </tr>\n",
       "    <tr>\n",
       "      <td>33408</td>\n",
       "      <td>NaN</td>\n",
       "      <td>NaN</td>\n",
       "      <td>International</td>\n",
       "      <td>2020-02-24</td>\n",
       "      <td>691.0</td>\n",
       "      <td>57.0</td>\n",
       "      <td>3.0</td>\n",
       "      <td>1.0</td>\n",
       "      <td>NaN</td>\n",
       "      <td>NaN</td>\n",
       "      <td>...</td>\n",
       "      <td>NaN</td>\n",
       "      <td>NaN</td>\n",
       "      <td>NaN</td>\n",
       "      <td>NaN</td>\n",
       "      <td>NaN</td>\n",
       "      <td>NaN</td>\n",
       "      <td>NaN</td>\n",
       "      <td>NaN</td>\n",
       "      <td>NaN</td>\n",
       "      <td>NaN</td>\n",
       "    </tr>\n",
       "    <tr>\n",
       "      <td>33409</td>\n",
       "      <td>NaN</td>\n",
       "      <td>NaN</td>\n",
       "      <td>International</td>\n",
       "      <td>2020-02-25</td>\n",
       "      <td>691.0</td>\n",
       "      <td>0.0</td>\n",
       "      <td>3.0</td>\n",
       "      <td>0.0</td>\n",
       "      <td>NaN</td>\n",
       "      <td>NaN</td>\n",
       "      <td>...</td>\n",
       "      <td>NaN</td>\n",
       "      <td>NaN</td>\n",
       "      <td>NaN</td>\n",
       "      <td>NaN</td>\n",
       "      <td>NaN</td>\n",
       "      <td>NaN</td>\n",
       "      <td>NaN</td>\n",
       "      <td>NaN</td>\n",
       "      <td>NaN</td>\n",
       "      <td>NaN</td>\n",
       "    </tr>\n",
       "    <tr>\n",
       "      <td>33410</td>\n",
       "      <td>NaN</td>\n",
       "      <td>NaN</td>\n",
       "      <td>International</td>\n",
       "      <td>2020-02-26</td>\n",
       "      <td>691.0</td>\n",
       "      <td>0.0</td>\n",
       "      <td>4.0</td>\n",
       "      <td>1.0</td>\n",
       "      <td>NaN</td>\n",
       "      <td>NaN</td>\n",
       "      <td>...</td>\n",
       "      <td>NaN</td>\n",
       "      <td>NaN</td>\n",
       "      <td>NaN</td>\n",
       "      <td>NaN</td>\n",
       "      <td>NaN</td>\n",
       "      <td>NaN</td>\n",
       "      <td>NaN</td>\n",
       "      <td>NaN</td>\n",
       "      <td>NaN</td>\n",
       "      <td>NaN</td>\n",
       "    </tr>\n",
       "    <tr>\n",
       "      <td>33411</td>\n",
       "      <td>NaN</td>\n",
       "      <td>NaN</td>\n",
       "      <td>International</td>\n",
       "      <td>2020-02-27</td>\n",
       "      <td>705.0</td>\n",
       "      <td>14.0</td>\n",
       "      <td>4.0</td>\n",
       "      <td>0.0</td>\n",
       "      <td>NaN</td>\n",
       "      <td>NaN</td>\n",
       "      <td>...</td>\n",
       "      <td>NaN</td>\n",
       "      <td>NaN</td>\n",
       "      <td>NaN</td>\n",
       "      <td>NaN</td>\n",
       "      <td>NaN</td>\n",
       "      <td>NaN</td>\n",
       "      <td>NaN</td>\n",
       "      <td>NaN</td>\n",
       "      <td>NaN</td>\n",
       "      <td>NaN</td>\n",
       "    </tr>\n",
       "    <tr>\n",
       "      <td>33412</td>\n",
       "      <td>NaN</td>\n",
       "      <td>NaN</td>\n",
       "      <td>International</td>\n",
       "      <td>2020-02-28</td>\n",
       "      <td>705.0</td>\n",
       "      <td>0.0</td>\n",
       "      <td>4.0</td>\n",
       "      <td>0.0</td>\n",
       "      <td>NaN</td>\n",
       "      <td>NaN</td>\n",
       "      <td>...</td>\n",
       "      <td>NaN</td>\n",
       "      <td>NaN</td>\n",
       "      <td>NaN</td>\n",
       "      <td>NaN</td>\n",
       "      <td>NaN</td>\n",
       "      <td>NaN</td>\n",
       "      <td>NaN</td>\n",
       "      <td>NaN</td>\n",
       "      <td>NaN</td>\n",
       "      <td>NaN</td>\n",
       "    </tr>\n",
       "    <tr>\n",
       "      <td>33413</td>\n",
       "      <td>NaN</td>\n",
       "      <td>NaN</td>\n",
       "      <td>International</td>\n",
       "      <td>2020-02-29</td>\n",
       "      <td>705.0</td>\n",
       "      <td>0.0</td>\n",
       "      <td>6.0</td>\n",
       "      <td>2.0</td>\n",
       "      <td>NaN</td>\n",
       "      <td>NaN</td>\n",
       "      <td>...</td>\n",
       "      <td>NaN</td>\n",
       "      <td>NaN</td>\n",
       "      <td>NaN</td>\n",
       "      <td>NaN</td>\n",
       "      <td>NaN</td>\n",
       "      <td>NaN</td>\n",
       "      <td>NaN</td>\n",
       "      <td>NaN</td>\n",
       "      <td>NaN</td>\n",
       "      <td>NaN</td>\n",
       "    </tr>\n",
       "    <tr>\n",
       "      <td>33414</td>\n",
       "      <td>NaN</td>\n",
       "      <td>NaN</td>\n",
       "      <td>International</td>\n",
       "      <td>2020-03-01</td>\n",
       "      <td>705.0</td>\n",
       "      <td>0.0</td>\n",
       "      <td>6.0</td>\n",
       "      <td>0.0</td>\n",
       "      <td>NaN</td>\n",
       "      <td>NaN</td>\n",
       "      <td>...</td>\n",
       "      <td>NaN</td>\n",
       "      <td>NaN</td>\n",
       "      <td>NaN</td>\n",
       "      <td>NaN</td>\n",
       "      <td>NaN</td>\n",
       "      <td>NaN</td>\n",
       "      <td>NaN</td>\n",
       "      <td>NaN</td>\n",
       "      <td>NaN</td>\n",
       "      <td>NaN</td>\n",
       "    </tr>\n",
       "    <tr>\n",
       "      <td>33415</td>\n",
       "      <td>NaN</td>\n",
       "      <td>NaN</td>\n",
       "      <td>International</td>\n",
       "      <td>2020-03-02</td>\n",
       "      <td>705.0</td>\n",
       "      <td>0.0</td>\n",
       "      <td>6.0</td>\n",
       "      <td>0.0</td>\n",
       "      <td>NaN</td>\n",
       "      <td>NaN</td>\n",
       "      <td>...</td>\n",
       "      <td>NaN</td>\n",
       "      <td>NaN</td>\n",
       "      <td>NaN</td>\n",
       "      <td>NaN</td>\n",
       "      <td>NaN</td>\n",
       "      <td>NaN</td>\n",
       "      <td>NaN</td>\n",
       "      <td>NaN</td>\n",
       "      <td>NaN</td>\n",
       "      <td>NaN</td>\n",
       "    </tr>\n",
       "    <tr>\n",
       "      <td>33416</td>\n",
       "      <td>NaN</td>\n",
       "      <td>NaN</td>\n",
       "      <td>International</td>\n",
       "      <td>2020-03-10</td>\n",
       "      <td>696.0</td>\n",
       "      <td>-9.0</td>\n",
       "      <td>7.0</td>\n",
       "      <td>1.0</td>\n",
       "      <td>NaN</td>\n",
       "      <td>NaN</td>\n",
       "      <td>...</td>\n",
       "      <td>NaN</td>\n",
       "      <td>NaN</td>\n",
       "      <td>NaN</td>\n",
       "      <td>NaN</td>\n",
       "      <td>NaN</td>\n",
       "      <td>NaN</td>\n",
       "      <td>NaN</td>\n",
       "      <td>NaN</td>\n",
       "      <td>NaN</td>\n",
       "      <td>NaN</td>\n",
       "    </tr>\n",
       "  </tbody>\n",
       "</table>\n",
       "<p>10 rows × 34 columns</p>\n",
       "</div>"
      ],
      "text/plain": [
       "      iso_code continent       location        date  total_cases  new_cases  \\\n",
       "33407      NaN       NaN  International  2020-02-23        634.0        0.0   \n",
       "33408      NaN       NaN  International  2020-02-24        691.0       57.0   \n",
       "33409      NaN       NaN  International  2020-02-25        691.0        0.0   \n",
       "33410      NaN       NaN  International  2020-02-26        691.0        0.0   \n",
       "33411      NaN       NaN  International  2020-02-27        705.0       14.0   \n",
       "33412      NaN       NaN  International  2020-02-28        705.0        0.0   \n",
       "33413      NaN       NaN  International  2020-02-29        705.0        0.0   \n",
       "33414      NaN       NaN  International  2020-03-01        705.0        0.0   \n",
       "33415      NaN       NaN  International  2020-03-02        705.0        0.0   \n",
       "33416      NaN       NaN  International  2020-03-10        696.0       -9.0   \n",
       "\n",
       "       total_deaths  new_deaths  total_cases_per_million  \\\n",
       "33407           2.0         0.0                      NaN   \n",
       "33408           3.0         1.0                      NaN   \n",
       "33409           3.0         0.0                      NaN   \n",
       "33410           4.0         1.0                      NaN   \n",
       "33411           4.0         0.0                      NaN   \n",
       "33412           4.0         0.0                      NaN   \n",
       "33413           6.0         2.0                      NaN   \n",
       "33414           6.0         0.0                      NaN   \n",
       "33415           6.0         0.0                      NaN   \n",
       "33416           7.0         1.0                      NaN   \n",
       "\n",
       "       new_cases_per_million  ...  aged_70_older  gdp_per_capita  \\\n",
       "33407                    NaN  ...            NaN             NaN   \n",
       "33408                    NaN  ...            NaN             NaN   \n",
       "33409                    NaN  ...            NaN             NaN   \n",
       "33410                    NaN  ...            NaN             NaN   \n",
       "33411                    NaN  ...            NaN             NaN   \n",
       "33412                    NaN  ...            NaN             NaN   \n",
       "33413                    NaN  ...            NaN             NaN   \n",
       "33414                    NaN  ...            NaN             NaN   \n",
       "33415                    NaN  ...            NaN             NaN   \n",
       "33416                    NaN  ...            NaN             NaN   \n",
       "\n",
       "       extreme_poverty  cardiovasc_death_rate  diabetes_prevalence  \\\n",
       "33407              NaN                    NaN                  NaN   \n",
       "33408              NaN                    NaN                  NaN   \n",
       "33409              NaN                    NaN                  NaN   \n",
       "33410              NaN                    NaN                  NaN   \n",
       "33411              NaN                    NaN                  NaN   \n",
       "33412              NaN                    NaN                  NaN   \n",
       "33413              NaN                    NaN                  NaN   \n",
       "33414              NaN                    NaN                  NaN   \n",
       "33415              NaN                    NaN                  NaN   \n",
       "33416              NaN                    NaN                  NaN   \n",
       "\n",
       "       female_smokers  male_smokers  handwashing_facilities  \\\n",
       "33407             NaN           NaN                     NaN   \n",
       "33408             NaN           NaN                     NaN   \n",
       "33409             NaN           NaN                     NaN   \n",
       "33410             NaN           NaN                     NaN   \n",
       "33411             NaN           NaN                     NaN   \n",
       "33412             NaN           NaN                     NaN   \n",
       "33413             NaN           NaN                     NaN   \n",
       "33414             NaN           NaN                     NaN   \n",
       "33415             NaN           NaN                     NaN   \n",
       "33416             NaN           NaN                     NaN   \n",
       "\n",
       "      hospital_beds_per_thousand  life_expectancy  \n",
       "33407                        NaN              NaN  \n",
       "33408                        NaN              NaN  \n",
       "33409                        NaN              NaN  \n",
       "33410                        NaN              NaN  \n",
       "33411                        NaN              NaN  \n",
       "33412                        NaN              NaN  \n",
       "33413                        NaN              NaN  \n",
       "33414                        NaN              NaN  \n",
       "33415                        NaN              NaN  \n",
       "33416                        NaN              NaN  \n",
       "\n",
       "[10 rows x 34 columns]"
      ]
     },
     "execution_count": 4,
     "metadata": {},
     "output_type": "execute_result"
    }
   ],
   "source": [
    "df.tail(10)"
   ]
  },
  {
   "cell_type": "markdown",
   "metadata": {},
   "source": [
    "#### Looking at all the variables and their types"
   ]
  },
  {
   "cell_type": "code",
   "execution_count": 5,
   "metadata": {},
   "outputs": [
    {
     "name": "stdout",
     "output_type": "stream",
     "text": [
      "<class 'pandas.core.frame.DataFrame'>\n",
      "RangeIndex: 33417 entries, 0 to 33416\n",
      "Data columns (total 34 columns):\n",
      "iso_code                           33353 non-null object\n",
      "continent                          33141 non-null object\n",
      "location                           33417 non-null object\n",
      "date                               33417 non-null object\n",
      "total_cases                        33062 non-null float64\n",
      "new_cases                          33062 non-null float64\n",
      "total_deaths                       33062 non-null float64\n",
      "new_deaths                         33062 non-null float64\n",
      "total_cases_per_million            32998 non-null float64\n",
      "new_cases_per_million              32998 non-null float64\n",
      "total_deaths_per_million           32998 non-null float64\n",
      "new_deaths_per_million             32998 non-null float64\n",
      "new_tests                          10401 non-null float64\n",
      "total_tests                        10647 non-null float64\n",
      "total_tests_per_thousand           10647 non-null float64\n",
      "new_tests_per_thousand             10401 non-null float64\n",
      "new_tests_smoothed                 11520 non-null float64\n",
      "new_tests_smoothed_per_thousand    11520 non-null float64\n",
      "tests_units                        12288 non-null object\n",
      "stringency_index                   27130 non-null float64\n",
      "population                         33353 non-null float64\n",
      "population_density                 31910 non-null float64\n",
      "median_age                         30074 non-null float64\n",
      "aged_65_older                      29638 non-null float64\n",
      "aged_70_older                      29919 non-null float64\n",
      "gdp_per_capita                     29708 non-null float64\n",
      "extreme_poverty                    19865 non-null float64\n",
      "cardiovasc_death_rate              30083 non-null float64\n",
      "diabetes_prevalence                31104 non-null float64\n",
      "female_smokers                     23877 non-null float64\n",
      "male_smokers                       23591 non-null float64\n",
      "handwashing_facilities             13764 non-null float64\n",
      "hospital_beds_per_thousand         27353 non-null float64\n",
      "life_expectancy                    32951 non-null float64\n",
      "dtypes: float64(29), object(5)\n",
      "memory usage: 8.7+ MB\n"
     ]
    }
   ],
   "source": [
    "df.info()"
   ]
  },
  {
   "cell_type": "markdown",
   "metadata": {},
   "source": [
    "There are 33417 observations and 34 columns where 5 variables are of categorical data type and the remaining 29 variables are of numerical data types\n",
    "\n",
    "#### The following is a list of names of variables in this data set\n"
   ]
  },
  {
   "cell_type": "code",
   "execution_count": 6,
   "metadata": {},
   "outputs": [
    {
     "data": {
      "text/plain": [
       "Index(['iso_code', 'continent', 'location', 'date', 'total_cases', 'new_cases',\n",
       "       'total_deaths', 'new_deaths', 'total_cases_per_million',\n",
       "       'new_cases_per_million', 'total_deaths_per_million',\n",
       "       'new_deaths_per_million', 'new_tests', 'total_tests',\n",
       "       'total_tests_per_thousand', 'new_tests_per_thousand',\n",
       "       'new_tests_smoothed', 'new_tests_smoothed_per_thousand', 'tests_units',\n",
       "       'stringency_index', 'population', 'population_density', 'median_age',\n",
       "       'aged_65_older', 'aged_70_older', 'gdp_per_capita', 'extreme_poverty',\n",
       "       'cardiovasc_death_rate', 'diabetes_prevalence', 'female_smokers',\n",
       "       'male_smokers', 'handwashing_facilities', 'hospital_beds_per_thousand',\n",
       "       'life_expectancy'],\n",
       "      dtype='object')"
      ]
     },
     "execution_count": 6,
     "metadata": {},
     "output_type": "execute_result"
    }
   ],
   "source": [
    "df.columns"
   ]
  },
  {
   "cell_type": "markdown",
   "metadata": {},
   "source": [
    "#### Converting data types"
   ]
  },
  {
   "cell_type": "code",
   "execution_count": 7,
   "metadata": {},
   "outputs": [],
   "source": [
    "df['date']= pd.to_datetime(df['date'])"
   ]
  },
  {
   "cell_type": "markdown",
   "metadata": {},
   "source": [
    "#### Describing and Summarizing numerical or continuous variables"
   ]
  },
  {
   "cell_type": "code",
   "execution_count": 8,
   "metadata": {},
   "outputs": [
    {
     "data": {
      "text/html": [
       "<div>\n",
       "<style scoped>\n",
       "    .dataframe tbody tr th:only-of-type {\n",
       "        vertical-align: middle;\n",
       "    }\n",
       "\n",
       "    .dataframe tbody tr th {\n",
       "        vertical-align: top;\n",
       "    }\n",
       "\n",
       "    .dataframe thead th {\n",
       "        text-align: right;\n",
       "    }\n",
       "</style>\n",
       "<table border=\"1\" class=\"dataframe\">\n",
       "  <thead>\n",
       "    <tr style=\"text-align: right;\">\n",
       "      <th></th>\n",
       "      <th>total_cases</th>\n",
       "      <th>new_cases</th>\n",
       "      <th>total_deaths</th>\n",
       "      <th>new_deaths</th>\n",
       "      <th>total_cases_per_million</th>\n",
       "      <th>new_cases_per_million</th>\n",
       "      <th>total_deaths_per_million</th>\n",
       "      <th>new_deaths_per_million</th>\n",
       "      <th>new_tests</th>\n",
       "      <th>total_tests</th>\n",
       "      <th>...</th>\n",
       "      <th>aged_70_older</th>\n",
       "      <th>gdp_per_capita</th>\n",
       "      <th>extreme_poverty</th>\n",
       "      <th>cardiovasc_death_rate</th>\n",
       "      <th>diabetes_prevalence</th>\n",
       "      <th>female_smokers</th>\n",
       "      <th>male_smokers</th>\n",
       "      <th>handwashing_facilities</th>\n",
       "      <th>hospital_beds_per_thousand</th>\n",
       "      <th>life_expectancy</th>\n",
       "    </tr>\n",
       "  </thead>\n",
       "  <tbody>\n",
       "    <tr>\n",
       "      <td>count</td>\n",
       "      <td>3.306200e+04</td>\n",
       "      <td>33062.000000</td>\n",
       "      <td>33062.000000</td>\n",
       "      <td>33062.00000</td>\n",
       "      <td>32998.000000</td>\n",
       "      <td>32998.000000</td>\n",
       "      <td>32998.000000</td>\n",
       "      <td>32998.000000</td>\n",
       "      <td>10401.000000</td>\n",
       "      <td>1.064700e+04</td>\n",
       "      <td>...</td>\n",
       "      <td>29919.000000</td>\n",
       "      <td>29708.000000</td>\n",
       "      <td>19865.000000</td>\n",
       "      <td>30083.000000</td>\n",
       "      <td>31104.000000</td>\n",
       "      <td>23877.000000</td>\n",
       "      <td>23591.000000</td>\n",
       "      <td>13764.000000</td>\n",
       "      <td>27353.000000</td>\n",
       "      <td>32951.000000</td>\n",
       "    </tr>\n",
       "    <tr>\n",
       "      <td>mean</td>\n",
       "      <td>5.091939e+04</td>\n",
       "      <td>1010.762809</td>\n",
       "      <td>2655.291634</td>\n",
       "      <td>39.93243</td>\n",
       "      <td>1103.657007</td>\n",
       "      <td>17.858746</td>\n",
       "      <td>40.909829</td>\n",
       "      <td>0.533204</td>\n",
       "      <td>16320.258341</td>\n",
       "      <td>7.689958e+05</td>\n",
       "      <td>...</td>\n",
       "      <td>5.990319</td>\n",
       "      <td>21546.066343</td>\n",
       "      <td>11.489011</td>\n",
       "      <td>249.517591</td>\n",
       "      <td>8.039533</td>\n",
       "      <td>10.990606</td>\n",
       "      <td>32.629508</td>\n",
       "      <td>53.246010</td>\n",
       "      <td>3.146980</td>\n",
       "      <td>74.244388</td>\n",
       "    </tr>\n",
       "    <tr>\n",
       "      <td>std</td>\n",
       "      <td>5.180225e+05</td>\n",
       "      <td>9309.139517</td>\n",
       "      <td>25233.329557</td>\n",
       "      <td>347.73264</td>\n",
       "      <td>2674.940362</td>\n",
       "      <td>62.928423</td>\n",
       "      <td>123.250689</td>\n",
       "      <td>3.006846</td>\n",
       "      <td>59168.420750</td>\n",
       "      <td>3.022411e+06</td>\n",
       "      <td>...</td>\n",
       "      <td>4.362110</td>\n",
       "      <td>20697.420278</td>\n",
       "      <td>18.736936</td>\n",
       "      <td>117.957827</td>\n",
       "      <td>4.116805</td>\n",
       "      <td>10.504692</td>\n",
       "      <td>13.328649</td>\n",
       "      <td>31.456423</td>\n",
       "      <td>2.549325</td>\n",
       "      <td>7.316460</td>\n",
       "    </tr>\n",
       "    <tr>\n",
       "      <td>min</td>\n",
       "      <td>0.000000e+00</td>\n",
       "      <td>-29726.000000</td>\n",
       "      <td>0.000000</td>\n",
       "      <td>-1918.00000</td>\n",
       "      <td>0.000000</td>\n",
       "      <td>-437.881000</td>\n",
       "      <td>0.000000</td>\n",
       "      <td>-41.023000</td>\n",
       "      <td>-3743.000000</td>\n",
       "      <td>1.000000e+00</td>\n",
       "      <td>...</td>\n",
       "      <td>0.526000</td>\n",
       "      <td>661.240000</td>\n",
       "      <td>0.100000</td>\n",
       "      <td>79.370000</td>\n",
       "      <td>0.990000</td>\n",
       "      <td>0.100000</td>\n",
       "      <td>7.700000</td>\n",
       "      <td>1.188000</td>\n",
       "      <td>0.100000</td>\n",
       "      <td>53.280000</td>\n",
       "    </tr>\n",
       "    <tr>\n",
       "      <td>25%</td>\n",
       "      <td>2.100000e+01</td>\n",
       "      <td>0.000000</td>\n",
       "      <td>0.000000</td>\n",
       "      <td>0.00000</td>\n",
       "      <td>8.521500</td>\n",
       "      <td>0.000000</td>\n",
       "      <td>0.000000</td>\n",
       "      <td>0.000000</td>\n",
       "      <td>805.000000</td>\n",
       "      <td>2.585100e+04</td>\n",
       "      <td>...</td>\n",
       "      <td>2.162000</td>\n",
       "      <td>6171.884000</td>\n",
       "      <td>0.500000</td>\n",
       "      <td>153.493000</td>\n",
       "      <td>5.310000</td>\n",
       "      <td>1.900000</td>\n",
       "      <td>21.400000</td>\n",
       "      <td>22.863000</td>\n",
       "      <td>1.380000</td>\n",
       "      <td>70.390000</td>\n",
       "    </tr>\n",
       "    <tr>\n",
       "      <td>50%</td>\n",
       "      <td>4.460000e+02</td>\n",
       "      <td>5.000000</td>\n",
       "      <td>9.000000</td>\n",
       "      <td>0.00000</td>\n",
       "      <td>155.458000</td>\n",
       "      <td>0.773000</td>\n",
       "      <td>2.043000</td>\n",
       "      <td>0.000000</td>\n",
       "      <td>2766.000000</td>\n",
       "      <td>1.105140e+05</td>\n",
       "      <td>...</td>\n",
       "      <td>4.458000</td>\n",
       "      <td>15183.616000</td>\n",
       "      <td>1.700000</td>\n",
       "      <td>235.954000</td>\n",
       "      <td>7.110000</td>\n",
       "      <td>6.434000</td>\n",
       "      <td>31.400000</td>\n",
       "      <td>55.182000</td>\n",
       "      <td>2.540000</td>\n",
       "      <td>75.860000</td>\n",
       "    </tr>\n",
       "    <tr>\n",
       "      <td>75%</td>\n",
       "      <td>5.066500e+03</td>\n",
       "      <td>102.000000</td>\n",
       "      <td>107.000000</td>\n",
       "      <td>2.00000</td>\n",
       "      <td>936.628000</td>\n",
       "      <td>10.572000</td>\n",
       "      <td>21.692000</td>\n",
       "      <td>0.140000</td>\n",
       "      <td>9307.000000</td>\n",
       "      <td>4.324700e+05</td>\n",
       "      <td>...</td>\n",
       "      <td>9.720000</td>\n",
       "      <td>33132.320000</td>\n",
       "      <td>15.000000</td>\n",
       "      <td>318.949000</td>\n",
       "      <td>10.080000</td>\n",
       "      <td>19.600000</td>\n",
       "      <td>40.900000</td>\n",
       "      <td>83.741000</td>\n",
       "      <td>4.210000</td>\n",
       "      <td>80.100000</td>\n",
       "    </tr>\n",
       "    <tr>\n",
       "      <td>max</td>\n",
       "      <td>1.670892e+07</td>\n",
       "      <td>284710.000000</td>\n",
       "      <td>660123.000000</td>\n",
       "      <td>10512.00000</td>\n",
       "      <td>38138.741000</td>\n",
       "      <td>4944.376000</td>\n",
       "      <td>1237.551000</td>\n",
       "      <td>200.040000</td>\n",
       "      <td>929838.000000</td>\n",
       "      <td>5.063568e+07</td>\n",
       "      <td>...</td>\n",
       "      <td>18.493000</td>\n",
       "      <td>116935.600000</td>\n",
       "      <td>77.600000</td>\n",
       "      <td>724.417000</td>\n",
       "      <td>23.360000</td>\n",
       "      <td>44.000000</td>\n",
       "      <td>78.100000</td>\n",
       "      <td>98.999000</td>\n",
       "      <td>13.800000</td>\n",
       "      <td>86.750000</td>\n",
       "    </tr>\n",
       "  </tbody>\n",
       "</table>\n",
       "<p>8 rows × 29 columns</p>\n",
       "</div>"
      ],
      "text/plain": [
       "        total_cases      new_cases   total_deaths   new_deaths  \\\n",
       "count  3.306200e+04   33062.000000   33062.000000  33062.00000   \n",
       "mean   5.091939e+04    1010.762809    2655.291634     39.93243   \n",
       "std    5.180225e+05    9309.139517   25233.329557    347.73264   \n",
       "min    0.000000e+00  -29726.000000       0.000000  -1918.00000   \n",
       "25%    2.100000e+01       0.000000       0.000000      0.00000   \n",
       "50%    4.460000e+02       5.000000       9.000000      0.00000   \n",
       "75%    5.066500e+03     102.000000     107.000000      2.00000   \n",
       "max    1.670892e+07  284710.000000  660123.000000  10512.00000   \n",
       "\n",
       "       total_cases_per_million  new_cases_per_million  \\\n",
       "count             32998.000000           32998.000000   \n",
       "mean               1103.657007              17.858746   \n",
       "std                2674.940362              62.928423   \n",
       "min                   0.000000            -437.881000   \n",
       "25%                   8.521500               0.000000   \n",
       "50%                 155.458000               0.773000   \n",
       "75%                 936.628000              10.572000   \n",
       "max               38138.741000            4944.376000   \n",
       "\n",
       "       total_deaths_per_million  new_deaths_per_million      new_tests  \\\n",
       "count              32998.000000            32998.000000   10401.000000   \n",
       "mean                  40.909829                0.533204   16320.258341   \n",
       "std                  123.250689                3.006846   59168.420750   \n",
       "min                    0.000000              -41.023000   -3743.000000   \n",
       "25%                    0.000000                0.000000     805.000000   \n",
       "50%                    2.043000                0.000000    2766.000000   \n",
       "75%                   21.692000                0.140000    9307.000000   \n",
       "max                 1237.551000              200.040000  929838.000000   \n",
       "\n",
       "        total_tests  ...  aged_70_older  gdp_per_capita  extreme_poverty  \\\n",
       "count  1.064700e+04  ...   29919.000000    29708.000000     19865.000000   \n",
       "mean   7.689958e+05  ...       5.990319    21546.066343        11.489011   \n",
       "std    3.022411e+06  ...       4.362110    20697.420278        18.736936   \n",
       "min    1.000000e+00  ...       0.526000      661.240000         0.100000   \n",
       "25%    2.585100e+04  ...       2.162000     6171.884000         0.500000   \n",
       "50%    1.105140e+05  ...       4.458000    15183.616000         1.700000   \n",
       "75%    4.324700e+05  ...       9.720000    33132.320000        15.000000   \n",
       "max    5.063568e+07  ...      18.493000   116935.600000        77.600000   \n",
       "\n",
       "       cardiovasc_death_rate  diabetes_prevalence  female_smokers  \\\n",
       "count           30083.000000         31104.000000    23877.000000   \n",
       "mean              249.517591             8.039533       10.990606   \n",
       "std               117.957827             4.116805       10.504692   \n",
       "min                79.370000             0.990000        0.100000   \n",
       "25%               153.493000             5.310000        1.900000   \n",
       "50%               235.954000             7.110000        6.434000   \n",
       "75%               318.949000            10.080000       19.600000   \n",
       "max               724.417000            23.360000       44.000000   \n",
       "\n",
       "       male_smokers  handwashing_facilities  hospital_beds_per_thousand  \\\n",
       "count  23591.000000            13764.000000                27353.000000   \n",
       "mean      32.629508               53.246010                    3.146980   \n",
       "std       13.328649               31.456423                    2.549325   \n",
       "min        7.700000                1.188000                    0.100000   \n",
       "25%       21.400000               22.863000                    1.380000   \n",
       "50%       31.400000               55.182000                    2.540000   \n",
       "75%       40.900000               83.741000                    4.210000   \n",
       "max       78.100000               98.999000                   13.800000   \n",
       "\n",
       "       life_expectancy  \n",
       "count     32951.000000  \n",
       "mean         74.244388  \n",
       "std           7.316460  \n",
       "min          53.280000  \n",
       "25%          70.390000  \n",
       "50%          75.860000  \n",
       "75%          80.100000  \n",
       "max          86.750000  \n",
       "\n",
       "[8 rows x 29 columns]"
      ]
     },
     "execution_count": 8,
     "metadata": {},
     "output_type": "execute_result"
    }
   ],
   "source": [
    "df.describe()"
   ]
  },
  {
   "cell_type": "code",
   "execution_count": 9,
   "metadata": {},
   "outputs": [
    {
     "name": "stdout",
     "output_type": "stream",
     "text": [
      "0.0        10059\n",
      "1.0         2053\n",
      "2.0          972\n",
      "3.0          805\n",
      "5.0          595\n",
      "           ...  \n",
      "7921.0         1\n",
      "6486.0         1\n",
      "5476.0         1\n",
      "3670.0         1\n",
      "13354.0        1\n",
      "Name: total_deaths, Length: 3778, dtype: int64\n"
     ]
    }
   ],
   "source": [
    "# Taking a look at the outcome variable: 'total_deaths'\n",
    "print(df['total_deaths'].value_counts())"
   ]
  },
  {
   "cell_type": "markdown",
   "metadata": {},
   "source": [
    "### Feature Selection\n",
    "#### Dropping unnecessary and redundant numerical columns before analyzing data"
   ]
  },
  {
   "cell_type": "code",
   "execution_count": 10,
   "metadata": {},
   "outputs": [
    {
     "data": {
      "text/plain": [
       "iso_code                              64\n",
       "continent                            276\n",
       "location                               0\n",
       "date                                   0\n",
       "total_cases                          355\n",
       "new_cases                            355\n",
       "total_deaths                         355\n",
       "new_deaths                           355\n",
       "total_cases_per_million              419\n",
       "new_cases_per_million                419\n",
       "total_deaths_per_million             419\n",
       "new_deaths_per_million               419\n",
       "new_tests                          23016\n",
       "total_tests                        22770\n",
       "total_tests_per_thousand           22770\n",
       "new_tests_per_thousand             23016\n",
       "new_tests_smoothed                 21897\n",
       "new_tests_smoothed_per_thousand    21897\n",
       "tests_units                        21129\n",
       "stringency_index                    6287\n",
       "population                            64\n",
       "population_density                  1507\n",
       "median_age                          3343\n",
       "aged_65_older                       3779\n",
       "aged_70_older                       3498\n",
       "gdp_per_capita                      3709\n",
       "extreme_poverty                    13552\n",
       "cardiovasc_death_rate               3334\n",
       "diabetes_prevalence                 2313\n",
       "female_smokers                      9540\n",
       "male_smokers                        9826\n",
       "handwashing_facilities             19653\n",
       "hospital_beds_per_thousand          6064\n",
       "life_expectancy                      466\n",
       "dtype: int64"
      ]
     },
     "execution_count": 10,
     "metadata": {},
     "output_type": "execute_result"
    }
   ],
   "source": [
    "df.isna().sum()"
   ]
  },
  {
   "cell_type": "markdown",
   "metadata": {},
   "source": [
    "There are a total number of 33417 observations and the following variables have more than 60% of data as missing values. \n",
    "\n",
    "new_tests, total_tests, total_tests_per_thousand, new_tests_per_thousand, new_tests_smoothed, new_tests_smoothed_per_thousand, tests_units, \n",
    "\n",
    "and the variable \"handwashing_facilities\"  has 19653 close to 60% of data as missing values.\n",
    "\n",
    "Therefore, these variables should be removed in order to avoid any bias in modeling. The variable extreme_poverty is also having 40% of its values as missing values. However, we will try to consider this variable as it has less than 50% of its missing values. \n"
   ]
  },
  {
   "cell_type": "code",
   "execution_count": 11,
   "metadata": {},
   "outputs": [],
   "source": [
    "df.drop(['new_tests', 'total_tests', 'total_tests_per_thousand', 'new_tests_per_thousand', 'new_tests_smoothed', 'new_tests_smoothed_per_thousand', 'tests_units', 'handwashing_facilities'], axis = 1, inplace = True)"
   ]
  },
  {
   "cell_type": "markdown",
   "metadata": {},
   "source": [
    "The below mentioned variables should also be removed as these are conversions per million. We would prefer to use per million numbers in general compared to just numbers, however, there are more missing values in variables using per million as conversions. Therefore, we stick to the original variables.\n",
    "\n",
    "total_cases_per_million, new_cases_per_million, total_deaths_per_million, and new_deaths_per_million"
   ]
  },
  {
   "cell_type": "code",
   "execution_count": 12,
   "metadata": {},
   "outputs": [],
   "source": [
    "df.drop(['total_cases_per_million', 'new_cases_per_million', 'total_deaths_per_million', 'new_deaths_per_million'], axis = 1, inplace = True)"
   ]
  },
  {
   "cell_type": "markdown",
   "metadata": {},
   "source": [
    "Also, total cases should include new cases and total deaths should include new deaths, Therefore, we can remove new cases and new deaths from our data to avoid redundancy."
   ]
  },
  {
   "cell_type": "code",
   "execution_count": 13,
   "metadata": {},
   "outputs": [],
   "source": [
    "df.drop(['new_cases', 'new_deaths'], axis = 1, inplace = True)"
   ]
  },
  {
   "cell_type": "markdown",
   "metadata": {},
   "source": [
    "Because Population Density is calculated using Population, we need to remove Population"
   ]
  },
  {
   "cell_type": "code",
   "execution_count": 14,
   "metadata": {},
   "outputs": [],
   "source": [
    "df.drop(['population'], axis = 1, inplace = True)"
   ]
  },
  {
   "cell_type": "markdown",
   "metadata": {},
   "source": [
    "#### Describing and Summarizing categorical variables"
   ]
  },
  {
   "cell_type": "code",
   "execution_count": 15,
   "metadata": {},
   "outputs": [
    {
     "data": {
      "text/html": [
       "<div>\n",
       "<style scoped>\n",
       "    .dataframe tbody tr th:only-of-type {\n",
       "        vertical-align: middle;\n",
       "    }\n",
       "\n",
       "    .dataframe tbody tr th {\n",
       "        vertical-align: top;\n",
       "    }\n",
       "\n",
       "    .dataframe thead th {\n",
       "        text-align: right;\n",
       "    }\n",
       "</style>\n",
       "<table border=\"1\" class=\"dataframe\">\n",
       "  <thead>\n",
       "    <tr style=\"text-align: right;\">\n",
       "      <th></th>\n",
       "      <th>iso_code</th>\n",
       "      <th>continent</th>\n",
       "      <th>location</th>\n",
       "    </tr>\n",
       "  </thead>\n",
       "  <tbody>\n",
       "    <tr>\n",
       "      <td>count</td>\n",
       "      <td>33353</td>\n",
       "      <td>33141</td>\n",
       "      <td>33417</td>\n",
       "    </tr>\n",
       "    <tr>\n",
       "      <td>unique</td>\n",
       "      <td>211</td>\n",
       "      <td>6</td>\n",
       "      <td>212</td>\n",
       "    </tr>\n",
       "    <tr>\n",
       "      <td>top</td>\n",
       "      <td>VNM</td>\n",
       "      <td>Europe</td>\n",
       "      <td>Taiwan</td>\n",
       "    </tr>\n",
       "    <tr>\n",
       "      <td>freq</td>\n",
       "      <td>212</td>\n",
       "      <td>9113</td>\n",
       "      <td>212</td>\n",
       "    </tr>\n",
       "  </tbody>\n",
       "</table>\n",
       "</div>"
      ],
      "text/plain": [
       "       iso_code continent location\n",
       "count     33353     33141    33417\n",
       "unique      211         6      212\n",
       "top         VNM    Europe   Taiwan\n",
       "freq        212      9113      212"
      ]
     },
     "execution_count": 15,
     "metadata": {},
     "output_type": "execute_result"
    }
   ],
   "source": [
    "df.describe(include = 'O')"
   ]
  },
  {
   "cell_type": "markdown",
   "metadata": {},
   "source": [
    "#### Drop specific rows\n",
    "\n",
    "Looking at the categorical variables. Some of the rows for iso_code has no values and corresponding continent also doesn't have any values. Also, the corresponding location has only \"International\" as the values. This means there is no way to track which location in these rows belongs to which continent and such. Therefore, we should remove these rows. There are only 64 such rows with no values in iso_code variables. Therefore, removing such a small data will not affect our model. "
   ]
  },
  {
   "cell_type": "code",
   "execution_count": 16,
   "metadata": {},
   "outputs": [],
   "source": [
    "df = df.dropna(how='all', subset=['iso_code'])\n",
    "df.drop('iso_code', 1, inplace = True)"
   ]
  },
  {
   "cell_type": "markdown",
   "metadata": {},
   "source": [
    "#### Looking at shape of new dataset \n",
    "\n",
    "We now have 33353 observations instead of 33417 observations and 19 variables instead of 34 variables."
   ]
  },
  {
   "cell_type": "code",
   "execution_count": 17,
   "metadata": {},
   "outputs": [
    {
     "data": {
      "text/plain": [
       "(33353, 18)"
      ]
     },
     "execution_count": 17,
     "metadata": {},
     "output_type": "execute_result"
    }
   ],
   "source": [
    "df.shape"
   ]
  },
  {
   "cell_type": "markdown",
   "metadata": {},
   "source": [
    "All the names of variables in our current data set are listed below"
   ]
  },
  {
   "cell_type": "code",
   "execution_count": 18,
   "metadata": {},
   "outputs": [
    {
     "data": {
      "text/plain": [
       "Index(['continent', 'location', 'date', 'total_cases', 'total_deaths',\n",
       "       'stringency_index', 'population_density', 'median_age', 'aged_65_older',\n",
       "       'aged_70_older', 'gdp_per_capita', 'extreme_poverty',\n",
       "       'cardiovasc_death_rate', 'diabetes_prevalence', 'female_smokers',\n",
       "       'male_smokers', 'hospital_beds_per_thousand', 'life_expectancy'],\n",
       "      dtype='object')"
      ]
     },
     "execution_count": 18,
     "metadata": {},
     "output_type": "execute_result"
    }
   ],
   "source": [
    "df.columns"
   ]
  },
  {
   "cell_type": "markdown",
   "metadata": {},
   "source": [
    "## Graphical Exploratory Analysis"
   ]
  },
  {
   "cell_type": "markdown",
   "metadata": {},
   "source": [
    "Before we go deeper into the dataset, it is good to perform some graphical exploratory analysis as we can quickly see and find issues with the data"
   ]
  },
  {
   "cell_type": "markdown",
   "metadata": {},
   "source": [
    "#### GDP"
   ]
  },
  {
   "cell_type": "code",
   "execution_count": 19,
   "metadata": {},
   "outputs": [
    {
     "name": "stderr",
     "output_type": "stream",
     "text": [
      "C:\\Users\\kamsi\\Anaconda3\\lib\\site-packages\\plotnine\\layer.py:360: PlotnineWarning: stat_bin : Removed 3645 rows containing non-finite values.\n",
      "  data = self.stat.compute_layer(data, params, layout)\n"
     ]
    },
    {
     "data": {
      "image/png": "[encoded data removed]",
      "text/plain": [
       "<Figure size 640x480 with 1 Axes>"
      ]
     },
     "metadata": {},
     "output_type": "display_data"
    },
    {
     "data": {
      "text/plain": [
       "<ggplot: (-9223371931869117448)>"
      ]
     },
     "execution_count": 19,
     "metadata": {},
     "output_type": "execute_result"
    }
   ],
   "source": [
    "(ggplot(df, aes(x='gdp_per_capita'))   \n",
    " + geom_histogram(bins=12,\n",
    "                 color =\"red\", \n",
    "                 fill =\"orange\")\n",
    " + labs(title=\"Histogram for gdp_per_capita\", x=\"gdp_per_capita\", y=\"Count\")\n",
    ")"
   ]
  },
  {
   "cell_type": "markdown",
   "metadata": {},
   "source": [
    "#### Median Age"
   ]
  },
  {
   "cell_type": "code",
   "execution_count": 20,
   "metadata": {},
   "outputs": [
    {
     "name": "stderr",
     "output_type": "stream",
     "text": [
      "C:\\Users\\kamsi\\Anaconda3\\lib\\site-packages\\plotnine\\layer.py:360: PlotnineWarning: stat_bin : Removed 3279 rows containing non-finite values.\n",
      "  data = self.stat.compute_layer(data, params, layout)\n"
     ]
    },
    {
     "data": {
      "image/png": "[encoded data removed]",
      "text/plain": [
       "<Figure size 640x480 with 1 Axes>"
      ]
     },
     "metadata": {},
     "output_type": "display_data"
    },
    {
     "data": {
      "text/plain": [
       "<ggplot: (-9223371931869052492)>"
      ]
     },
     "execution_count": 20,
     "metadata": {},
     "output_type": "execute_result"
    }
   ],
   "source": [
    "(ggplot(df, aes(x='median_age'))   \n",
    " + geom_histogram(bins=12,\n",
    "                 color =\"red\", \n",
    "                 fill =\"orange\")\n",
    " + labs(title=\"Histogram for median_age\", x=\"median_age\", y=\"Count\")\n",
    ")"
   ]
  },
  {
   "cell_type": "markdown",
   "metadata": {},
   "source": [
    "#### Number of Cases vs Deaths"
   ]
  },
  {
   "cell_type": "code",
   "execution_count": 21,
   "metadata": {},
   "outputs": [
    {
     "data": {
      "text/plain": [
       "Text(0.5, 1.0, 'Total Number of Cases vs Total Deaths')"
      ]
     },
     "execution_count": 21,
     "metadata": {},
     "output_type": "execute_result"
    },
    {
     "data": {
      "image/png": "[encoded data removed]",
      "text/plain": [
       "<Figure size 432x288 with 1 Axes>"
      ]
     },
     "metadata": {
      "needs_background": "light"
     },
     "output_type": "display_data"
    }
   ],
   "source": [
    "plt.scatter(df['total_cases'], df['total_deaths'], alpha = 0.1)\n",
    "plt.xlabel(\"Total Number of Cases\")\n",
    "plt.ylabel(\"Total Deaths\")\n",
    "plt.title(\"Total Number of Cases vs Total Deaths\")"
   ]
  },
  {
   "cell_type": "markdown",
   "metadata": {},
   "source": [
    "#### Distribution of all Numerical Variables"
   ]
  },
  {
   "cell_type": "code",
   "execution_count": 22,
   "metadata": {},
   "outputs": [
    {
     "name": "stderr",
     "output_type": "stream",
     "text": [
      "C:\\Users\\kamsi\\Anaconda3\\lib\\site-packages\\pandas\\plotting\\_matplotlib\\tools.py:307: MatplotlibDeprecationWarning: \n",
      "The rowNum attribute was deprecated in Matplotlib 3.2 and will be removed two minor releases later. Use ax.get_subplotspec().rowspan.start instead.\n",
      "  layout[ax.rowNum, ax.colNum] = ax.get_visible()\n",
      "C:\\Users\\kamsi\\Anaconda3\\lib\\site-packages\\pandas\\plotting\\_matplotlib\\tools.py:307: MatplotlibDeprecationWarning: \n",
      "The colNum attribute was deprecated in Matplotlib 3.2 and will be removed two minor releases later. Use ax.get_subplotspec().colspan.start instead.\n",
      "  layout[ax.rowNum, ax.colNum] = ax.get_visible()\n",
      "C:\\Users\\kamsi\\Anaconda3\\lib\\site-packages\\pandas\\plotting\\_matplotlib\\tools.py:313: MatplotlibDeprecationWarning: \n",
      "The rowNum attribute was deprecated in Matplotlib 3.2 and will be removed two minor releases later. Use ax.get_subplotspec().rowspan.start instead.\n",
      "  if not layout[ax.rowNum + 1, ax.colNum]:\n",
      "C:\\Users\\kamsi\\Anaconda3\\lib\\site-packages\\pandas\\plotting\\_matplotlib\\tools.py:313: MatplotlibDeprecationWarning: \n",
      "The colNum attribute was deprecated in Matplotlib 3.2 and will be removed two minor releases later. Use ax.get_subplotspec().colspan.start instead.\n",
      "  if not layout[ax.rowNum + 1, ax.colNum]:\n"
     ]
    },
    {
     "data": {
      "image/png": "[encoded data removed]",
      "text/plain": [
       "<Figure size 1440x1080 with 16 Axes>"
      ]
     },
     "metadata": {
      "needs_background": "light"
     },
     "output_type": "display_data"
    }
   ],
   "source": [
    "df.hist(bins = 50, figsize = (20,15))\n",
    "plt.show()"
   ]
  },
  {
   "cell_type": "markdown",
   "metadata": {},
   "source": [
    "## Handling Missing Values"
   ]
  },
  {
   "cell_type": "code",
   "execution_count": 23,
   "metadata": {},
   "outputs": [
    {
     "data": {
      "text/plain": [
       "continent                       212\n",
       "location                          0\n",
       "date                              0\n",
       "total_cases                     355\n",
       "total_deaths                    355\n",
       "stringency_index               6223\n",
       "population_density             1443\n",
       "median_age                     3279\n",
       "aged_65_older                  3715\n",
       "aged_70_older                  3434\n",
       "gdp_per_capita                 3645\n",
       "extreme_poverty               13488\n",
       "cardiovasc_death_rate          3270\n",
       "diabetes_prevalence            2249\n",
       "female_smokers                 9476\n",
       "male_smokers                   9762\n",
       "hospital_beds_per_thousand     6000\n",
       "life_expectancy                 402\n",
       "dtype: int64"
      ]
     },
     "execution_count": 23,
     "metadata": {},
     "output_type": "execute_result"
    }
   ],
   "source": [
    "df.isnull().sum()"
   ]
  },
  {
   "cell_type": "markdown",
   "metadata": {},
   "source": [
    "As seen from above df.isnull().sum(), there are several missing values in this dataset. Therefore, we first need to handle these missing values in numerical variables before proceeding further. We will use SimpleImputer for this."
   ]
  },
  {
   "cell_type": "code",
   "execution_count": 24,
   "metadata": {},
   "outputs": [],
   "source": [
    "columns = ['total_cases', 'total_deaths', 'stringency_index', 'population_density', 'median_age', 'aged_65_older', 'aged_70_older', 'gdp_per_capita', 'extreme_poverty', 'cardiovasc_death_rate', 'diabetes_prevalence', 'female_smokers', 'male_smokers', 'hospital_beds_per_thousand', 'life_expectancy']\n",
    "# Impute missing values using Imputer in sklearn.preprocessing\n",
    "from sklearn.impute import SimpleImputer \n",
    "imputer = SimpleImputer(missing_values=np.nan, strategy='median')\n",
    "imputer.fit(df[columns])\n",
    "df1 = pd.DataFrame(data=imputer.transform(df[columns]) , columns=df[columns].columns)"
   ]
  },
  {
   "cell_type": "code",
   "execution_count": 25,
   "metadata": {},
   "outputs": [
    {
     "name": "stderr",
     "output_type": "stream",
     "text": [
      "C:\\Users\\kamsi\\Anaconda3\\lib\\site-packages\\ipykernel_launcher.py:2: SettingWithCopyWarning: \n",
      "A value is trying to be set on a copy of a slice from a DataFrame.\n",
      "Try using .loc[row_indexer,col_indexer] = value instead\n",
      "\n",
      "See the caveats in the documentation: http://pandas.pydata.org/pandas-docs/stable/user_guide/indexing.html#returning-a-view-versus-a-copy\n",
      "  \n"
     ]
    }
   ],
   "source": [
    "df = df[['continent', 'location', 'date']]\n",
    "df['tmp'] = 1\n",
    "df1['tmp'] = 1\n",
    "\n",
    "df = pd.concat([df, df1], axis=1, join='inner')\n",
    "df = df.drop('tmp', axis=1)"
   ]
  },
  {
   "cell_type": "code",
   "execution_count": 26,
   "metadata": {},
   "outputs": [
    {
     "data": {
      "text/html": [
       "<div>\n",
       "<style scoped>\n",
       "    .dataframe tbody tr th:only-of-type {\n",
       "        vertical-align: middle;\n",
       "    }\n",
       "\n",
       "    .dataframe tbody tr th {\n",
       "        vertical-align: top;\n",
       "    }\n",
       "\n",
       "    .dataframe thead th {\n",
       "        text-align: right;\n",
       "    }\n",
       "</style>\n",
       "<table border=\"1\" class=\"dataframe\">\n",
       "  <thead>\n",
       "    <tr style=\"text-align: right;\">\n",
       "      <th></th>\n",
       "      <th>continent</th>\n",
       "      <th>location</th>\n",
       "      <th>date</th>\n",
       "      <th>total_cases</th>\n",
       "      <th>total_deaths</th>\n",
       "      <th>stringency_index</th>\n",
       "      <th>population_density</th>\n",
       "      <th>median_age</th>\n",
       "      <th>aged_65_older</th>\n",
       "      <th>aged_70_older</th>\n",
       "      <th>gdp_per_capita</th>\n",
       "      <th>extreme_poverty</th>\n",
       "      <th>cardiovasc_death_rate</th>\n",
       "      <th>diabetes_prevalence</th>\n",
       "      <th>female_smokers</th>\n",
       "      <th>male_smokers</th>\n",
       "      <th>hospital_beds_per_thousand</th>\n",
       "      <th>life_expectancy</th>\n",
       "    </tr>\n",
       "  </thead>\n",
       "  <tbody>\n",
       "    <tr>\n",
       "      <td>0</td>\n",
       "      <td>Asia</td>\n",
       "      <td>Afghanistan</td>\n",
       "      <td>2019-12-31</td>\n",
       "      <td>0.0</td>\n",
       "      <td>0.0</td>\n",
       "      <td>67.59</td>\n",
       "      <td>54.422</td>\n",
       "      <td>18.6</td>\n",
       "      <td>2.581</td>\n",
       "      <td>1.337</td>\n",
       "      <td>1803.987</td>\n",
       "      <td>1.7</td>\n",
       "      <td>597.029</td>\n",
       "      <td>9.59</td>\n",
       "      <td>6.434</td>\n",
       "      <td>31.4</td>\n",
       "      <td>0.5</td>\n",
       "      <td>64.83</td>\n",
       "    </tr>\n",
       "    <tr>\n",
       "      <td>1</td>\n",
       "      <td>Asia</td>\n",
       "      <td>Afghanistan</td>\n",
       "      <td>2020-01-01</td>\n",
       "      <td>0.0</td>\n",
       "      <td>0.0</td>\n",
       "      <td>0.00</td>\n",
       "      <td>54.422</td>\n",
       "      <td>18.6</td>\n",
       "      <td>2.581</td>\n",
       "      <td>1.337</td>\n",
       "      <td>1803.987</td>\n",
       "      <td>1.7</td>\n",
       "      <td>597.029</td>\n",
       "      <td>9.59</td>\n",
       "      <td>6.434</td>\n",
       "      <td>31.4</td>\n",
       "      <td>0.5</td>\n",
       "      <td>64.83</td>\n",
       "    </tr>\n",
       "    <tr>\n",
       "      <td>2</td>\n",
       "      <td>Asia</td>\n",
       "      <td>Afghanistan</td>\n",
       "      <td>2020-01-02</td>\n",
       "      <td>0.0</td>\n",
       "      <td>0.0</td>\n",
       "      <td>0.00</td>\n",
       "      <td>54.422</td>\n",
       "      <td>18.6</td>\n",
       "      <td>2.581</td>\n",
       "      <td>1.337</td>\n",
       "      <td>1803.987</td>\n",
       "      <td>1.7</td>\n",
       "      <td>597.029</td>\n",
       "      <td>9.59</td>\n",
       "      <td>6.434</td>\n",
       "      <td>31.4</td>\n",
       "      <td>0.5</td>\n",
       "      <td>64.83</td>\n",
       "    </tr>\n",
       "    <tr>\n",
       "      <td>3</td>\n",
       "      <td>Asia</td>\n",
       "      <td>Afghanistan</td>\n",
       "      <td>2020-01-03</td>\n",
       "      <td>0.0</td>\n",
       "      <td>0.0</td>\n",
       "      <td>0.00</td>\n",
       "      <td>54.422</td>\n",
       "      <td>18.6</td>\n",
       "      <td>2.581</td>\n",
       "      <td>1.337</td>\n",
       "      <td>1803.987</td>\n",
       "      <td>1.7</td>\n",
       "      <td>597.029</td>\n",
       "      <td>9.59</td>\n",
       "      <td>6.434</td>\n",
       "      <td>31.4</td>\n",
       "      <td>0.5</td>\n",
       "      <td>64.83</td>\n",
       "    </tr>\n",
       "    <tr>\n",
       "      <td>4</td>\n",
       "      <td>Asia</td>\n",
       "      <td>Afghanistan</td>\n",
       "      <td>2020-01-04</td>\n",
       "      <td>0.0</td>\n",
       "      <td>0.0</td>\n",
       "      <td>0.00</td>\n",
       "      <td>54.422</td>\n",
       "      <td>18.6</td>\n",
       "      <td>2.581</td>\n",
       "      <td>1.337</td>\n",
       "      <td>1803.987</td>\n",
       "      <td>1.7</td>\n",
       "      <td>597.029</td>\n",
       "      <td>9.59</td>\n",
       "      <td>6.434</td>\n",
       "      <td>31.4</td>\n",
       "      <td>0.5</td>\n",
       "      <td>64.83</td>\n",
       "    </tr>\n",
       "  </tbody>\n",
       "</table>\n",
       "</div>"
      ],
      "text/plain": [
       "  continent     location       date  total_cases  total_deaths  \\\n",
       "0      Asia  Afghanistan 2019-12-31          0.0           0.0   \n",
       "1      Asia  Afghanistan 2020-01-01          0.0           0.0   \n",
       "2      Asia  Afghanistan 2020-01-02          0.0           0.0   \n",
       "3      Asia  Afghanistan 2020-01-03          0.0           0.0   \n",
       "4      Asia  Afghanistan 2020-01-04          0.0           0.0   \n",
       "\n",
       "   stringency_index  population_density  median_age  aged_65_older  \\\n",
       "0             67.59              54.422        18.6          2.581   \n",
       "1              0.00              54.422        18.6          2.581   \n",
       "2              0.00              54.422        18.6          2.581   \n",
       "3              0.00              54.422        18.6          2.581   \n",
       "4              0.00              54.422        18.6          2.581   \n",
       "\n",
       "   aged_70_older  gdp_per_capita  extreme_poverty  cardiovasc_death_rate  \\\n",
       "0          1.337        1803.987              1.7                597.029   \n",
       "1          1.337        1803.987              1.7                597.029   \n",
       "2          1.337        1803.987              1.7                597.029   \n",
       "3          1.337        1803.987              1.7                597.029   \n",
       "4          1.337        1803.987              1.7                597.029   \n",
       "\n",
       "   diabetes_prevalence  female_smokers  male_smokers  \\\n",
       "0                 9.59           6.434          31.4   \n",
       "1                 9.59           6.434          31.4   \n",
       "2                 9.59           6.434          31.4   \n",
       "3                 9.59           6.434          31.4   \n",
       "4                 9.59           6.434          31.4   \n",
       "\n",
       "   hospital_beds_per_thousand  life_expectancy  \n",
       "0                         0.5            64.83  \n",
       "1                         0.5            64.83  \n",
       "2                         0.5            64.83  \n",
       "3                         0.5            64.83  \n",
       "4                         0.5            64.83  "
      ]
     },
     "execution_count": 26,
     "metadata": {},
     "output_type": "execute_result"
    }
   ],
   "source": [
    "df.head()"
   ]
  },
  {
   "cell_type": "code",
   "execution_count": 27,
   "metadata": {},
   "outputs": [
    {
     "name": "stderr",
     "output_type": "stream",
     "text": [
      "C:\\Users\\kamsi\\Anaconda3\\lib\\site-packages\\pandas\\plotting\\_matplotlib\\tools.py:307: MatplotlibDeprecationWarning: \n",
      "The rowNum attribute was deprecated in Matplotlib 3.2 and will be removed two minor releases later. Use ax.get_subplotspec().rowspan.start instead.\n",
      "  layout[ax.rowNum, ax.colNum] = ax.get_visible()\n",
      "C:\\Users\\kamsi\\Anaconda3\\lib\\site-packages\\pandas\\plotting\\_matplotlib\\tools.py:307: MatplotlibDeprecationWarning: \n",
      "The colNum attribute was deprecated in Matplotlib 3.2 and will be removed two minor releases later. Use ax.get_subplotspec().colspan.start instead.\n",
      "  layout[ax.rowNum, ax.colNum] = ax.get_visible()\n",
      "C:\\Users\\kamsi\\Anaconda3\\lib\\site-packages\\pandas\\plotting\\_matplotlib\\tools.py:313: MatplotlibDeprecationWarning: \n",
      "The rowNum attribute was deprecated in Matplotlib 3.2 and will be removed two minor releases later. Use ax.get_subplotspec().rowspan.start instead.\n",
      "  if not layout[ax.rowNum + 1, ax.colNum]:\n",
      "C:\\Users\\kamsi\\Anaconda3\\lib\\site-packages\\pandas\\plotting\\_matplotlib\\tools.py:313: MatplotlibDeprecationWarning: \n",
      "The colNum attribute was deprecated in Matplotlib 3.2 and will be removed two minor releases later. Use ax.get_subplotspec().colspan.start instead.\n",
      "  if not layout[ax.rowNum + 1, ax.colNum]:\n"
     ]
    },
    {
     "data": {
      "image/png": "[encoded data removed]",
      "text/plain": [
       "<Figure size 1440x1080 with 16 Axes>"
      ]
     },
     "metadata": {
      "needs_background": "light"
     },
     "output_type": "display_data"
    }
   ],
   "source": [
    "df.hist(bins = 50, figsize = (20,15))\n",
    "plt.show()"
   ]
  },
  {
   "cell_type": "markdown",
   "metadata": {},
   "source": [
    "## Analysis for Daily Cases"
   ]
  },
  {
   "cell_type": "code",
   "execution_count": 28,
   "metadata": {},
   "outputs": [],
   "source": [
    "datewise = df.groupby([\"date\"]).agg({\"total_cases\" : \"sum\", \"total_deaths\" : \"sum\"})"
   ]
  },
  {
   "cell_type": "code",
   "execution_count": 29,
   "metadata": {},
   "outputs": [
    {
     "name": "stdout",
     "output_type": "stream",
     "text": [
      "Total Number of Cases:  33136534.0\n",
      "Total Number of Deaths:  1291803.0\n",
      "Total Number of Active Cases  31844731.0\n"
     ]
    }
   ],
   "source": [
    "print(\"Total Number of Cases: \", datewise[\"total_cases\"].iloc[-1])\n",
    "print(\"Total Number of Deaths: \", datewise[\"total_deaths\"].iloc[-1])\n",
    "print(\"Total Number of Active Cases \", (datewise[\"total_cases\"].iloc[-1] - datewise[\"total_deaths\"].iloc[-1]))"
   ]
  },
  {
   "cell_type": "code",
   "execution_count": 30,
   "metadata": {},
   "outputs": [
    {
     "data": {
      "image/png": "[encoded data removed]",
      "text/plain": [
       "<Figure size 1440x360 with 1 Axes>"
      ]
     },
     "metadata": {
      "needs_background": "light"
     },
     "output_type": "display_data"
    }
   ],
   "source": [
    "plt.figure(figsize = (20, 5))\n",
    "sns.barplot(x = datewise.index.date, y = datewise[\"total_cases\"] - datewise[\"total_deaths\"])\n",
    "plt.title(\"Active Cases\")\n",
    "plt.xticks(rotation = 90)\n",
    "plt.show()"
   ]
  },
  {
   "cell_type": "markdown",
   "metadata": {},
   "source": [
    "Sadly, but as expected, the number of cases have been increasing as can be seen from the above plot."
   ]
  },
  {
   "cell_type": "code",
   "execution_count": 31,
   "metadata": {},
   "outputs": [
    {
     "data": {
      "image/png": "[encoded data removed]",
      "text/plain": [
       "<Figure size 1440x360 with 1 Axes>"
      ]
     },
     "metadata": {
      "needs_background": "light"
     },
     "output_type": "display_data"
    }
   ],
   "source": [
    "plt.figure(figsize = (20, 5))\n",
    "sns.barplot(x = datewise.index.date, y = datewise[\"total_deaths\"])\n",
    "plt.title(\"Total Deaths\")\n",
    "plt.xticks(rotation = 90)\n",
    "plt.show()"
   ]
  },
  {
   "cell_type": "markdown",
   "metadata": {},
   "source": [
    "And we also have increasing number of deaths"
   ]
  },
  {
   "cell_type": "markdown",
   "metadata": {},
   "source": [
    "## Analysis for Weekly Cases"
   ]
  },
  {
   "cell_type": "code",
   "execution_count": 32,
   "metadata": {},
   "outputs": [
    {
     "data": {
      "text/plain": [
       "Text(0.5, 1.0, 'Weekly Analysis of Cases')"
      ]
     },
     "execution_count": 32,
     "metadata": {},
     "output_type": "execute_result"
    },
    {
     "data": {
      "image/png": "[encoded data removed]",
      "text/plain": [
       "<Figure size 720x360 with 1 Axes>"
      ]
     },
     "metadata": {
      "needs_background": "light"
     },
     "output_type": "display_data"
    }
   ],
   "source": [
    "datewise[\"WeekofYear\"] = datewise.index.weekofyear\n",
    "num_week = []\n",
    "weekly_cases = []\n",
    "weekly_deaths = []\n",
    "\n",
    "w = 1\n",
    "for i in list(datewise[\"WeekofYear\"].unique()):\n",
    "    weekly_cases.append(datewise[datewise[\"WeekofYear\"] == i][\"total_cases\"].iloc[-1])\n",
    "    weekly_deaths.append(datewise[datewise[\"WeekofYear\"] == i][\"total_deaths\"].iloc[-1])    \n",
    "    num_week.append(w)\n",
    "    w = w+1\n",
    "    \n",
    "plt.figure(figsize = (10, 5))\n",
    "plt.plot(num_week, weekly_cases, label = \"Weekly Cases\", linewidth = 3)\n",
    "plt.plot(num_week, weekly_deaths, label = \"Weekly Deaths\", linewidth = 3)\n",
    "plt.xlabel(\"Number of Week\")\n",
    "plt.ylabel(\"Number of Cases\")\n",
    "plt.title(\"Weekly Analysis of Cases\")"
   ]
  },
  {
   "cell_type": "code",
   "execution_count": 33,
   "metadata": {},
   "outputs": [
    {
     "data": {
      "image/png": "[encoded data removed]",
      "text/plain": [
       "<Figure size 864x288 with 2 Axes>"
      ]
     },
     "metadata": {
      "needs_background": "light"
     },
     "output_type": "display_data"
    }
   ],
   "source": [
    "fig, (ax1, ax2) = plt.subplots(1, 2, figsize = (12, 4))\n",
    "sns.barplot(x = num_week, y = pd.Series(weekly_cases).diff().fillna(0), ax = ax1)\n",
    "sns.barplot(x = num_week, y = pd.Series(weekly_deaths).diff().fillna(0), ax = ax2)\n",
    "ax1.set_xlabel(\"Number of Week\")\n",
    "ax2.set_xlabel(\"Number of Week\")\n",
    "ax1.set_ylabel(\"Total Number of Cases\")\n",
    "ax2.set_ylabel(\"Total Number of Deaths\")\n",
    "ax1.set_title(\"Weekly Number of Cases\")\n",
    "ax2.set_title(\"Weekly Deaths\")\n",
    "plt.show()"
   ]
  },
  {
   "cell_type": "code",
   "execution_count": 34,
   "metadata": {},
   "outputs": [
    {
     "name": "stdout",
     "output_type": "stream",
     "text": [
      "Average number of cases increasing everyday:  156304.0\n",
      "Average number of deaths increasing everyday:  6093.0\n"
     ]
    },
    {
     "name": "stderr",
     "output_type": "stream",
     "text": [
      "C:\\Users\\kamsi\\Anaconda3\\lib\\site-packages\\pandas\\plotting\\_matplotlib\\converter.py:245: MatplotlibDeprecationWarning: \n",
      "The epoch2num function was deprecated in Matplotlib 3.3 and will be removed two minor releases later.\n",
      "  base = dates.epoch2num(dt.asi8 / 1.0e9)\n"
     ]
    },
    {
     "data": {
      "image/png": "[encoded data removed]",
      "text/plain": [
       "<Figure size 720x360 with 1 Axes>"
      ]
     },
     "metadata": {
      "needs_background": "light"
     },
     "output_type": "display_data"
    }
   ],
   "source": [
    "from pandas.plotting import register_matplotlib_converters\n",
    "register_matplotlib_converters()\n",
    "    \n",
    "print(\"Average number of cases increasing everyday: \", np.round(datewise[\"total_cases\"].diff().fillna(0).mean()))\n",
    "print(\"Average number of deaths increasing everyday: \", np.round(datewise[\"total_deaths\"].diff().fillna(0).mean()))\n",
    "\n",
    "plt.figure(figsize = (10, 5))\n",
    "plt.plot(datewise[\"total_cases\"].diff().fillna(0), label = \"Daily increase in total number of cases\", linewidth = 3)\n",
    "plt.plot(datewise[\"total_deaths\"].diff().fillna(0), label = \"Daily increase in total number of deaths\", linewidth = 3)\n",
    "plt.xlabel(\"Daily\")\n",
    "plt.ylabel(\"Daily Increase\")\n",
    "plt.title(\"Daily Increase in Cases\")\n",
    "plt.legend()\n",
    "plt.xticks(rotation = 90)\n",
    "plt.show()"
   ]
  },
  {
   "cell_type": "markdown",
   "metadata": {},
   "source": [
    "## Analysis by Continent"
   ]
  },
  {
   "cell_type": "markdown",
   "metadata": {},
   "source": [
    "### Number of Observations per Continent"
   ]
  },
  {
   "cell_type": "code",
   "execution_count": 35,
   "metadata": {},
   "outputs": [
    {
     "data": {
      "text/plain": [
       "continent\n",
       "Africa           7479\n",
       "Asia             8274\n",
       "Europe           9113\n",
       "North America    5047\n",
       "Oceania          1253\n",
       "South America    1975\n",
       "dtype: int64"
      ]
     },
     "execution_count": 35,
     "metadata": {},
     "output_type": "execute_result"
    }
   ],
   "source": [
    "df.groupby('continent').size()"
   ]
  },
  {
   "cell_type": "code",
   "execution_count": 36,
   "metadata": {},
   "outputs": [
    {
     "data": {
      "text/plain": [
       "<AxesSubplot:xlabel='continent', ylabel='count'>"
      ]
     },
     "execution_count": 36,
     "metadata": {},
     "output_type": "execute_result"
    },
    {
     "data": {
      "image/png": "[encoded data removed]",
      "text/plain": [
       "<Figure size 432x288 with 1 Axes>"
      ]
     },
     "metadata": {
      "needs_background": "light"
     },
     "output_type": "display_data"
    }
   ],
   "source": [
    "sns.countplot(x='continent',data=df, palette=\"OrRd\")"
   ]
  },
  {
   "cell_type": "markdown",
   "metadata": {},
   "source": [
    "The above graph shows that Europe has majority number of observations in the data"
   ]
  },
  {
   "cell_type": "markdown",
   "metadata": {},
   "source": [
    "### Exploring Total Number of Cases and Total Number of Deaths by Continent"
   ]
  },
  {
   "cell_type": "code",
   "execution_count": 37,
   "metadata": {},
   "outputs": [],
   "source": [
    "by_continent = df[df[\"date\"] == df['date'].max()].groupby([\"continent\"]).agg({\"total_cases\" : \"sum\", \"total_deaths\" : \"sum\", \"gdp_per_capita\" : \"sum\", \"population_density\" : \"sum\"})"
   ]
  },
  {
   "cell_type": "code",
   "execution_count": 38,
   "metadata": {},
   "outputs": [],
   "source": [
    "by_continent[\"deaths %\"] = (by_continent[\"total_deaths\"]/by_continent[\"total_cases\"])*100"
   ]
  },
  {
   "cell_type": "code",
   "execution_count": 39,
   "metadata": {},
   "outputs": [
    {
     "data": {
      "text/html": [
       "<div>\n",
       "<style scoped>\n",
       "    .dataframe tbody tr th:only-of-type {\n",
       "        vertical-align: middle;\n",
       "    }\n",
       "\n",
       "    .dataframe tbody tr th {\n",
       "        vertical-align: top;\n",
       "    }\n",
       "\n",
       "    .dataframe thead th {\n",
       "        text-align: right;\n",
       "    }\n",
       "</style>\n",
       "<table border=\"1\" class=\"dataframe\">\n",
       "  <thead>\n",
       "    <tr style=\"text-align: right;\">\n",
       "      <th></th>\n",
       "      <th>total_cases</th>\n",
       "      <th>total_deaths</th>\n",
       "      <th>gdp_per_capita</th>\n",
       "      <th>population_density</th>\n",
       "      <th>deaths %</th>\n",
       "    </tr>\n",
       "    <tr>\n",
       "      <th>continent</th>\n",
       "      <th></th>\n",
       "      <th></th>\n",
       "      <th></th>\n",
       "      <th></th>\n",
       "      <th></th>\n",
       "    </tr>\n",
       "  </thead>\n",
       "  <tbody>\n",
       "    <tr>\n",
       "      <td>Africa</td>\n",
       "      <td>873331.0</td>\n",
       "      <td>18471.0</td>\n",
       "      <td>318890.600</td>\n",
       "      <td>5666.444</td>\n",
       "      <td>2.115006</td>\n",
       "    </tr>\n",
       "    <tr>\n",
       "      <td>Asia</td>\n",
       "      <td>4053864.0</td>\n",
       "      <td>92728.0</td>\n",
       "      <td>1006523.217</td>\n",
       "      <td>19763.506</td>\n",
       "      <td>2.287398</td>\n",
       "    </tr>\n",
       "    <tr>\n",
       "      <td>Europe</td>\n",
       "      <td>2495240.0</td>\n",
       "      <td>173495.0</td>\n",
       "      <td>1503526.155</td>\n",
       "      <td>30260.613</td>\n",
       "      <td>6.953039</td>\n",
       "    </tr>\n",
       "    <tr>\n",
       "      <td>North America</td>\n",
       "      <td>5146329.0</td>\n",
       "      <td>209663.0</td>\n",
       "      <td>721344.124</td>\n",
       "      <td>9200.679</td>\n",
       "      <td>4.074030</td>\n",
       "    </tr>\n",
       "    <tr>\n",
       "      <td>Oceania</td>\n",
       "      <td>17078.0</td>\n",
       "      <td>197.0</td>\n",
       "      <td>153995.186</td>\n",
       "      <td>605.862</td>\n",
       "      <td>1.153531</td>\n",
       "    </tr>\n",
       "  </tbody>\n",
       "</table>\n",
       "</div>"
      ],
      "text/plain": [
       "               total_cases  total_deaths  gdp_per_capita  population_density  \\\n",
       "continent                                                                      \n",
       "Africa            873331.0       18471.0      318890.600            5666.444   \n",
       "Asia             4053864.0       92728.0     1006523.217           19763.506   \n",
       "Europe           2495240.0      173495.0     1503526.155           30260.613   \n",
       "North America    5146329.0      209663.0      721344.124            9200.679   \n",
       "Oceania            17078.0         197.0      153995.186             605.862   \n",
       "\n",
       "               deaths %  \n",
       "continent                \n",
       "Africa         2.115006  \n",
       "Asia           2.287398  \n",
       "Europe         6.953039  \n",
       "North America  4.074030  \n",
       "Oceania        1.153531  "
      ]
     },
     "execution_count": 39,
     "metadata": {},
     "output_type": "execute_result"
    }
   ],
   "source": [
    "by_continent.head()"
   ]
  },
  {
   "cell_type": "code",
   "execution_count": 40,
   "metadata": {},
   "outputs": [
    {
     "data": {
      "image/png": "[encoded data removed]",
      "text/plain": [
       "<Figure size 1800x720 with 2 Axes>"
      ]
     },
     "metadata": {
      "needs_background": "light"
     },
     "output_type": "display_data"
    }
   ],
   "source": [
    "fig, (ax1, ax2) = plt.subplots(1, 2, figsize = (25, 10))\n",
    "top_total_cases = by_continent.sort_values([\"total_cases\"], ascending = False).head(10)\n",
    "top_total_deaths = by_continent.sort_values([\"deaths %\"], ascending = False).head(10)\n",
    "sns.barplot(x = top_total_cases[\"total_cases\"], y = top_total_cases.index, ax = ax1)\n",
    "ax1.set_title(\"Top Continents - Total Number of Cases\")\n",
    "sns.barplot(x = top_total_deaths[\"deaths %\"], y = top_total_deaths.index, ax = ax2)\n",
    "ax2.set_title(\"Top Continents - Total Percentage of Deaths\")\n",
    "\n",
    "plt.show()"
   ]
  },
  {
   "cell_type": "markdown",
   "metadata": {},
   "source": [
    "From the above charts, it is clearly seen that North America has the highest number of cases and second highest percentage of deaths. South America ranks number third in total number of cases and in total percentage of deaths. Surprisingly, Asia has second highest number of cases and less percentage of deaths (only 2.2%). This might be due to several factors. But One of thge reasons can be the inaccuracy in reporting the number of cases/deaths and another reason can be their stronger immune system. Europe also surprisingly has very less number of cases, but ranks number one in total percentage of deaths. Again, there can be several factors associated with this, however, one reason can be Europe is not taking as good of a precaution as some other continents."
   ]
  },
  {
   "cell_type": "markdown",
   "metadata": {},
   "source": [
    "### Exploring Continents by GDP"
   ]
  },
  {
   "cell_type": "code",
   "execution_count": 41,
   "metadata": {},
   "outputs": [
    {
     "data": {
      "image/png": "[encoded data removed]",
      "text/plain": [
       "<Figure size 720x432 with 1 Axes>"
      ]
     },
     "metadata": {
      "needs_background": "light"
     },
     "output_type": "display_data"
    }
   ],
   "source": [
    "plt.figure(figsize=(10,6))\n",
    "ax = sns.boxplot(x=\"continent\", y=\"gdp_per_capita\", data=df, showfliers=False)"
   ]
  },
  {
   "cell_type": "markdown",
   "metadata": {},
   "source": [
    "### Exploring population density per continent"
   ]
  },
  {
   "cell_type": "markdown",
   "metadata": {},
   "source": [
    "The below chart shows that the population density is highest in North America followed by Asia, Europe, Africa, Oceana, and last South America. Therefore, even though Europe seem to have highest number of deaths and North America among the least number of deaths, it is important to consider that North America has higher population density compared to Europe.  "
   ]
  },
  {
   "cell_type": "code",
   "execution_count": 42,
   "metadata": {},
   "outputs": [
    {
     "data": {
      "image/png": "[encoded data removed]",
      "text/plain": [
       "<Figure size 720x432 with 1 Axes>"
      ]
     },
     "metadata": {
      "needs_background": "light"
     },
     "output_type": "display_data"
    }
   ],
   "source": [
    "plt.figure(figsize=(10,6))\n",
    "ax = sns.boxplot(x=\"continent\", y=\"population_density\", data=df, showfliers=False)"
   ]
  },
  {
   "cell_type": "markdown",
   "metadata": {},
   "source": [
    "The above two boxplots show that Europe and Oceana are richest continents of all. Oceana has least population density from below chart and that's probably why less number of cases leading to lesser number of deaths. However, Europe on the other hand, is among the richest continents, ranks number third in population density and ranks 4th in total number of cases, and still has the highest number of total deaths. So, it will be interesting to study Europe among all the continents and help them predict total number of deaths ahead of time. This will help Europe in managing the situation better to some extent."
   ]
  },
  {
   "cell_type": "markdown",
   "metadata": {},
   "source": [
    "### Studying Europe"
   ]
  },
  {
   "cell_type": "code",
   "execution_count": 43,
   "metadata": {},
   "outputs": [
    {
     "data": {
      "text/html": [
       "<div>\n",
       "<style scoped>\n",
       "    .dataframe tbody tr th:only-of-type {\n",
       "        vertical-align: middle;\n",
       "    }\n",
       "\n",
       "    .dataframe tbody tr th {\n",
       "        vertical-align: top;\n",
       "    }\n",
       "\n",
       "    .dataframe thead th {\n",
       "        text-align: right;\n",
       "    }\n",
       "</style>\n",
       "<table border=\"1\" class=\"dataframe\">\n",
       "  <thead>\n",
       "    <tr style=\"text-align: right;\">\n",
       "      <th></th>\n",
       "      <th>location</th>\n",
       "      <th>date</th>\n",
       "      <th>total_cases</th>\n",
       "      <th>total_deaths</th>\n",
       "      <th>stringency_index</th>\n",
       "      <th>population_density</th>\n",
       "      <th>median_age</th>\n",
       "      <th>aged_65_older</th>\n",
       "      <th>aged_70_older</th>\n",
       "      <th>gdp_per_capita</th>\n",
       "      <th>extreme_poverty</th>\n",
       "      <th>cardiovasc_death_rate</th>\n",
       "      <th>diabetes_prevalence</th>\n",
       "      <th>female_smokers</th>\n",
       "      <th>male_smokers</th>\n",
       "      <th>hospital_beds_per_thousand</th>\n",
       "      <th>life_expectancy</th>\n",
       "    </tr>\n",
       "  </thead>\n",
       "  <tbody>\n",
       "    <tr>\n",
       "      <td>202</td>\n",
       "      <td>Albania</td>\n",
       "      <td>2020-03-09</td>\n",
       "      <td>2.0</td>\n",
       "      <td>0.0</td>\n",
       "      <td>36.11</td>\n",
       "      <td>104.871</td>\n",
       "      <td>38.0</td>\n",
       "      <td>13.188</td>\n",
       "      <td>8.643</td>\n",
       "      <td>11803.431</td>\n",
       "      <td>1.1</td>\n",
       "      <td>304.195</td>\n",
       "      <td>10.08</td>\n",
       "      <td>7.1</td>\n",
       "      <td>51.2</td>\n",
       "      <td>2.89</td>\n",
       "      <td>78.57</td>\n",
       "    </tr>\n",
       "    <tr>\n",
       "      <td>203</td>\n",
       "      <td>Albania</td>\n",
       "      <td>2020-03-10</td>\n",
       "      <td>6.0</td>\n",
       "      <td>0.0</td>\n",
       "      <td>41.67</td>\n",
       "      <td>104.871</td>\n",
       "      <td>38.0</td>\n",
       "      <td>13.188</td>\n",
       "      <td>8.643</td>\n",
       "      <td>11803.431</td>\n",
       "      <td>1.1</td>\n",
       "      <td>304.195</td>\n",
       "      <td>10.08</td>\n",
       "      <td>7.1</td>\n",
       "      <td>51.2</td>\n",
       "      <td>2.89</td>\n",
       "      <td>78.57</td>\n",
       "    </tr>\n",
       "    <tr>\n",
       "      <td>204</td>\n",
       "      <td>Albania</td>\n",
       "      <td>2020-03-11</td>\n",
       "      <td>10.0</td>\n",
       "      <td>0.0</td>\n",
       "      <td>51.85</td>\n",
       "      <td>104.871</td>\n",
       "      <td>38.0</td>\n",
       "      <td>13.188</td>\n",
       "      <td>8.643</td>\n",
       "      <td>11803.431</td>\n",
       "      <td>1.1</td>\n",
       "      <td>304.195</td>\n",
       "      <td>10.08</td>\n",
       "      <td>7.1</td>\n",
       "      <td>51.2</td>\n",
       "      <td>2.89</td>\n",
       "      <td>78.57</td>\n",
       "    </tr>\n",
       "    <tr>\n",
       "      <td>205</td>\n",
       "      <td>Albania</td>\n",
       "      <td>2020-03-12</td>\n",
       "      <td>11.0</td>\n",
       "      <td>1.0</td>\n",
       "      <td>51.85</td>\n",
       "      <td>104.871</td>\n",
       "      <td>38.0</td>\n",
       "      <td>13.188</td>\n",
       "      <td>8.643</td>\n",
       "      <td>11803.431</td>\n",
       "      <td>1.1</td>\n",
       "      <td>304.195</td>\n",
       "      <td>10.08</td>\n",
       "      <td>7.1</td>\n",
       "      <td>51.2</td>\n",
       "      <td>2.89</td>\n",
       "      <td>78.57</td>\n",
       "    </tr>\n",
       "    <tr>\n",
       "      <td>206</td>\n",
       "      <td>Albania</td>\n",
       "      <td>2020-03-13</td>\n",
       "      <td>23.0</td>\n",
       "      <td>1.0</td>\n",
       "      <td>78.70</td>\n",
       "      <td>104.871</td>\n",
       "      <td>38.0</td>\n",
       "      <td>13.188</td>\n",
       "      <td>8.643</td>\n",
       "      <td>11803.431</td>\n",
       "      <td>1.1</td>\n",
       "      <td>304.195</td>\n",
       "      <td>10.08</td>\n",
       "      <td>7.1</td>\n",
       "      <td>51.2</td>\n",
       "      <td>2.89</td>\n",
       "      <td>78.57</td>\n",
       "    </tr>\n",
       "  </tbody>\n",
       "</table>\n",
       "</div>"
      ],
      "text/plain": [
       "    location       date  total_cases  total_deaths  stringency_index  \\\n",
       "202  Albania 2020-03-09          2.0           0.0             36.11   \n",
       "203  Albania 2020-03-10          6.0           0.0             41.67   \n",
       "204  Albania 2020-03-11         10.0           0.0             51.85   \n",
       "205  Albania 2020-03-12         11.0           1.0             51.85   \n",
       "206  Albania 2020-03-13         23.0           1.0             78.70   \n",
       "\n",
       "     population_density  median_age  aged_65_older  aged_70_older  \\\n",
       "202             104.871        38.0         13.188          8.643   \n",
       "203             104.871        38.0         13.188          8.643   \n",
       "204             104.871        38.0         13.188          8.643   \n",
       "205             104.871        38.0         13.188          8.643   \n",
       "206             104.871        38.0         13.188          8.643   \n",
       "\n",
       "     gdp_per_capita  extreme_poverty  cardiovasc_death_rate  \\\n",
       "202       11803.431              1.1                304.195   \n",
       "203       11803.431              1.1                304.195   \n",
       "204       11803.431              1.1                304.195   \n",
       "205       11803.431              1.1                304.195   \n",
       "206       11803.431              1.1                304.195   \n",
       "\n",
       "     diabetes_prevalence  female_smokers  male_smokers  \\\n",
       "202                10.08             7.1          51.2   \n",
       "203                10.08             7.1          51.2   \n",
       "204                10.08             7.1          51.2   \n",
       "205                10.08             7.1          51.2   \n",
       "206                10.08             7.1          51.2   \n",
       "\n",
       "     hospital_beds_per_thousand  life_expectancy  \n",
       "202                        2.89            78.57  \n",
       "203                        2.89            78.57  \n",
       "204                        2.89            78.57  \n",
       "205                        2.89            78.57  \n",
       "206                        2.89            78.57  "
      ]
     },
     "execution_count": 43,
     "metadata": {},
     "output_type": "execute_result"
    }
   ],
   "source": [
    "df = df[df['continent'] == \"Europe\"]\n",
    "df = df.drop(\"continent\", axis=1)\n",
    "\n",
    "df.head()"
   ]
  },
  {
   "cell_type": "code",
   "execution_count": 44,
   "metadata": {},
   "outputs": [],
   "source": [
    "datewise_europe = df.groupby([\"date\"]).agg({\"total_cases\" : \"sum\", \"total_deaths\" : \"sum\"})"
   ]
  },
  {
   "cell_type": "code",
   "execution_count": 45,
   "metadata": {},
   "outputs": [
    {
     "name": "stdout",
     "output_type": "stream",
     "text": [
      "Total Number of Cases in Europe:  2495240.0\n",
      "Total Number of Deaths in Europe:  173495.0\n",
      "Total Number of Active Cases in Europe  2321745.0\n"
     ]
    }
   ],
   "source": [
    "print(\"Total Number of Cases in Europe: \", datewise_europe[\"total_cases\"].iloc[-1])\n",
    "print(\"Total Number of Deaths in Europe: \", datewise_europe[\"total_deaths\"].iloc[-1])\n",
    "print(\"Total Number of Active Cases in Europe \", (datewise_europe[\"total_cases\"].iloc[-1] - datewise_europe[\"total_deaths\"].iloc[-1]))"
   ]
  },
  {
   "cell_type": "markdown",
   "metadata": {},
   "source": [
    "### Exploring the regions within Europe"
   ]
  },
  {
   "cell_type": "code",
   "execution_count": 46,
   "metadata": {},
   "outputs": [
    {
     "data": {
      "text/plain": [
       "<AxesSubplot:xlabel='location', ylabel='count'>"
      ]
     },
     "execution_count": 46,
     "metadata": {},
     "output_type": "execute_result"
    },
    {
     "data": {
      "image/png": "[encoded data removed]",
      "text/plain": [
       "<Figure size 1440x288 with 1 Axes>"
      ]
     },
     "metadata": {
      "needs_background": "light"
     },
     "output_type": "display_data"
    }
   ],
   "source": [
    "plt.figure(figsize=(20,4))\n",
    "sns.countplot(x ='location',data=df, palette=\"OrRd\")"
   ]
  },
  {
   "cell_type": "code",
   "execution_count": 47,
   "metadata": {},
   "outputs": [],
   "source": [
    "by_location = df[df[\"date\"] == df['date'].max()].groupby([\"location\"]).agg({\"total_cases\" : \"sum\", \"total_deaths\" : \"sum\"}).sort_values([\"total_cases\"], ascending = False)"
   ]
  },
  {
   "cell_type": "code",
   "execution_count": 48,
   "metadata": {},
   "outputs": [
    {
     "data": {
      "text/html": [
       "<div>\n",
       "<style scoped>\n",
       "    .dataframe tbody tr th:only-of-type {\n",
       "        vertical-align: middle;\n",
       "    }\n",
       "\n",
       "    .dataframe tbody tr th {\n",
       "        vertical-align: top;\n",
       "    }\n",
       "\n",
       "    .dataframe thead th {\n",
       "        text-align: right;\n",
       "    }\n",
       "</style>\n",
       "<table border=\"1\" class=\"dataframe\">\n",
       "  <thead>\n",
       "    <tr style=\"text-align: right;\">\n",
       "      <th></th>\n",
       "      <th>total_cases</th>\n",
       "      <th>total_deaths</th>\n",
       "    </tr>\n",
       "    <tr>\n",
       "      <th>location</th>\n",
       "      <th></th>\n",
       "      <th></th>\n",
       "    </tr>\n",
       "  </thead>\n",
       "  <tbody>\n",
       "    <tr>\n",
       "      <td>Russia</td>\n",
       "      <td>823515.0</td>\n",
       "      <td>13504.0</td>\n",
       "    </tr>\n",
       "    <tr>\n",
       "      <td>United Kingdom</td>\n",
       "      <td>300692.0</td>\n",
       "      <td>45878.0</td>\n",
       "    </tr>\n",
       "    <tr>\n",
       "      <td>Italy</td>\n",
       "      <td>246488.0</td>\n",
       "      <td>35123.0</td>\n",
       "    </tr>\n",
       "    <tr>\n",
       "      <td>Germany</td>\n",
       "      <td>206926.0</td>\n",
       "      <td>9128.0</td>\n",
       "    </tr>\n",
       "    <tr>\n",
       "      <td>France</td>\n",
       "      <td>183804.0</td>\n",
       "      <td>30223.0</td>\n",
       "    </tr>\n",
       "  </tbody>\n",
       "</table>\n",
       "</div>"
      ],
      "text/plain": [
       "                total_cases  total_deaths\n",
       "location                                 \n",
       "Russia             823515.0       13504.0\n",
       "United Kingdom     300692.0       45878.0\n",
       "Italy              246488.0       35123.0\n",
       "Germany            206926.0        9128.0\n",
       "France             183804.0       30223.0"
      ]
     },
     "execution_count": 48,
     "metadata": {},
     "output_type": "execute_result"
    }
   ],
   "source": [
    "by_location.head()"
   ]
  },
  {
   "cell_type": "code",
   "execution_count": 49,
   "metadata": {},
   "outputs": [
    {
     "data": {
      "image/png": "[encoded data removed]",
      "text/plain": [
       "<Figure size 1800x720 with 2 Axes>"
      ]
     },
     "metadata": {
      "needs_background": "light"
     },
     "output_type": "display_data"
    }
   ],
   "source": [
    "fig, (ax1, ax2) = plt.subplots(1, 2, figsize = (25, 10))\n",
    "loc_cases = by_location.sort_values([\"total_cases\"], ascending = False).head(10)\n",
    "loc_deaths = by_location.sort_values([\"total_deaths\"], ascending = False).head(10)\n",
    "sns.barplot(x = loc_cases[\"total_cases\"], y = loc_cases.index, ax = ax1)\n",
    "ax1.set_title(\"Total Number of Cases by Location in Europe\")\n",
    "sns.barplot(x = loc_deaths[\"total_deaths\"], y = loc_deaths.index, ax = ax2)\n",
    "ax2.set_title(\"Total Number of Deaths by Location\")\n",
    "\n",
    "plt.show()"
   ]
  },
  {
   "cell_type": "markdown",
   "metadata": {},
   "source": [
    "The above results show that Russia has the highest number of cases. However, Russia is also a part of Asia and therefore, we would like to study United Kingdom which seems to have the highest number of cases in Europe. United Kingdom also has the highest number of deaths."
   ]
  },
  {
   "cell_type": "markdown",
   "metadata": {},
   "source": [
    "### Studying United Kingdom"
   ]
  },
  {
   "cell_type": "code",
   "execution_count": 50,
   "metadata": {},
   "outputs": [
    {
     "data": {
      "text/html": [
       "<div>\n",
       "<style scoped>\n",
       "    .dataframe tbody tr th:only-of-type {\n",
       "        vertical-align: middle;\n",
       "    }\n",
       "\n",
       "    .dataframe tbody tr th {\n",
       "        vertical-align: top;\n",
       "    }\n",
       "\n",
       "    .dataframe thead th {\n",
       "        text-align: right;\n",
       "    }\n",
       "</style>\n",
       "<table border=\"1\" class=\"dataframe\">\n",
       "  <thead>\n",
       "    <tr style=\"text-align: right;\">\n",
       "      <th></th>\n",
       "      <th>date</th>\n",
       "      <th>total_cases</th>\n",
       "      <th>total_deaths</th>\n",
       "      <th>stringency_index</th>\n",
       "      <th>population_density</th>\n",
       "      <th>median_age</th>\n",
       "      <th>aged_65_older</th>\n",
       "      <th>aged_70_older</th>\n",
       "      <th>gdp_per_capita</th>\n",
       "      <th>extreme_poverty</th>\n",
       "      <th>cardiovasc_death_rate</th>\n",
       "      <th>diabetes_prevalence</th>\n",
       "      <th>female_smokers</th>\n",
       "      <th>male_smokers</th>\n",
       "      <th>hospital_beds_per_thousand</th>\n",
       "      <th>life_expectancy</th>\n",
       "    </tr>\n",
       "  </thead>\n",
       "  <tbody>\n",
       "    <tr>\n",
       "      <td>31362</td>\n",
       "      <td>2019-12-31</td>\n",
       "      <td>0.0</td>\n",
       "      <td>0.0</td>\n",
       "      <td>67.59</td>\n",
       "      <td>272.898</td>\n",
       "      <td>40.8</td>\n",
       "      <td>18.517</td>\n",
       "      <td>12.527</td>\n",
       "      <td>39753.244</td>\n",
       "      <td>0.2</td>\n",
       "      <td>122.137</td>\n",
       "      <td>4.28</td>\n",
       "      <td>20.0</td>\n",
       "      <td>24.7</td>\n",
       "      <td>2.54</td>\n",
       "      <td>81.32</td>\n",
       "    </tr>\n",
       "    <tr>\n",
       "      <td>31363</td>\n",
       "      <td>2020-01-01</td>\n",
       "      <td>0.0</td>\n",
       "      <td>0.0</td>\n",
       "      <td>0.00</td>\n",
       "      <td>272.898</td>\n",
       "      <td>40.8</td>\n",
       "      <td>18.517</td>\n",
       "      <td>12.527</td>\n",
       "      <td>39753.244</td>\n",
       "      <td>0.2</td>\n",
       "      <td>122.137</td>\n",
       "      <td>4.28</td>\n",
       "      <td>20.0</td>\n",
       "      <td>24.7</td>\n",
       "      <td>2.54</td>\n",
       "      <td>81.32</td>\n",
       "    </tr>\n",
       "    <tr>\n",
       "      <td>31364</td>\n",
       "      <td>2020-01-02</td>\n",
       "      <td>0.0</td>\n",
       "      <td>0.0</td>\n",
       "      <td>0.00</td>\n",
       "      <td>272.898</td>\n",
       "      <td>40.8</td>\n",
       "      <td>18.517</td>\n",
       "      <td>12.527</td>\n",
       "      <td>39753.244</td>\n",
       "      <td>0.2</td>\n",
       "      <td>122.137</td>\n",
       "      <td>4.28</td>\n",
       "      <td>20.0</td>\n",
       "      <td>24.7</td>\n",
       "      <td>2.54</td>\n",
       "      <td>81.32</td>\n",
       "    </tr>\n",
       "    <tr>\n",
       "      <td>31365</td>\n",
       "      <td>2020-01-03</td>\n",
       "      <td>0.0</td>\n",
       "      <td>0.0</td>\n",
       "      <td>0.00</td>\n",
       "      <td>272.898</td>\n",
       "      <td>40.8</td>\n",
       "      <td>18.517</td>\n",
       "      <td>12.527</td>\n",
       "      <td>39753.244</td>\n",
       "      <td>0.2</td>\n",
       "      <td>122.137</td>\n",
       "      <td>4.28</td>\n",
       "      <td>20.0</td>\n",
       "      <td>24.7</td>\n",
       "      <td>2.54</td>\n",
       "      <td>81.32</td>\n",
       "    </tr>\n",
       "    <tr>\n",
       "      <td>31366</td>\n",
       "      <td>2020-01-04</td>\n",
       "      <td>0.0</td>\n",
       "      <td>0.0</td>\n",
       "      <td>0.00</td>\n",
       "      <td>272.898</td>\n",
       "      <td>40.8</td>\n",
       "      <td>18.517</td>\n",
       "      <td>12.527</td>\n",
       "      <td>39753.244</td>\n",
       "      <td>0.2</td>\n",
       "      <td>122.137</td>\n",
       "      <td>4.28</td>\n",
       "      <td>20.0</td>\n",
       "      <td>24.7</td>\n",
       "      <td>2.54</td>\n",
       "      <td>81.32</td>\n",
       "    </tr>\n",
       "  </tbody>\n",
       "</table>\n",
       "</div>"
      ],
      "text/plain": [
       "            date  total_cases  total_deaths  stringency_index  \\\n",
       "31362 2019-12-31          0.0           0.0             67.59   \n",
       "31363 2020-01-01          0.0           0.0              0.00   \n",
       "31364 2020-01-02          0.0           0.0              0.00   \n",
       "31365 2020-01-03          0.0           0.0              0.00   \n",
       "31366 2020-01-04          0.0           0.0              0.00   \n",
       "\n",
       "       population_density  median_age  aged_65_older  aged_70_older  \\\n",
       "31362             272.898        40.8         18.517         12.527   \n",
       "31363             272.898        40.8         18.517         12.527   \n",
       "31364             272.898        40.8         18.517         12.527   \n",
       "31365             272.898        40.8         18.517         12.527   \n",
       "31366             272.898        40.8         18.517         12.527   \n",
       "\n",
       "       gdp_per_capita  extreme_poverty  cardiovasc_death_rate  \\\n",
       "31362       39753.244              0.2                122.137   \n",
       "31363       39753.244              0.2                122.137   \n",
       "31364       39753.244              0.2                122.137   \n",
       "31365       39753.244              0.2                122.137   \n",
       "31366       39753.244              0.2                122.137   \n",
       "\n",
       "       diabetes_prevalence  female_smokers  male_smokers  \\\n",
       "31362                 4.28            20.0          24.7   \n",
       "31363                 4.28            20.0          24.7   \n",
       "31364                 4.28            20.0          24.7   \n",
       "31365                 4.28            20.0          24.7   \n",
       "31366                 4.28            20.0          24.7   \n",
       "\n",
       "       hospital_beds_per_thousand  life_expectancy  \n",
       "31362                        2.54            81.32  \n",
       "31363                        2.54            81.32  \n",
       "31364                        2.54            81.32  \n",
       "31365                        2.54            81.32  \n",
       "31366                        2.54            81.32  "
      ]
     },
     "execution_count": 50,
     "metadata": {},
     "output_type": "execute_result"
    }
   ],
   "source": [
    "df = df[df['location'] == \"United Kingdom\"]\n",
    "df.drop([\"location\"], axis=1, inplace = True)\n",
    "\n",
    "df.head()"
   ]
  },
  {
   "cell_type": "code",
   "execution_count": 51,
   "metadata": {},
   "outputs": [],
   "source": [
    "uk = df.groupby([\"date\"]).agg({\"total_cases\" : \"sum\", \"total_deaths\" : \"sum\"})"
   ]
  },
  {
   "cell_type": "code",
   "execution_count": 52,
   "metadata": {},
   "outputs": [
    {
     "name": "stdout",
     "output_type": "stream",
     "text": [
      "Total Number of Cases in United Kingdom:  300692.0\n",
      "Total Number of Deaths in United Kingdom:  45878.0\n",
      "Total Number of Active Cases in United Kingdom  254814.0\n"
     ]
    }
   ],
   "source": [
    "print(\"Total Number of Cases in United Kingdom: \", uk[\"total_cases\"].iloc[-1])\n",
    "print(\"Total Number of Deaths in United Kingdom: \", uk[\"total_deaths\"].iloc[-1])\n",
    "print(\"Total Number of Active Cases in United Kingdom \", (uk[\"total_cases\"].iloc[-1] - uk[\"total_deaths\"].iloc[-1]))"
   ]
  },
  {
   "cell_type": "markdown",
   "metadata": {},
   "source": [
    "#### Weekly Analysis for United Kingdom"
   ]
  },
  {
   "cell_type": "code",
   "execution_count": 53,
   "metadata": {},
   "outputs": [
    {
     "data": {
      "image/png": "[encoded data removed]",
      "text/plain": [
       "<Figure size 720x360 with 1 Axes>"
      ]
     },
     "metadata": {
      "needs_background": "light"
     },
     "output_type": "display_data"
    }
   ],
   "source": [
    "uk[\"WeekofYear\"] = uk.index.weekofyear\n",
    "num_week_uk = []\n",
    "weekly_cases_uk = []\n",
    "weekly_deaths_uk = []\n",
    "\n",
    "w = 1\n",
    "for i in list(uk[\"WeekofYear\"].unique()):\n",
    "    weekly_cases_uk.append(uk[uk[\"WeekofYear\"] == i][\"total_cases\"].iloc[-1])\n",
    "    weekly_deaths_uk.append(uk[uk[\"WeekofYear\"] == i][\"total_deaths\"].iloc[-1])    \n",
    "    num_week_uk.append(w)\n",
    "    w = w+1\n",
    "    \n",
    "plt.figure(figsize = (10, 5))\n",
    "plt.plot(num_week_uk, weekly_cases_uk, label = \"Weekly Cases\", linewidth = 3)\n",
    "plt.plot(num_week_uk, weekly_deaths_uk, label = \"Weekly Deaths\", linewidth = 3)\n",
    "plt.xlabel(\"Number of Week\")\n",
    "plt.ylabel(\"Number of Cases\")\n",
    "plt.title(\"Weekly Analysis of Cases in United Kingdom\")\n",
    "plt.legend()\n",
    "plt.show()"
   ]
  },
  {
   "cell_type": "markdown",
   "metadata": {},
   "source": [
    "### Linear Regression"
   ]
  },
  {
   "cell_type": "markdown",
   "metadata": {},
   "source": [
    "#### Training - Validating Model"
   ]
  },
  {
   "cell_type": "code",
   "execution_count": 54,
   "metadata": {},
   "outputs": [],
   "source": [
    "uk[\"Days Since\"] = uk.index - uk.index[0]\n",
    "uk[\"Days Since\"] = uk[\"Days Since\"].dt.days\n",
    "train_ml = uk.iloc[:int(datewise.shape[0]*0.95)]\n",
    "valid_ml = uk.iloc[:int(datewise.shape[0]*0.95):]"
   ]
  },
  {
   "cell_type": "code",
   "execution_count": 55,
   "metadata": {},
   "outputs": [
    {
     "data": {
      "text/plain": [
       "LinearRegression(copy_X=True, fit_intercept=True, n_jobs=None, normalize=True)"
      ]
     },
     "execution_count": 55,
     "metadata": {},
     "output_type": "execute_result"
    }
   ],
   "source": [
    "lin_reg = LinearRegression(normalize = True)\n",
    "lin_reg.fit(np.array(train_ml[\"Days Since\"]).reshape(-1, 1), np.array(train_ml[\"total_deaths\"]).reshape(-1, 1))"
   ]
  },
  {
   "cell_type": "code",
   "execution_count": 56,
   "metadata": {},
   "outputs": [],
   "source": [
    "valid_pred = lin_reg.predict(np.array(valid_ml[\"Days Since\"]).reshape(-1,1))"
   ]
  },
  {
   "cell_type": "code",
   "execution_count": 57,
   "metadata": {},
   "outputs": [
    {
     "data": {
      "text/html": [
       "<div>\n",
       "<style scoped>\n",
       "    .dataframe tbody tr th:only-of-type {\n",
       "        vertical-align: middle;\n",
       "    }\n",
       "\n",
       "    .dataframe tbody tr th {\n",
       "        vertical-align: top;\n",
       "    }\n",
       "\n",
       "    .dataframe thead th {\n",
       "        text-align: right;\n",
       "    }\n",
       "</style>\n",
       "<table border=\"1\" class=\"dataframe\">\n",
       "  <thead>\n",
       "    <tr style=\"text-align: right;\">\n",
       "      <th></th>\n",
       "      <th>Dates</th>\n",
       "      <th>Regression Results</th>\n",
       "    </tr>\n",
       "  </thead>\n",
       "  <tbody>\n",
       "    <tr>\n",
       "      <td>0</td>\n",
       "      <td>2020-07-30</td>\n",
       "      <td>50962</td>\n",
       "    </tr>\n",
       "    <tr>\n",
       "      <td>1</td>\n",
       "      <td>2020-07-31</td>\n",
       "      <td>51260</td>\n",
       "    </tr>\n",
       "    <tr>\n",
       "      <td>2</td>\n",
       "      <td>2020-08-01</td>\n",
       "      <td>51558</td>\n",
       "    </tr>\n",
       "    <tr>\n",
       "      <td>3</td>\n",
       "      <td>2020-08-02</td>\n",
       "      <td>51857</td>\n",
       "    </tr>\n",
       "    <tr>\n",
       "      <td>4</td>\n",
       "      <td>2020-08-03</td>\n",
       "      <td>52155</td>\n",
       "    </tr>\n",
       "  </tbody>\n",
       "</table>\n",
       "</div>"
      ],
      "text/plain": [
       "       Dates  Regression Results\n",
       "0 2020-07-30               50962\n",
       "1 2020-07-31               51260\n",
       "2 2020-08-01               51558\n",
       "3 2020-08-02               51857\n",
       "4 2020-08-03               52155"
      ]
     },
     "execution_count": 57,
     "metadata": {},
     "output_type": "execute_result"
    }
   ],
   "source": [
    "new_date = []\n",
    "new_pred = []\n",
    "for i in range(1, 18):\n",
    "    new_date.append(uk.index[-1] + timedelta(days = i))\n",
    "    new_pred.append(lin_reg.predict(np.array(uk[\"Days Since\"].max() + i).reshape(-1,1))[0][0])\n",
    "pd.set_option(\"display.float_format\", lambda x: '%.f' % x)\n",
    "model_predictions = pd.DataFrame(zip(new_date, new_pred), columns = [\"Dates\", \"Regression Results\"])\n",
    "model_predictions.head()"
   ]
  },
  {
   "cell_type": "markdown",
   "metadata": {},
   "source": [
    "Linear Regression model performs well and the below table shows the prediction of total deaths."
   ]
  },
  {
   "cell_type": "markdown",
   "metadata": {},
   "source": [
    "### Time Series \n",
    "We also would like to see how time series forecasting would work with this data"
   ]
  },
  {
   "cell_type": "code",
   "execution_count": 58,
   "metadata": {},
   "outputs": [],
   "source": [
    "model_train = uk.iloc[:int(uk.shape[0]*0.85)]\n",
    "model_valid = uk.iloc[:int(uk.shape[0]*0.85):]"
   ]
  },
  {
   "cell_type": "code",
   "execution_count": 59,
   "metadata": {},
   "outputs": [],
   "source": [
    "holt = Holt(np.asarray(model_train[\"total_deaths\"])).fit(smoothing_level = 1.4, smoothing_slope = 0.2)\n",
    "y_pred = model_valid.copy()\n",
    "y_pred[\"Holt\"] = holt.forecast(len(model_valid))"
   ]
  },
  {
   "cell_type": "code",
   "execution_count": 60,
   "metadata": {},
   "outputs": [
    {
     "data": {
      "text/html": [
       "<div>\n",
       "<style scoped>\n",
       "    .dataframe tbody tr th:only-of-type {\n",
       "        vertical-align: middle;\n",
       "    }\n",
       "\n",
       "    .dataframe tbody tr th {\n",
       "        vertical-align: top;\n",
       "    }\n",
       "\n",
       "    .dataframe thead th {\n",
       "        text-align: right;\n",
       "    }\n",
       "</style>\n",
       "<table border=\"1\" class=\"dataframe\">\n",
       "  <thead>\n",
       "    <tr style=\"text-align: right;\">\n",
       "      <th></th>\n",
       "      <th>Dates</th>\n",
       "      <th>Regression Results</th>\n",
       "      <th>Holt's Predictions</th>\n",
       "    </tr>\n",
       "  </thead>\n",
       "  <tbody>\n",
       "    <tr>\n",
       "      <td>0</td>\n",
       "      <td>2020-07-30</td>\n",
       "      <td>50962</td>\n",
       "      <td>71481</td>\n",
       "    </tr>\n",
       "    <tr>\n",
       "      <td>1</td>\n",
       "      <td>2020-07-31</td>\n",
       "      <td>51260</td>\n",
       "      <td>71636</td>\n",
       "    </tr>\n",
       "    <tr>\n",
       "      <td>2</td>\n",
       "      <td>2020-08-01</td>\n",
       "      <td>51558</td>\n",
       "      <td>71791</td>\n",
       "    </tr>\n",
       "    <tr>\n",
       "      <td>3</td>\n",
       "      <td>2020-08-02</td>\n",
       "      <td>51857</td>\n",
       "      <td>71946</td>\n",
       "    </tr>\n",
       "    <tr>\n",
       "      <td>4</td>\n",
       "      <td>2020-08-03</td>\n",
       "      <td>52155</td>\n",
       "      <td>72101</td>\n",
       "    </tr>\n",
       "  </tbody>\n",
       "</table>\n",
       "</div>"
      ],
      "text/plain": [
       "       Dates  Regression Results  Holt's Predictions\n",
       "0 2020-07-30               50962               71481\n",
       "1 2020-07-31               51260               71636\n",
       "2 2020-08-01               51558               71791\n",
       "3 2020-08-02               51857               71946\n",
       "4 2020-08-03               52155               72101"
      ]
     },
     "execution_count": 60,
     "metadata": {},
     "output_type": "execute_result"
    }
   ],
   "source": [
    "holt_new_date = []\n",
    "holt_new_pred = []\n",
    "for i in range(1, 18):\n",
    "    holt_new_date.append(uk.index[-1] + timedelta(days = i))\n",
    "    holt_new_pred.append(holt.forecast((len(model_valid)+i))[-1])\n",
    "\n",
    "model_predictions[\"Holt's Predictions\"] = holt_new_pred\n",
    "model_predictions.head()\n"
   ]
  },
  {
   "cell_type": "markdown",
   "metadata": {},
   "source": [
    "Based on the above results, linear regression model is performing better in predicting the total number of deaths. "
   ]
  }
 ],
 "metadata": {
  "kernelspec": {
   "display_name": "Python 3",
   "language": "python",
   "name": "python3"
  },
  "language_info": {
   "codemirror_mode": {
    "name": "ipython",
    "version": 3
   },
   "file_extension": ".py",
   "mimetype": "text/x-python",
   "name": "python",
   "nbconvert_exporter": "python",
   "pygments_lexer": "ipython3",
   "version": "3.7.4"
  }
 },
 "nbformat": 4,
 "nbformat_minor": 2
}
