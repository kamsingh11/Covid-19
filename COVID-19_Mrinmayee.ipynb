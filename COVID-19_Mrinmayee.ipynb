{
 "cells": [
  {
   "cell_type": "markdown",
   "metadata": {},
   "source": [
    "# Data Pre-processing"
   ]
  },
  {
   "cell_type": "markdown",
   "metadata": {},
   "source": [
    "#### Understanding structure of data \n",
    "Identifying Continuous and Categorical data\n",
    "Handling Missing data\n",
    "Methods to identify outliers\n",
    "Measuring centrality of data\n",
    "Measuring spread of data"
   ]
  },
  {
   "cell_type": "code",
   "execution_count": 2,
   "metadata": {},
   "outputs": [],
   "source": [
    "import pandas as pd\n",
    "import numpy as np\n",
    "from sklearn.impute import SimpleImputer\n",
    "import matplotlib.pylab as plt\n",
    "from pandas.api.types import CategoricalDtype\n",
    "from pandas.plotting import scatter_matrix\n",
    "import matplotlib.pyplot as plt\n",
    "from sklearn.preprocessing import StandardScaler \n",
    "from sklearn.model_selection import train_test_split\n",
    "from sklearn.linear_model import LinearRegression \n",
    "from sklearn.model_selection import cross_val_score , GridSearchCV\n",
    "from sklearn.model_selection import RepeatedStratifiedKFold\n",
    "from sklearn.pipeline import Pipeline\n",
    "from sklearn.tree import DecisionTreeRegressor\n",
    "from sklearn import tree\n",
    "from sklearn.metrics import mean_squared_error, r2_score\n",
    "from sklearn.model_selection import GridSearchCV \n",
    "import seaborn as sns\n",
    "import datetime as dt\n",
    "import random\n",
    "import scipy.stats as stats\n",
    "%matplotlib inline \n",
    "sns.set()\n",
    "import warnings\n",
    "warnings.filterwarnings('ignore')"
   ]
  },
  {
   "cell_type": "code",
   "execution_count": 3,
   "metadata": {},
   "outputs": [
    {
     "name": "stdout",
     "output_type": "stream",
     "text": [
      "Requirement already satisfied: pandas in c:\\users\\mrunm\\anaconda\\anaconda3\\lib\\site-packages (0.23.4)\n",
      "Requirement already satisfied: plotnine in c:\\users\\mrunm\\anaconda\\anaconda3\\lib\\site-packages (0.7.0)\n",
      "Requirement already satisfied: python-dateutil>=2.5.0 in c:\\users\\mrunm\\anaconda\\anaconda3\\lib\\site-packages (from pandas) (2.7.5)\n",
      "Requirement already satisfied: pytz>=2011k in c:\\users\\mrunm\\anaconda\\anaconda3\\lib\\site-packages (from pandas) (2018.7)\n",
      "Requirement already satisfied: numpy>=1.9.0 in c:\\users\\mrunm\\anaconda\\anaconda3\\lib\\site-packages (from pandas) (1.19.1)\n",
      "Requirement already satisfied: descartes>=1.1.0 in c:\\users\\mrunm\\anaconda\\anaconda3\\lib\\site-packages (from plotnine) (1.1.0)\n",
      "Requirement already satisfied: matplotlib>=3.1.1 in c:\\users\\mrunm\\anaconda\\anaconda3\\lib\\site-packages (from plotnine) (3.3.0)\n",
      "Requirement already satisfied: statsmodels>=0.11.1 in c:\\users\\mrunm\\anaconda\\anaconda3\\lib\\site-packages (from plotnine) (0.11.1)\n",
      "Requirement already satisfied: mizani>=0.7.1 in c:\\users\\mrunm\\anaconda\\anaconda3\\lib\\site-packages (from plotnine) (0.7.1)\n",
      "Requirement already satisfied: patsy>=0.5.1 in c:\\users\\mrunm\\anaconda\\anaconda3\\lib\\site-packages (from plotnine) (0.5.1)\n",
      "Requirement already satisfied: scipy>=1.2.0 in c:\\users\\mrunm\\anaconda\\anaconda3\\lib\\site-packages (from plotnine) (1.4.1)\n",
      "Requirement already satisfied: six>=1.5 in c:\\users\\mrunm\\anaconda\\anaconda3\\lib\\site-packages (from python-dateutil>=2.5.0->pandas) (1.12.0)\n",
      "Requirement already satisfied: pillow>=6.2.0 in c:\\users\\mrunm\\anaconda\\anaconda3\\lib\\site-packages (from matplotlib>=3.1.1->plotnine) (7.2.0)\n",
      "Requirement already satisfied: pyparsing!=2.0.4,!=2.1.2,!=2.1.6,>=2.0.3 in c:\\users\\mrunm\\anaconda\\anaconda3\\lib\\site-packages (from matplotlib>=3.1.1->plotnine) (2.3.0)\n",
      "Requirement already satisfied: kiwisolver>=1.0.1 in c:\\users\\mrunm\\anaconda\\anaconda3\\lib\\site-packages (from matplotlib>=3.1.1->plotnine) (1.0.1)\n",
      "Requirement already satisfied: cycler>=0.10 in c:\\users\\mrunm\\anaconda\\anaconda3\\lib\\site-packages (from matplotlib>=3.1.1->plotnine) (0.10.0)\n",
      "Requirement already satisfied: palettable in c:\\users\\mrunm\\anaconda\\anaconda3\\lib\\site-packages (from mizani>=0.7.1->plotnine) (3.3.0)\n",
      "Requirement already satisfied: setuptools in c:\\users\\mrunm\\anaconda\\anaconda3\\lib\\site-packages (from kiwisolver>=1.0.1->matplotlib>=3.1.1->plotnine) (40.6.3)\n"
     ]
    }
   ],
   "source": [
    "#!pip install pandas plotnine\n",
    "from plotnine import *"
   ]
  },
  {
   "cell_type": "markdown",
   "metadata": {},
   "source": [
    "## Reading Data"
   ]
  },
  {
   "cell_type": "code",
   "execution_count": 4,
   "metadata": {},
   "outputs": [],
   "source": [
    "df = pd.read_csv(\"data/owid-covid-data.csv\",parse_dates=['date'])"
   ]
  },
  {
   "cell_type": "markdown",
   "metadata": {},
   "source": [
    "#### Looking at top 10 rows of data"
   ]
  },
  {
   "cell_type": "code",
   "execution_count": 5,
   "metadata": {
    "scrolled": true
   },
   "outputs": [
    {
     "data": {
      "text/html": [
       "<div>\n",
       "<style scoped>\n",
       "    .dataframe tbody tr th:only-of-type {\n",
       "        vertical-align: middle;\n",
       "    }\n",
       "\n",
       "    .dataframe tbody tr th {\n",
       "        vertical-align: top;\n",
       "    }\n",
       "\n",
       "    .dataframe thead th {\n",
       "        text-align: right;\n",
       "    }\n",
       "</style>\n",
       "<table border=\"1\" class=\"dataframe\">\n",
       "  <thead>\n",
       "    <tr style=\"text-align: right;\">\n",
       "      <th></th>\n",
       "      <th>iso_code</th>\n",
       "      <th>continent</th>\n",
       "      <th>location</th>\n",
       "      <th>date</th>\n",
       "      <th>total_cases</th>\n",
       "      <th>new_cases</th>\n",
       "      <th>total_deaths</th>\n",
       "      <th>new_deaths</th>\n",
       "      <th>total_cases_per_million</th>\n",
       "      <th>new_cases_per_million</th>\n",
       "      <th>...</th>\n",
       "      <th>aged_70_older</th>\n",
       "      <th>gdp_per_capita</th>\n",
       "      <th>extreme_poverty</th>\n",
       "      <th>cardiovasc_death_rate</th>\n",
       "      <th>diabetes_prevalence</th>\n",
       "      <th>female_smokers</th>\n",
       "      <th>male_smokers</th>\n",
       "      <th>handwashing_facilities</th>\n",
       "      <th>hospital_beds_per_thousand</th>\n",
       "      <th>life_expectancy</th>\n",
       "    </tr>\n",
       "  </thead>\n",
       "  <tbody>\n",
       "    <tr>\n",
       "      <th>0</th>\n",
       "      <td>AFG</td>\n",
       "      <td>Asia</td>\n",
       "      <td>Afghanistan</td>\n",
       "      <td>2019-12-31</td>\n",
       "      <td>0.0</td>\n",
       "      <td>0.0</td>\n",
       "      <td>0.0</td>\n",
       "      <td>0.0</td>\n",
       "      <td>0.0</td>\n",
       "      <td>0.0</td>\n",
       "      <td>...</td>\n",
       "      <td>1.337</td>\n",
       "      <td>1803.987</td>\n",
       "      <td>NaN</td>\n",
       "      <td>597.029</td>\n",
       "      <td>9.59</td>\n",
       "      <td>NaN</td>\n",
       "      <td>NaN</td>\n",
       "      <td>37.746</td>\n",
       "      <td>0.5</td>\n",
       "      <td>64.83</td>\n",
       "    </tr>\n",
       "    <tr>\n",
       "      <th>1</th>\n",
       "      <td>AFG</td>\n",
       "      <td>Asia</td>\n",
       "      <td>Afghanistan</td>\n",
       "      <td>2020-01-01</td>\n",
       "      <td>0.0</td>\n",
       "      <td>0.0</td>\n",
       "      <td>0.0</td>\n",
       "      <td>0.0</td>\n",
       "      <td>0.0</td>\n",
       "      <td>0.0</td>\n",
       "      <td>...</td>\n",
       "      <td>1.337</td>\n",
       "      <td>1803.987</td>\n",
       "      <td>NaN</td>\n",
       "      <td>597.029</td>\n",
       "      <td>9.59</td>\n",
       "      <td>NaN</td>\n",
       "      <td>NaN</td>\n",
       "      <td>37.746</td>\n",
       "      <td>0.5</td>\n",
       "      <td>64.83</td>\n",
       "    </tr>\n",
       "    <tr>\n",
       "      <th>2</th>\n",
       "      <td>AFG</td>\n",
       "      <td>Asia</td>\n",
       "      <td>Afghanistan</td>\n",
       "      <td>2020-01-02</td>\n",
       "      <td>0.0</td>\n",
       "      <td>0.0</td>\n",
       "      <td>0.0</td>\n",
       "      <td>0.0</td>\n",
       "      <td>0.0</td>\n",
       "      <td>0.0</td>\n",
       "      <td>...</td>\n",
       "      <td>1.337</td>\n",
       "      <td>1803.987</td>\n",
       "      <td>NaN</td>\n",
       "      <td>597.029</td>\n",
       "      <td>9.59</td>\n",
       "      <td>NaN</td>\n",
       "      <td>NaN</td>\n",
       "      <td>37.746</td>\n",
       "      <td>0.5</td>\n",
       "      <td>64.83</td>\n",
       "    </tr>\n",
       "    <tr>\n",
       "      <th>3</th>\n",
       "      <td>AFG</td>\n",
       "      <td>Asia</td>\n",
       "      <td>Afghanistan</td>\n",
       "      <td>2020-01-03</td>\n",
       "      <td>0.0</td>\n",
       "      <td>0.0</td>\n",
       "      <td>0.0</td>\n",
       "      <td>0.0</td>\n",
       "      <td>0.0</td>\n",
       "      <td>0.0</td>\n",
       "      <td>...</td>\n",
       "      <td>1.337</td>\n",
       "      <td>1803.987</td>\n",
       "      <td>NaN</td>\n",
       "      <td>597.029</td>\n",
       "      <td>9.59</td>\n",
       "      <td>NaN</td>\n",
       "      <td>NaN</td>\n",
       "      <td>37.746</td>\n",
       "      <td>0.5</td>\n",
       "      <td>64.83</td>\n",
       "    </tr>\n",
       "    <tr>\n",
       "      <th>4</th>\n",
       "      <td>AFG</td>\n",
       "      <td>Asia</td>\n",
       "      <td>Afghanistan</td>\n",
       "      <td>2020-01-04</td>\n",
       "      <td>0.0</td>\n",
       "      <td>0.0</td>\n",
       "      <td>0.0</td>\n",
       "      <td>0.0</td>\n",
       "      <td>0.0</td>\n",
       "      <td>0.0</td>\n",
       "      <td>...</td>\n",
       "      <td>1.337</td>\n",
       "      <td>1803.987</td>\n",
       "      <td>NaN</td>\n",
       "      <td>597.029</td>\n",
       "      <td>9.59</td>\n",
       "      <td>NaN</td>\n",
       "      <td>NaN</td>\n",
       "      <td>37.746</td>\n",
       "      <td>0.5</td>\n",
       "      <td>64.83</td>\n",
       "    </tr>\n",
       "    <tr>\n",
       "      <th>5</th>\n",
       "      <td>AFG</td>\n",
       "      <td>Asia</td>\n",
       "      <td>Afghanistan</td>\n",
       "      <td>2020-01-05</td>\n",
       "      <td>0.0</td>\n",
       "      <td>0.0</td>\n",
       "      <td>0.0</td>\n",
       "      <td>0.0</td>\n",
       "      <td>0.0</td>\n",
       "      <td>0.0</td>\n",
       "      <td>...</td>\n",
       "      <td>1.337</td>\n",
       "      <td>1803.987</td>\n",
       "      <td>NaN</td>\n",
       "      <td>597.029</td>\n",
       "      <td>9.59</td>\n",
       "      <td>NaN</td>\n",
       "      <td>NaN</td>\n",
       "      <td>37.746</td>\n",
       "      <td>0.5</td>\n",
       "      <td>64.83</td>\n",
       "    </tr>\n",
       "    <tr>\n",
       "      <th>6</th>\n",
       "      <td>AFG</td>\n",
       "      <td>Asia</td>\n",
       "      <td>Afghanistan</td>\n",
       "      <td>2020-01-06</td>\n",
       "      <td>0.0</td>\n",
       "      <td>0.0</td>\n",
       "      <td>0.0</td>\n",
       "      <td>0.0</td>\n",
       "      <td>0.0</td>\n",
       "      <td>0.0</td>\n",
       "      <td>...</td>\n",
       "      <td>1.337</td>\n",
       "      <td>1803.987</td>\n",
       "      <td>NaN</td>\n",
       "      <td>597.029</td>\n",
       "      <td>9.59</td>\n",
       "      <td>NaN</td>\n",
       "      <td>NaN</td>\n",
       "      <td>37.746</td>\n",
       "      <td>0.5</td>\n",
       "      <td>64.83</td>\n",
       "    </tr>\n",
       "    <tr>\n",
       "      <th>7</th>\n",
       "      <td>AFG</td>\n",
       "      <td>Asia</td>\n",
       "      <td>Afghanistan</td>\n",
       "      <td>2020-01-07</td>\n",
       "      <td>0.0</td>\n",
       "      <td>0.0</td>\n",
       "      <td>0.0</td>\n",
       "      <td>0.0</td>\n",
       "      <td>0.0</td>\n",
       "      <td>0.0</td>\n",
       "      <td>...</td>\n",
       "      <td>1.337</td>\n",
       "      <td>1803.987</td>\n",
       "      <td>NaN</td>\n",
       "      <td>597.029</td>\n",
       "      <td>9.59</td>\n",
       "      <td>NaN</td>\n",
       "      <td>NaN</td>\n",
       "      <td>37.746</td>\n",
       "      <td>0.5</td>\n",
       "      <td>64.83</td>\n",
       "    </tr>\n",
       "    <tr>\n",
       "      <th>8</th>\n",
       "      <td>AFG</td>\n",
       "      <td>Asia</td>\n",
       "      <td>Afghanistan</td>\n",
       "      <td>2020-01-08</td>\n",
       "      <td>0.0</td>\n",
       "      <td>0.0</td>\n",
       "      <td>0.0</td>\n",
       "      <td>0.0</td>\n",
       "      <td>0.0</td>\n",
       "      <td>0.0</td>\n",
       "      <td>...</td>\n",
       "      <td>1.337</td>\n",
       "      <td>1803.987</td>\n",
       "      <td>NaN</td>\n",
       "      <td>597.029</td>\n",
       "      <td>9.59</td>\n",
       "      <td>NaN</td>\n",
       "      <td>NaN</td>\n",
       "      <td>37.746</td>\n",
       "      <td>0.5</td>\n",
       "      <td>64.83</td>\n",
       "    </tr>\n",
       "    <tr>\n",
       "      <th>9</th>\n",
       "      <td>AFG</td>\n",
       "      <td>Asia</td>\n",
       "      <td>Afghanistan</td>\n",
       "      <td>2020-01-09</td>\n",
       "      <td>0.0</td>\n",
       "      <td>0.0</td>\n",
       "      <td>0.0</td>\n",
       "      <td>0.0</td>\n",
       "      <td>0.0</td>\n",
       "      <td>0.0</td>\n",
       "      <td>...</td>\n",
       "      <td>1.337</td>\n",
       "      <td>1803.987</td>\n",
       "      <td>NaN</td>\n",
       "      <td>597.029</td>\n",
       "      <td>9.59</td>\n",
       "      <td>NaN</td>\n",
       "      <td>NaN</td>\n",
       "      <td>37.746</td>\n",
       "      <td>0.5</td>\n",
       "      <td>64.83</td>\n",
       "    </tr>\n",
       "  </tbody>\n",
       "</table>\n",
       "<p>10 rows × 34 columns</p>\n",
       "</div>"
      ],
      "text/plain": [
       "  iso_code continent     location       date  total_cases  new_cases  \\\n",
       "0      AFG      Asia  Afghanistan 2019-12-31          0.0        0.0   \n",
       "1      AFG      Asia  Afghanistan 2020-01-01          0.0        0.0   \n",
       "2      AFG      Asia  Afghanistan 2020-01-02          0.0        0.0   \n",
       "3      AFG      Asia  Afghanistan 2020-01-03          0.0        0.0   \n",
       "4      AFG      Asia  Afghanistan 2020-01-04          0.0        0.0   \n",
       "5      AFG      Asia  Afghanistan 2020-01-05          0.0        0.0   \n",
       "6      AFG      Asia  Afghanistan 2020-01-06          0.0        0.0   \n",
       "7      AFG      Asia  Afghanistan 2020-01-07          0.0        0.0   \n",
       "8      AFG      Asia  Afghanistan 2020-01-08          0.0        0.0   \n",
       "9      AFG      Asia  Afghanistan 2020-01-09          0.0        0.0   \n",
       "\n",
       "   total_deaths  new_deaths  total_cases_per_million  new_cases_per_million  \\\n",
       "0           0.0         0.0                      0.0                    0.0   \n",
       "1           0.0         0.0                      0.0                    0.0   \n",
       "2           0.0         0.0                      0.0                    0.0   \n",
       "3           0.0         0.0                      0.0                    0.0   \n",
       "4           0.0         0.0                      0.0                    0.0   \n",
       "5           0.0         0.0                      0.0                    0.0   \n",
       "6           0.0         0.0                      0.0                    0.0   \n",
       "7           0.0         0.0                      0.0                    0.0   \n",
       "8           0.0         0.0                      0.0                    0.0   \n",
       "9           0.0         0.0                      0.0                    0.0   \n",
       "\n",
       "        ...         aged_70_older  gdp_per_capita  extreme_poverty  \\\n",
       "0       ...                 1.337        1803.987              NaN   \n",
       "1       ...                 1.337        1803.987              NaN   \n",
       "2       ...                 1.337        1803.987              NaN   \n",
       "3       ...                 1.337        1803.987              NaN   \n",
       "4       ...                 1.337        1803.987              NaN   \n",
       "5       ...                 1.337        1803.987              NaN   \n",
       "6       ...                 1.337        1803.987              NaN   \n",
       "7       ...                 1.337        1803.987              NaN   \n",
       "8       ...                 1.337        1803.987              NaN   \n",
       "9       ...                 1.337        1803.987              NaN   \n",
       "\n",
       "   cardiovasc_death_rate  diabetes_prevalence  female_smokers  male_smokers  \\\n",
       "0                597.029                 9.59             NaN           NaN   \n",
       "1                597.029                 9.59             NaN           NaN   \n",
       "2                597.029                 9.59             NaN           NaN   \n",
       "3                597.029                 9.59             NaN           NaN   \n",
       "4                597.029                 9.59             NaN           NaN   \n",
       "5                597.029                 9.59             NaN           NaN   \n",
       "6                597.029                 9.59             NaN           NaN   \n",
       "7                597.029                 9.59             NaN           NaN   \n",
       "8                597.029                 9.59             NaN           NaN   \n",
       "9                597.029                 9.59             NaN           NaN   \n",
       "\n",
       "   handwashing_facilities hospital_beds_per_thousand  life_expectancy  \n",
       "0                  37.746                        0.5            64.83  \n",
       "1                  37.746                        0.5            64.83  \n",
       "2                  37.746                        0.5            64.83  \n",
       "3                  37.746                        0.5            64.83  \n",
       "4                  37.746                        0.5            64.83  \n",
       "5                  37.746                        0.5            64.83  \n",
       "6                  37.746                        0.5            64.83  \n",
       "7                  37.746                        0.5            64.83  \n",
       "8                  37.746                        0.5            64.83  \n",
       "9                  37.746                        0.5            64.83  \n",
       "\n",
       "[10 rows x 34 columns]"
      ]
     },
     "execution_count": 5,
     "metadata": {},
     "output_type": "execute_result"
    }
   ],
   "source": [
    "df.head(10)"
   ]
  },
  {
   "cell_type": "markdown",
   "metadata": {},
   "source": [
    "### Data Understanding And EDA"
   ]
  },
  {
   "cell_type": "markdown",
   "metadata": {},
   "source": [
    "#### Converting data types"
   ]
  },
  {
   "cell_type": "code",
   "execution_count": 6,
   "metadata": {},
   "outputs": [
    {
     "data": {
      "text/html": [
       "<div>\n",
       "<style scoped>\n",
       "    .dataframe tbody tr th:only-of-type {\n",
       "        vertical-align: middle;\n",
       "    }\n",
       "\n",
       "    .dataframe tbody tr th {\n",
       "        vertical-align: top;\n",
       "    }\n",
       "\n",
       "    .dataframe thead th {\n",
       "        text-align: right;\n",
       "    }\n",
       "</style>\n",
       "<table border=\"1\" class=\"dataframe\">\n",
       "  <thead>\n",
       "    <tr style=\"text-align: right;\">\n",
       "      <th></th>\n",
       "      <th>iso_code</th>\n",
       "      <th>continent</th>\n",
       "      <th>location</th>\n",
       "      <th>date</th>\n",
       "      <th>total_cases</th>\n",
       "      <th>new_cases</th>\n",
       "      <th>total_deaths</th>\n",
       "      <th>new_deaths</th>\n",
       "      <th>total_cases_per_million</th>\n",
       "      <th>new_cases_per_million</th>\n",
       "      <th>...</th>\n",
       "      <th>aged_70_older</th>\n",
       "      <th>gdp_per_capita</th>\n",
       "      <th>extreme_poverty</th>\n",
       "      <th>cardiovasc_death_rate</th>\n",
       "      <th>diabetes_prevalence</th>\n",
       "      <th>female_smokers</th>\n",
       "      <th>male_smokers</th>\n",
       "      <th>handwashing_facilities</th>\n",
       "      <th>hospital_beds_per_thousand</th>\n",
       "      <th>life_expectancy</th>\n",
       "    </tr>\n",
       "  </thead>\n",
       "  <tbody>\n",
       "    <tr>\n",
       "      <th>0</th>\n",
       "      <td>AFG</td>\n",
       "      <td>Asia</td>\n",
       "      <td>Afghanistan</td>\n",
       "      <td>12-31-2019</td>\n",
       "      <td>0.0</td>\n",
       "      <td>0.0</td>\n",
       "      <td>0.0</td>\n",
       "      <td>0.0</td>\n",
       "      <td>0.0</td>\n",
       "      <td>0.0</td>\n",
       "      <td>...</td>\n",
       "      <td>1.337</td>\n",
       "      <td>1803.987</td>\n",
       "      <td>NaN</td>\n",
       "      <td>597.029</td>\n",
       "      <td>9.59</td>\n",
       "      <td>NaN</td>\n",
       "      <td>NaN</td>\n",
       "      <td>37.746</td>\n",
       "      <td>0.5</td>\n",
       "      <td>64.83</td>\n",
       "    </tr>\n",
       "    <tr>\n",
       "      <th>1</th>\n",
       "      <td>AFG</td>\n",
       "      <td>Asia</td>\n",
       "      <td>Afghanistan</td>\n",
       "      <td>01-01-2020</td>\n",
       "      <td>0.0</td>\n",
       "      <td>0.0</td>\n",
       "      <td>0.0</td>\n",
       "      <td>0.0</td>\n",
       "      <td>0.0</td>\n",
       "      <td>0.0</td>\n",
       "      <td>...</td>\n",
       "      <td>1.337</td>\n",
       "      <td>1803.987</td>\n",
       "      <td>NaN</td>\n",
       "      <td>597.029</td>\n",
       "      <td>9.59</td>\n",
       "      <td>NaN</td>\n",
       "      <td>NaN</td>\n",
       "      <td>37.746</td>\n",
       "      <td>0.5</td>\n",
       "      <td>64.83</td>\n",
       "    </tr>\n",
       "    <tr>\n",
       "      <th>2</th>\n",
       "      <td>AFG</td>\n",
       "      <td>Asia</td>\n",
       "      <td>Afghanistan</td>\n",
       "      <td>01-02-2020</td>\n",
       "      <td>0.0</td>\n",
       "      <td>0.0</td>\n",
       "      <td>0.0</td>\n",
       "      <td>0.0</td>\n",
       "      <td>0.0</td>\n",
       "      <td>0.0</td>\n",
       "      <td>...</td>\n",
       "      <td>1.337</td>\n",
       "      <td>1803.987</td>\n",
       "      <td>NaN</td>\n",
       "      <td>597.029</td>\n",
       "      <td>9.59</td>\n",
       "      <td>NaN</td>\n",
       "      <td>NaN</td>\n",
       "      <td>37.746</td>\n",
       "      <td>0.5</td>\n",
       "      <td>64.83</td>\n",
       "    </tr>\n",
       "    <tr>\n",
       "      <th>3</th>\n",
       "      <td>AFG</td>\n",
       "      <td>Asia</td>\n",
       "      <td>Afghanistan</td>\n",
       "      <td>01-03-2020</td>\n",
       "      <td>0.0</td>\n",
       "      <td>0.0</td>\n",
       "      <td>0.0</td>\n",
       "      <td>0.0</td>\n",
       "      <td>0.0</td>\n",
       "      <td>0.0</td>\n",
       "      <td>...</td>\n",
       "      <td>1.337</td>\n",
       "      <td>1803.987</td>\n",
       "      <td>NaN</td>\n",
       "      <td>597.029</td>\n",
       "      <td>9.59</td>\n",
       "      <td>NaN</td>\n",
       "      <td>NaN</td>\n",
       "      <td>37.746</td>\n",
       "      <td>0.5</td>\n",
       "      <td>64.83</td>\n",
       "    </tr>\n",
       "    <tr>\n",
       "      <th>4</th>\n",
       "      <td>AFG</td>\n",
       "      <td>Asia</td>\n",
       "      <td>Afghanistan</td>\n",
       "      <td>01-04-2020</td>\n",
       "      <td>0.0</td>\n",
       "      <td>0.0</td>\n",
       "      <td>0.0</td>\n",
       "      <td>0.0</td>\n",
       "      <td>0.0</td>\n",
       "      <td>0.0</td>\n",
       "      <td>...</td>\n",
       "      <td>1.337</td>\n",
       "      <td>1803.987</td>\n",
       "      <td>NaN</td>\n",
       "      <td>597.029</td>\n",
       "      <td>9.59</td>\n",
       "      <td>NaN</td>\n",
       "      <td>NaN</td>\n",
       "      <td>37.746</td>\n",
       "      <td>0.5</td>\n",
       "      <td>64.83</td>\n",
       "    </tr>\n",
       "  </tbody>\n",
       "</table>\n",
       "<p>5 rows × 34 columns</p>\n",
       "</div>"
      ],
      "text/plain": [
       "  iso_code continent     location        date  total_cases  new_cases  \\\n",
       "0      AFG      Asia  Afghanistan  12-31-2019          0.0        0.0   \n",
       "1      AFG      Asia  Afghanistan  01-01-2020          0.0        0.0   \n",
       "2      AFG      Asia  Afghanistan  01-02-2020          0.0        0.0   \n",
       "3      AFG      Asia  Afghanistan  01-03-2020          0.0        0.0   \n",
       "4      AFG      Asia  Afghanistan  01-04-2020          0.0        0.0   \n",
       "\n",
       "   total_deaths  new_deaths  total_cases_per_million  new_cases_per_million  \\\n",
       "0           0.0         0.0                      0.0                    0.0   \n",
       "1           0.0         0.0                      0.0                    0.0   \n",
       "2           0.0         0.0                      0.0                    0.0   \n",
       "3           0.0         0.0                      0.0                    0.0   \n",
       "4           0.0         0.0                      0.0                    0.0   \n",
       "\n",
       "        ...         aged_70_older  gdp_per_capita  extreme_poverty  \\\n",
       "0       ...                 1.337        1803.987              NaN   \n",
       "1       ...                 1.337        1803.987              NaN   \n",
       "2       ...                 1.337        1803.987              NaN   \n",
       "3       ...                 1.337        1803.987              NaN   \n",
       "4       ...                 1.337        1803.987              NaN   \n",
       "\n",
       "   cardiovasc_death_rate  diabetes_prevalence  female_smokers  male_smokers  \\\n",
       "0                597.029                 9.59             NaN           NaN   \n",
       "1                597.029                 9.59             NaN           NaN   \n",
       "2                597.029                 9.59             NaN           NaN   \n",
       "3                597.029                 9.59             NaN           NaN   \n",
       "4                597.029                 9.59             NaN           NaN   \n",
       "\n",
       "   handwashing_facilities hospital_beds_per_thousand  life_expectancy  \n",
       "0                  37.746                        0.5            64.83  \n",
       "1                  37.746                        0.5            64.83  \n",
       "2                  37.746                        0.5            64.83  \n",
       "3                  37.746                        0.5            64.83  \n",
       "4                  37.746                        0.5            64.83  \n",
       "\n",
       "[5 rows x 34 columns]"
      ]
     },
     "execution_count": 6,
     "metadata": {},
     "output_type": "execute_result"
    }
   ],
   "source": [
    "df['date']=df['date'].dt.strftime(\"%m-%d-%Y\")\n",
    "df.head()"
   ]
  },
  {
   "cell_type": "code",
   "execution_count": 7,
   "metadata": {},
   "outputs": [],
   "source": [
    "df['date']= pd.to_datetime(df['date'])\n",
    "assert df['date'].dtype=='datetime64[ns]'"
   ]
  },
  {
   "cell_type": "code",
   "execution_count": 8,
   "metadata": {
    "scrolled": false
   },
   "outputs": [
    {
     "data": {
      "text/plain": [
       "iso_code                                   object\n",
       "continent                                  object\n",
       "location                                   object\n",
       "date                               datetime64[ns]\n",
       "total_cases                               float64\n",
       "new_cases                                 float64\n",
       "total_deaths                              float64\n",
       "new_deaths                                float64\n",
       "total_cases_per_million                   float64\n",
       "new_cases_per_million                     float64\n",
       "total_deaths_per_million                  float64\n",
       "new_deaths_per_million                    float64\n",
       "new_tests                                 float64\n",
       "total_tests                               float64\n",
       "total_tests_per_thousand                  float64\n",
       "new_tests_per_thousand                    float64\n",
       "new_tests_smoothed                        float64\n",
       "new_tests_smoothed_per_thousand           float64\n",
       "tests_units                                object\n",
       "stringency_index                          float64\n",
       "population                                float64\n",
       "population_density                        float64\n",
       "median_age                                float64\n",
       "aged_65_older                             float64\n",
       "aged_70_older                             float64\n",
       "gdp_per_capita                            float64\n",
       "extreme_poverty                           float64\n",
       "cardiovasc_death_rate                     float64\n",
       "diabetes_prevalence                       float64\n",
       "female_smokers                            float64\n",
       "male_smokers                              float64\n",
       "handwashing_facilities                    float64\n",
       "hospital_beds_per_thousand                float64\n",
       "life_expectancy                           float64\n",
       "dtype: object"
      ]
     },
     "execution_count": 8,
     "metadata": {},
     "output_type": "execute_result"
    }
   ],
   "source": [
    "df.dtypes"
   ]
  },
  {
   "cell_type": "code",
   "execution_count": null,
   "metadata": {},
   "outputs": [],
   "source": [
    "#df['year']=df.date.year\n",
    "#df['month']=df.date.month\n",
    "#df.head()"
   ]
  },
  {
   "cell_type": "code",
   "execution_count": 9,
   "metadata": {},
   "outputs": [
    {
     "data": {
      "text/html": [
       "<div>\n",
       "<style scoped>\n",
       "    .dataframe tbody tr th:only-of-type {\n",
       "        vertical-align: middle;\n",
       "    }\n",
       "\n",
       "    .dataframe tbody tr th {\n",
       "        vertical-align: top;\n",
       "    }\n",
       "\n",
       "    .dataframe thead th {\n",
       "        text-align: right;\n",
       "    }\n",
       "</style>\n",
       "<table border=\"1\" class=\"dataframe\">\n",
       "  <thead>\n",
       "    <tr style=\"text-align: right;\">\n",
       "      <th></th>\n",
       "      <th>iso_code</th>\n",
       "      <th>continent</th>\n",
       "      <th>location</th>\n",
       "      <th>total_cases</th>\n",
       "      <th>new_cases</th>\n",
       "      <th>total_deaths</th>\n",
       "      <th>new_deaths</th>\n",
       "      <th>total_cases_per_million</th>\n",
       "      <th>new_cases_per_million</th>\n",
       "      <th>total_deaths_per_million</th>\n",
       "      <th>...</th>\n",
       "      <th>aged_70_older</th>\n",
       "      <th>gdp_per_capita</th>\n",
       "      <th>extreme_poverty</th>\n",
       "      <th>cardiovasc_death_rate</th>\n",
       "      <th>diabetes_prevalence</th>\n",
       "      <th>female_smokers</th>\n",
       "      <th>male_smokers</th>\n",
       "      <th>handwashing_facilities</th>\n",
       "      <th>hospital_beds_per_thousand</th>\n",
       "      <th>life_expectancy</th>\n",
       "    </tr>\n",
       "    <tr>\n",
       "      <th>date</th>\n",
       "      <th></th>\n",
       "      <th></th>\n",
       "      <th></th>\n",
       "      <th></th>\n",
       "      <th></th>\n",
       "      <th></th>\n",
       "      <th></th>\n",
       "      <th></th>\n",
       "      <th></th>\n",
       "      <th></th>\n",
       "      <th></th>\n",
       "      <th></th>\n",
       "      <th></th>\n",
       "      <th></th>\n",
       "      <th></th>\n",
       "      <th></th>\n",
       "      <th></th>\n",
       "      <th></th>\n",
       "      <th></th>\n",
       "      <th></th>\n",
       "      <th></th>\n",
       "    </tr>\n",
       "  </thead>\n",
       "  <tbody>\n",
       "    <tr>\n",
       "      <th>2019-12-31</th>\n",
       "      <td>AFG</td>\n",
       "      <td>Asia</td>\n",
       "      <td>Afghanistan</td>\n",
       "      <td>0.0</td>\n",
       "      <td>0.0</td>\n",
       "      <td>0.0</td>\n",
       "      <td>0.0</td>\n",
       "      <td>0.0</td>\n",
       "      <td>0.0</td>\n",
       "      <td>0.0</td>\n",
       "      <td>...</td>\n",
       "      <td>1.337</td>\n",
       "      <td>1803.987</td>\n",
       "      <td>NaN</td>\n",
       "      <td>597.029</td>\n",
       "      <td>9.59</td>\n",
       "      <td>NaN</td>\n",
       "      <td>NaN</td>\n",
       "      <td>37.746</td>\n",
       "      <td>0.5</td>\n",
       "      <td>64.83</td>\n",
       "    </tr>\n",
       "    <tr>\n",
       "      <th>2020-01-01</th>\n",
       "      <td>AFG</td>\n",
       "      <td>Asia</td>\n",
       "      <td>Afghanistan</td>\n",
       "      <td>0.0</td>\n",
       "      <td>0.0</td>\n",
       "      <td>0.0</td>\n",
       "      <td>0.0</td>\n",
       "      <td>0.0</td>\n",
       "      <td>0.0</td>\n",
       "      <td>0.0</td>\n",
       "      <td>...</td>\n",
       "      <td>1.337</td>\n",
       "      <td>1803.987</td>\n",
       "      <td>NaN</td>\n",
       "      <td>597.029</td>\n",
       "      <td>9.59</td>\n",
       "      <td>NaN</td>\n",
       "      <td>NaN</td>\n",
       "      <td>37.746</td>\n",
       "      <td>0.5</td>\n",
       "      <td>64.83</td>\n",
       "    </tr>\n",
       "    <tr>\n",
       "      <th>2020-01-02</th>\n",
       "      <td>AFG</td>\n",
       "      <td>Asia</td>\n",
       "      <td>Afghanistan</td>\n",
       "      <td>0.0</td>\n",
       "      <td>0.0</td>\n",
       "      <td>0.0</td>\n",
       "      <td>0.0</td>\n",
       "      <td>0.0</td>\n",
       "      <td>0.0</td>\n",
       "      <td>0.0</td>\n",
       "      <td>...</td>\n",
       "      <td>1.337</td>\n",
       "      <td>1803.987</td>\n",
       "      <td>NaN</td>\n",
       "      <td>597.029</td>\n",
       "      <td>9.59</td>\n",
       "      <td>NaN</td>\n",
       "      <td>NaN</td>\n",
       "      <td>37.746</td>\n",
       "      <td>0.5</td>\n",
       "      <td>64.83</td>\n",
       "    </tr>\n",
       "  </tbody>\n",
       "</table>\n",
       "<p>3 rows × 33 columns</p>\n",
       "</div>"
      ],
      "text/plain": [
       "           iso_code continent     location  total_cases  new_cases  \\\n",
       "date                                                                 \n",
       "2019-12-31      AFG      Asia  Afghanistan          0.0        0.0   \n",
       "2020-01-01      AFG      Asia  Afghanistan          0.0        0.0   \n",
       "2020-01-02      AFG      Asia  Afghanistan          0.0        0.0   \n",
       "\n",
       "            total_deaths  new_deaths  total_cases_per_million  \\\n",
       "date                                                            \n",
       "2019-12-31           0.0         0.0                      0.0   \n",
       "2020-01-01           0.0         0.0                      0.0   \n",
       "2020-01-02           0.0         0.0                      0.0   \n",
       "\n",
       "            new_cases_per_million  total_deaths_per_million       ...         \\\n",
       "date                                                              ...          \n",
       "2019-12-31                    0.0                       0.0       ...          \n",
       "2020-01-01                    0.0                       0.0       ...          \n",
       "2020-01-02                    0.0                       0.0       ...          \n",
       "\n",
       "            aged_70_older  gdp_per_capita  extreme_poverty  \\\n",
       "date                                                         \n",
       "2019-12-31          1.337        1803.987              NaN   \n",
       "2020-01-01          1.337        1803.987              NaN   \n",
       "2020-01-02          1.337        1803.987              NaN   \n",
       "\n",
       "            cardiovasc_death_rate  diabetes_prevalence  female_smokers  \\\n",
       "date                                                                     \n",
       "2019-12-31                597.029                 9.59             NaN   \n",
       "2020-01-01                597.029                 9.59             NaN   \n",
       "2020-01-02                597.029                 9.59             NaN   \n",
       "\n",
       "            male_smokers handwashing_facilities  hospital_beds_per_thousand  \\\n",
       "date                                                                          \n",
       "2019-12-31           NaN                 37.746                         0.5   \n",
       "2020-01-01           NaN                 37.746                         0.5   \n",
       "2020-01-02           NaN                 37.746                         0.5   \n",
       "\n",
       "            life_expectancy  \n",
       "date                         \n",
       "2019-12-31            64.83  \n",
       "2020-01-01            64.83  \n",
       "2020-01-02            64.83  \n",
       "\n",
       "[3 rows x 33 columns]"
      ]
     },
     "execution_count": 9,
     "metadata": {},
     "output_type": "execute_result"
    }
   ],
   "source": [
    "df = df.set_index('date')\n",
    "df.head(3)"
   ]
  },
  {
   "cell_type": "markdown",
   "metadata": {},
   "source": [
    "#### Looking at all the variables and other data types"
   ]
  },
  {
   "cell_type": "code",
   "execution_count": 10,
   "metadata": {},
   "outputs": [
    {
     "name": "stdout",
     "output_type": "stream",
     "text": [
      "<class 'pandas.core.frame.DataFrame'>\n",
      "DatetimeIndex: 33417 entries, 2019-12-31 to 2020-03-10\n",
      "Data columns (total 33 columns):\n",
      "iso_code                           33353 non-null object\n",
      "continent                          33141 non-null object\n",
      "location                           33417 non-null object\n",
      "total_cases                        33062 non-null float64\n",
      "new_cases                          33062 non-null float64\n",
      "total_deaths                       33062 non-null float64\n",
      "new_deaths                         33062 non-null float64\n",
      "total_cases_per_million            32998 non-null float64\n",
      "new_cases_per_million              32998 non-null float64\n",
      "total_deaths_per_million           32998 non-null float64\n",
      "new_deaths_per_million             32998 non-null float64\n",
      "new_tests                          10401 non-null float64\n",
      "total_tests                        10647 non-null float64\n",
      "total_tests_per_thousand           10647 non-null float64\n",
      "new_tests_per_thousand             10401 non-null float64\n",
      "new_tests_smoothed                 11520 non-null float64\n",
      "new_tests_smoothed_per_thousand    11520 non-null float64\n",
      "tests_units                        12288 non-null object\n",
      "stringency_index                   27130 non-null float64\n",
      "population                         33353 non-null float64\n",
      "population_density                 31910 non-null float64\n",
      "median_age                         30074 non-null float64\n",
      "aged_65_older                      29638 non-null float64\n",
      "aged_70_older                      29919 non-null float64\n",
      "gdp_per_capita                     29708 non-null float64\n",
      "extreme_poverty                    19865 non-null float64\n",
      "cardiovasc_death_rate              30083 non-null float64\n",
      "diabetes_prevalence                31104 non-null float64\n",
      "female_smokers                     23877 non-null float64\n",
      "male_smokers                       23591 non-null float64\n",
      "handwashing_facilities             13764 non-null float64\n",
      "hospital_beds_per_thousand         27353 non-null float64\n",
      "life_expectancy                    32951 non-null float64\n",
      "dtypes: float64(29), object(4)\n",
      "memory usage: 8.7+ MB\n"
     ]
    }
   ],
   "source": [
    "df.info()"
   ]
  },
  {
   "cell_type": "markdown",
   "metadata": {},
   "source": [
    "There are 33417 observations and 34 columns where 5 variables are of categorical data type and the remaining 29 variables are of numerical data types\n",
    "\n",
    "#### The following is a list of names of variables in this data set\n"
   ]
  },
  {
   "cell_type": "code",
   "execution_count": 11,
   "metadata": {},
   "outputs": [
    {
     "data": {
      "text/plain": [
       "Index(['iso_code', 'continent', 'location', 'total_cases', 'new_cases',\n",
       "       'total_deaths', 'new_deaths', 'total_cases_per_million',\n",
       "       'new_cases_per_million', 'total_deaths_per_million',\n",
       "       'new_deaths_per_million', 'new_tests', 'total_tests',\n",
       "       'total_tests_per_thousand', 'new_tests_per_thousand',\n",
       "       'new_tests_smoothed', 'new_tests_smoothed_per_thousand', 'tests_units',\n",
       "       'stringency_index', 'population', 'population_density', 'median_age',\n",
       "       'aged_65_older', 'aged_70_older', 'gdp_per_capita', 'extreme_poverty',\n",
       "       'cardiovasc_death_rate', 'diabetes_prevalence', 'female_smokers',\n",
       "       'male_smokers', 'handwashing_facilities', 'hospital_beds_per_thousand',\n",
       "       'life_expectancy'],\n",
       "      dtype='object')"
      ]
     },
     "execution_count": 11,
     "metadata": {},
     "output_type": "execute_result"
    }
   ],
   "source": [
    "df.columns"
   ]
  },
  {
   "cell_type": "markdown",
   "metadata": {},
   "source": [
    "#### Describing and Summarizing numerical or continuous variables"
   ]
  },
  {
   "cell_type": "code",
   "execution_count": 12,
   "metadata": {},
   "outputs": [
    {
     "data": {
      "text/html": [
       "<div>\n",
       "<style scoped>\n",
       "    .dataframe tbody tr th:only-of-type {\n",
       "        vertical-align: middle;\n",
       "    }\n",
       "\n",
       "    .dataframe tbody tr th {\n",
       "        vertical-align: top;\n",
       "    }\n",
       "\n",
       "    .dataframe thead th {\n",
       "        text-align: right;\n",
       "    }\n",
       "</style>\n",
       "<table border=\"1\" class=\"dataframe\">\n",
       "  <thead>\n",
       "    <tr style=\"text-align: right;\">\n",
       "      <th></th>\n",
       "      <th>total_cases</th>\n",
       "      <th>new_cases</th>\n",
       "      <th>total_deaths</th>\n",
       "      <th>new_deaths</th>\n",
       "      <th>total_cases_per_million</th>\n",
       "      <th>new_cases_per_million</th>\n",
       "      <th>total_deaths_per_million</th>\n",
       "      <th>new_deaths_per_million</th>\n",
       "      <th>new_tests</th>\n",
       "      <th>total_tests</th>\n",
       "      <th>...</th>\n",
       "      <th>aged_70_older</th>\n",
       "      <th>gdp_per_capita</th>\n",
       "      <th>extreme_poverty</th>\n",
       "      <th>cardiovasc_death_rate</th>\n",
       "      <th>diabetes_prevalence</th>\n",
       "      <th>female_smokers</th>\n",
       "      <th>male_smokers</th>\n",
       "      <th>handwashing_facilities</th>\n",
       "      <th>hospital_beds_per_thousand</th>\n",
       "      <th>life_expectancy</th>\n",
       "    </tr>\n",
       "  </thead>\n",
       "  <tbody>\n",
       "    <tr>\n",
       "      <th>count</th>\n",
       "      <td>3.306200e+04</td>\n",
       "      <td>33062.000000</td>\n",
       "      <td>33062.000000</td>\n",
       "      <td>33062.00000</td>\n",
       "      <td>32998.000000</td>\n",
       "      <td>32998.000000</td>\n",
       "      <td>32998.000000</td>\n",
       "      <td>32998.000000</td>\n",
       "      <td>10401.000000</td>\n",
       "      <td>1.064700e+04</td>\n",
       "      <td>...</td>\n",
       "      <td>29919.000000</td>\n",
       "      <td>29708.000000</td>\n",
       "      <td>19865.000000</td>\n",
       "      <td>30083.000000</td>\n",
       "      <td>31104.000000</td>\n",
       "      <td>23877.000000</td>\n",
       "      <td>23591.000000</td>\n",
       "      <td>13764.000000</td>\n",
       "      <td>27353.000000</td>\n",
       "      <td>32951.000000</td>\n",
       "    </tr>\n",
       "    <tr>\n",
       "      <th>mean</th>\n",
       "      <td>5.091939e+04</td>\n",
       "      <td>1010.762809</td>\n",
       "      <td>2655.291634</td>\n",
       "      <td>39.93243</td>\n",
       "      <td>1103.657007</td>\n",
       "      <td>17.858746</td>\n",
       "      <td>40.909829</td>\n",
       "      <td>0.533204</td>\n",
       "      <td>16320.258341</td>\n",
       "      <td>7.689958e+05</td>\n",
       "      <td>...</td>\n",
       "      <td>5.990319</td>\n",
       "      <td>21546.066343</td>\n",
       "      <td>11.489011</td>\n",
       "      <td>249.517591</td>\n",
       "      <td>8.039533</td>\n",
       "      <td>10.990606</td>\n",
       "      <td>32.629508</td>\n",
       "      <td>53.246010</td>\n",
       "      <td>3.146980</td>\n",
       "      <td>74.244388</td>\n",
       "    </tr>\n",
       "    <tr>\n",
       "      <th>std</th>\n",
       "      <td>5.180225e+05</td>\n",
       "      <td>9309.139517</td>\n",
       "      <td>25233.329557</td>\n",
       "      <td>347.73264</td>\n",
       "      <td>2674.940362</td>\n",
       "      <td>62.928423</td>\n",
       "      <td>123.250689</td>\n",
       "      <td>3.006846</td>\n",
       "      <td>59168.420750</td>\n",
       "      <td>3.022411e+06</td>\n",
       "      <td>...</td>\n",
       "      <td>4.362110</td>\n",
       "      <td>20697.420278</td>\n",
       "      <td>18.736936</td>\n",
       "      <td>117.957827</td>\n",
       "      <td>4.116805</td>\n",
       "      <td>10.504692</td>\n",
       "      <td>13.328649</td>\n",
       "      <td>31.456423</td>\n",
       "      <td>2.549325</td>\n",
       "      <td>7.316460</td>\n",
       "    </tr>\n",
       "    <tr>\n",
       "      <th>min</th>\n",
       "      <td>0.000000e+00</td>\n",
       "      <td>-29726.000000</td>\n",
       "      <td>0.000000</td>\n",
       "      <td>-1918.00000</td>\n",
       "      <td>0.000000</td>\n",
       "      <td>-437.881000</td>\n",
       "      <td>0.000000</td>\n",
       "      <td>-41.023000</td>\n",
       "      <td>-3743.000000</td>\n",
       "      <td>1.000000e+00</td>\n",
       "      <td>...</td>\n",
       "      <td>0.526000</td>\n",
       "      <td>661.240000</td>\n",
       "      <td>0.100000</td>\n",
       "      <td>79.370000</td>\n",
       "      <td>0.990000</td>\n",
       "      <td>0.100000</td>\n",
       "      <td>7.700000</td>\n",
       "      <td>1.188000</td>\n",
       "      <td>0.100000</td>\n",
       "      <td>53.280000</td>\n",
       "    </tr>\n",
       "    <tr>\n",
       "      <th>25%</th>\n",
       "      <td>2.100000e+01</td>\n",
       "      <td>0.000000</td>\n",
       "      <td>0.000000</td>\n",
       "      <td>0.00000</td>\n",
       "      <td>8.521500</td>\n",
       "      <td>0.000000</td>\n",
       "      <td>0.000000</td>\n",
       "      <td>0.000000</td>\n",
       "      <td>805.000000</td>\n",
       "      <td>2.585100e+04</td>\n",
       "      <td>...</td>\n",
       "      <td>2.162000</td>\n",
       "      <td>6171.884000</td>\n",
       "      <td>0.500000</td>\n",
       "      <td>153.493000</td>\n",
       "      <td>5.310000</td>\n",
       "      <td>1.900000</td>\n",
       "      <td>21.400000</td>\n",
       "      <td>22.863000</td>\n",
       "      <td>1.380000</td>\n",
       "      <td>70.390000</td>\n",
       "    </tr>\n",
       "    <tr>\n",
       "      <th>50%</th>\n",
       "      <td>4.460000e+02</td>\n",
       "      <td>5.000000</td>\n",
       "      <td>9.000000</td>\n",
       "      <td>0.00000</td>\n",
       "      <td>155.458000</td>\n",
       "      <td>0.773000</td>\n",
       "      <td>2.043000</td>\n",
       "      <td>0.000000</td>\n",
       "      <td>2766.000000</td>\n",
       "      <td>1.105140e+05</td>\n",
       "      <td>...</td>\n",
       "      <td>4.458000</td>\n",
       "      <td>15183.616000</td>\n",
       "      <td>1.700000</td>\n",
       "      <td>235.954000</td>\n",
       "      <td>7.110000</td>\n",
       "      <td>6.434000</td>\n",
       "      <td>31.400000</td>\n",
       "      <td>55.182000</td>\n",
       "      <td>2.540000</td>\n",
       "      <td>75.860000</td>\n",
       "    </tr>\n",
       "    <tr>\n",
       "      <th>75%</th>\n",
       "      <td>5.066500e+03</td>\n",
       "      <td>102.000000</td>\n",
       "      <td>107.000000</td>\n",
       "      <td>2.00000</td>\n",
       "      <td>936.628000</td>\n",
       "      <td>10.572000</td>\n",
       "      <td>21.692000</td>\n",
       "      <td>0.140000</td>\n",
       "      <td>9307.000000</td>\n",
       "      <td>4.324700e+05</td>\n",
       "      <td>...</td>\n",
       "      <td>9.720000</td>\n",
       "      <td>33132.320000</td>\n",
       "      <td>15.000000</td>\n",
       "      <td>318.949000</td>\n",
       "      <td>10.080000</td>\n",
       "      <td>19.600000</td>\n",
       "      <td>40.900000</td>\n",
       "      <td>83.741000</td>\n",
       "      <td>4.210000</td>\n",
       "      <td>80.100000</td>\n",
       "    </tr>\n",
       "    <tr>\n",
       "      <th>max</th>\n",
       "      <td>1.670892e+07</td>\n",
       "      <td>284710.000000</td>\n",
       "      <td>660123.000000</td>\n",
       "      <td>10512.00000</td>\n",
       "      <td>38138.741000</td>\n",
       "      <td>4944.376000</td>\n",
       "      <td>1237.551000</td>\n",
       "      <td>200.040000</td>\n",
       "      <td>929838.000000</td>\n",
       "      <td>5.063568e+07</td>\n",
       "      <td>...</td>\n",
       "      <td>18.493000</td>\n",
       "      <td>116935.600000</td>\n",
       "      <td>77.600000</td>\n",
       "      <td>724.417000</td>\n",
       "      <td>23.360000</td>\n",
       "      <td>44.000000</td>\n",
       "      <td>78.100000</td>\n",
       "      <td>98.999000</td>\n",
       "      <td>13.800000</td>\n",
       "      <td>86.750000</td>\n",
       "    </tr>\n",
       "  </tbody>\n",
       "</table>\n",
       "<p>8 rows × 29 columns</p>\n",
       "</div>"
      ],
      "text/plain": [
       "        total_cases      new_cases   total_deaths   new_deaths  \\\n",
       "count  3.306200e+04   33062.000000   33062.000000  33062.00000   \n",
       "mean   5.091939e+04    1010.762809    2655.291634     39.93243   \n",
       "std    5.180225e+05    9309.139517   25233.329557    347.73264   \n",
       "min    0.000000e+00  -29726.000000       0.000000  -1918.00000   \n",
       "25%    2.100000e+01       0.000000       0.000000      0.00000   \n",
       "50%    4.460000e+02       5.000000       9.000000      0.00000   \n",
       "75%    5.066500e+03     102.000000     107.000000      2.00000   \n",
       "max    1.670892e+07  284710.000000  660123.000000  10512.00000   \n",
       "\n",
       "       total_cases_per_million  new_cases_per_million  \\\n",
       "count             32998.000000           32998.000000   \n",
       "mean               1103.657007              17.858746   \n",
       "std                2674.940362              62.928423   \n",
       "min                   0.000000            -437.881000   \n",
       "25%                   8.521500               0.000000   \n",
       "50%                 155.458000               0.773000   \n",
       "75%                 936.628000              10.572000   \n",
       "max               38138.741000            4944.376000   \n",
       "\n",
       "       total_deaths_per_million  new_deaths_per_million      new_tests  \\\n",
       "count              32998.000000            32998.000000   10401.000000   \n",
       "mean                  40.909829                0.533204   16320.258341   \n",
       "std                  123.250689                3.006846   59168.420750   \n",
       "min                    0.000000              -41.023000   -3743.000000   \n",
       "25%                    0.000000                0.000000     805.000000   \n",
       "50%                    2.043000                0.000000    2766.000000   \n",
       "75%                   21.692000                0.140000    9307.000000   \n",
       "max                 1237.551000              200.040000  929838.000000   \n",
       "\n",
       "        total_tests       ...         aged_70_older  gdp_per_capita  \\\n",
       "count  1.064700e+04       ...          29919.000000    29708.000000   \n",
       "mean   7.689958e+05       ...              5.990319    21546.066343   \n",
       "std    3.022411e+06       ...              4.362110    20697.420278   \n",
       "min    1.000000e+00       ...              0.526000      661.240000   \n",
       "25%    2.585100e+04       ...              2.162000     6171.884000   \n",
       "50%    1.105140e+05       ...              4.458000    15183.616000   \n",
       "75%    4.324700e+05       ...              9.720000    33132.320000   \n",
       "max    5.063568e+07       ...             18.493000   116935.600000   \n",
       "\n",
       "       extreme_poverty  cardiovasc_death_rate  diabetes_prevalence  \\\n",
       "count     19865.000000           30083.000000         31104.000000   \n",
       "mean         11.489011             249.517591             8.039533   \n",
       "std          18.736936             117.957827             4.116805   \n",
       "min           0.100000              79.370000             0.990000   \n",
       "25%           0.500000             153.493000             5.310000   \n",
       "50%           1.700000             235.954000             7.110000   \n",
       "75%          15.000000             318.949000            10.080000   \n",
       "max          77.600000             724.417000            23.360000   \n",
       "\n",
       "       female_smokers  male_smokers  handwashing_facilities  \\\n",
       "count    23877.000000  23591.000000            13764.000000   \n",
       "mean        10.990606     32.629508               53.246010   \n",
       "std         10.504692     13.328649               31.456423   \n",
       "min          0.100000      7.700000                1.188000   \n",
       "25%          1.900000     21.400000               22.863000   \n",
       "50%          6.434000     31.400000               55.182000   \n",
       "75%         19.600000     40.900000               83.741000   \n",
       "max         44.000000     78.100000               98.999000   \n",
       "\n",
       "       hospital_beds_per_thousand  life_expectancy  \n",
       "count                27353.000000     32951.000000  \n",
       "mean                     3.146980        74.244388  \n",
       "std                      2.549325         7.316460  \n",
       "min                      0.100000        53.280000  \n",
       "25%                      1.380000        70.390000  \n",
       "50%                      2.540000        75.860000  \n",
       "75%                      4.210000        80.100000  \n",
       "max                     13.800000        86.750000  \n",
       "\n",
       "[8 rows x 29 columns]"
      ]
     },
     "execution_count": 12,
     "metadata": {},
     "output_type": "execute_result"
    }
   ],
   "source": [
    "df.describe()"
   ]
  },
  {
   "cell_type": "markdown",
   "metadata": {},
   "source": [
    "### Feature Selection\n",
    "#### Dropping unnecessary and redundant numerical columns before analyzing data"
   ]
  },
  {
   "cell_type": "code",
   "execution_count": 13,
   "metadata": {},
   "outputs": [
    {
     "data": {
      "text/plain": [
       "iso_code                              64\n",
       "continent                            276\n",
       "location                               0\n",
       "total_cases                          355\n",
       "new_cases                            355\n",
       "total_deaths                         355\n",
       "new_deaths                           355\n",
       "total_cases_per_million              419\n",
       "new_cases_per_million                419\n",
       "total_deaths_per_million             419\n",
       "new_deaths_per_million               419\n",
       "new_tests                          23016\n",
       "total_tests                        22770\n",
       "total_tests_per_thousand           22770\n",
       "new_tests_per_thousand             23016\n",
       "new_tests_smoothed                 21897\n",
       "new_tests_smoothed_per_thousand    21897\n",
       "tests_units                        21129\n",
       "stringency_index                    6287\n",
       "population                            64\n",
       "population_density                  1507\n",
       "median_age                          3343\n",
       "aged_65_older                       3779\n",
       "aged_70_older                       3498\n",
       "gdp_per_capita                      3709\n",
       "extreme_poverty                    13552\n",
       "cardiovasc_death_rate               3334\n",
       "diabetes_prevalence                 2313\n",
       "female_smokers                      9540\n",
       "male_smokers                        9826\n",
       "handwashing_facilities             19653\n",
       "hospital_beds_per_thousand          6064\n",
       "life_expectancy                      466\n",
       "dtype: int64"
      ]
     },
     "execution_count": 13,
     "metadata": {},
     "output_type": "execute_result"
    }
   ],
   "source": [
    "df.isna().sum()"
   ]
  },
  {
   "cell_type": "markdown",
   "metadata": {},
   "source": [
    "There are a total number of 33417 observations and the following variables have more than 60% of data as missing values. \n",
    "\n",
    "new_tests, total_tests, total_tests_per_thousand, new_tests_per_thousand, new_tests_smoothed, new_tests_smoothed_per_thousand, tests_units, \n",
    "\n",
    "and the variable \"handwashing_facilities\"  has 19653 close to 60% of data as missing values.\n",
    "\n",
    "Therefore, these variables should be removed in order to avoid any bias in modeling. The variable extreme_poverty is also having 40% of its values as missing values. However, we will try to consider this variable as it has less than 50% of its missing values. \n"
   ]
  },
  {
   "cell_type": "code",
   "execution_count": 14,
   "metadata": {},
   "outputs": [],
   "source": [
    "df.drop(['new_tests', 'total_tests', 'total_tests_per_thousand', 'new_tests_per_thousand', 'new_tests_smoothed', 'new_tests_smoothed_per_thousand', 'tests_units', 'handwashing_facilities'], axis = 1, inplace = True)"
   ]
  },
  {
   "cell_type": "markdown",
   "metadata": {},
   "source": [
    "The below mentioned variables should also be removed as these are conversions per million. We would prefer to use per million numbers in general compared to just numbers, however, there are more missing values in variables using per million as conversions. Therefore, we stick to the original variables.\n",
    "\n",
    "total_cases_per_million, new_cases_per_million, total_deaths_per_million, and new_deaths_per_million"
   ]
  },
  {
   "cell_type": "code",
   "execution_count": 15,
   "metadata": {},
   "outputs": [],
   "source": [
    "df.drop(['total_cases_per_million', 'new_cases_per_million', 'total_deaths_per_million', 'new_deaths_per_million'], axis = 1, inplace = True)"
   ]
  },
  {
   "cell_type": "markdown",
   "metadata": {},
   "source": [
    "Because Population Density is calculated using Population, we need to remove Population"
   ]
  },
  {
   "cell_type": "code",
   "execution_count": 16,
   "metadata": {},
   "outputs": [],
   "source": [
    "df.drop(['population'], axis = 1, inplace = True)"
   ]
  },
  {
   "cell_type": "code",
   "execution_count": 17,
   "metadata": {},
   "outputs": [
    {
     "data": {
      "text/plain": [
       "(33417, 20)"
      ]
     },
     "execution_count": 17,
     "metadata": {},
     "output_type": "execute_result"
    }
   ],
   "source": [
    "df.shape"
   ]
  },
  {
   "cell_type": "markdown",
   "metadata": {},
   "source": [
    "#### Describing and Summarizing categorical variables"
   ]
  },
  {
   "cell_type": "code",
   "execution_count": 18,
   "metadata": {},
   "outputs": [
    {
     "data": {
      "text/html": [
       "<div>\n",
       "<style scoped>\n",
       "    .dataframe tbody tr th:only-of-type {\n",
       "        vertical-align: middle;\n",
       "    }\n",
       "\n",
       "    .dataframe tbody tr th {\n",
       "        vertical-align: top;\n",
       "    }\n",
       "\n",
       "    .dataframe thead th {\n",
       "        text-align: right;\n",
       "    }\n",
       "</style>\n",
       "<table border=\"1\" class=\"dataframe\">\n",
       "  <thead>\n",
       "    <tr style=\"text-align: right;\">\n",
       "      <th></th>\n",
       "      <th>iso_code</th>\n",
       "      <th>continent</th>\n",
       "      <th>location</th>\n",
       "    </tr>\n",
       "  </thead>\n",
       "  <tbody>\n",
       "    <tr>\n",
       "      <th>count</th>\n",
       "      <td>33353</td>\n",
       "      <td>33141</td>\n",
       "      <td>33417</td>\n",
       "    </tr>\n",
       "    <tr>\n",
       "      <th>unique</th>\n",
       "      <td>211</td>\n",
       "      <td>6</td>\n",
       "      <td>212</td>\n",
       "    </tr>\n",
       "    <tr>\n",
       "      <th>top</th>\n",
       "      <td>ISL</td>\n",
       "      <td>Europe</td>\n",
       "      <td>Norway</td>\n",
       "    </tr>\n",
       "    <tr>\n",
       "      <th>freq</th>\n",
       "      <td>212</td>\n",
       "      <td>9113</td>\n",
       "      <td>212</td>\n",
       "    </tr>\n",
       "  </tbody>\n",
       "</table>\n",
       "</div>"
      ],
      "text/plain": [
       "       iso_code continent location\n",
       "count     33353     33141    33417\n",
       "unique      211         6      212\n",
       "top         ISL    Europe   Norway\n",
       "freq        212      9113      212"
      ]
     },
     "execution_count": 18,
     "metadata": {},
     "output_type": "execute_result"
    }
   ],
   "source": [
    "df.describe(include = 'O')"
   ]
  },
  {
   "cell_type": "code",
   "execution_count": 19,
   "metadata": {},
   "outputs": [
    {
     "data": {
      "text/plain": [
       "date\n",
       "2019-12-31    Asia\n",
       "2020-01-01    Asia\n",
       "2020-01-02    Asia\n",
       "2020-01-03    Asia\n",
       "2020-01-04    Asia\n",
       "Name: continent, dtype: object"
      ]
     },
     "execution_count": 19,
     "metadata": {},
     "output_type": "execute_result"
    }
   ],
   "source": [
    "df[\"continent\"].head()"
   ]
  },
  {
   "cell_type": "code",
   "execution_count": 20,
   "metadata": {},
   "outputs": [
    {
     "data": {
      "text/plain": [
       "date\n",
       "2020-02-28    International\n",
       "2020-02-29    International\n",
       "2020-03-01    International\n",
       "2020-03-02    International\n",
       "2020-03-10    International\n",
       "Name: location, dtype: object"
      ]
     },
     "execution_count": 20,
     "metadata": {},
     "output_type": "execute_result"
    }
   ],
   "source": [
    "df[\"location\"].tail()"
   ]
  },
  {
   "cell_type": "code",
   "execution_count": 21,
   "metadata": {},
   "outputs": [
    {
     "data": {
      "text/plain": [
       "date\n",
       "2020-02-28    NaN\n",
       "2020-02-29    NaN\n",
       "2020-03-01    NaN\n",
       "2020-03-02    NaN\n",
       "2020-03-10    NaN\n",
       "Name: iso_code, dtype: object"
      ]
     },
     "execution_count": 21,
     "metadata": {},
     "output_type": "execute_result"
    }
   ],
   "source": [
    "df[\"iso_code\"].tail()"
   ]
  },
  {
   "cell_type": "markdown",
   "metadata": {},
   "source": [
    "#### Drop specific rows\n",
    "\n",
    "Looking at the categorical variables. Some of the rows for iso_code have no values and corresponding continent doesn't have any values as well. There is only one value corresponding location and that is only \"International\". Therefore, we won't be able to  track location with a single value. Thus, we should remove these rows. There are only 64 such rows with no values in iso_code variables. Therefore, removing such a small data will not affect our model. "
   ]
  },
  {
   "cell_type": "code",
   "execution_count": 22,
   "metadata": {},
   "outputs": [],
   "source": [
    "df = df.dropna(how='all', subset=['iso_code'])"
   ]
  },
  {
   "cell_type": "markdown",
   "metadata": {},
   "source": [
    "#### Looking at shape of new dataset \n",
    "\n",
    "We now have 33353 observations instead of 33353 observations and 20 variables instead of 34 variables."
   ]
  },
  {
   "cell_type": "code",
   "execution_count": 23,
   "metadata": {},
   "outputs": [
    {
     "data": {
      "text/plain": [
       "(33353, 20)"
      ]
     },
     "execution_count": 23,
     "metadata": {},
     "output_type": "execute_result"
    }
   ],
   "source": [
    "df.shape"
   ]
  },
  {
   "cell_type": "markdown",
   "metadata": {},
   "source": [
    "All the names of variables in our current data set are listed below"
   ]
  },
  {
   "cell_type": "code",
   "execution_count": 24,
   "metadata": {},
   "outputs": [
    {
     "data": {
      "text/plain": [
       "iso_code                          0\n",
       "continent                       212\n",
       "location                          0\n",
       "total_cases                     355\n",
       "new_cases                       355\n",
       "total_deaths                    355\n",
       "new_deaths                      355\n",
       "stringency_index               6223\n",
       "population_density             1443\n",
       "median_age                     3279\n",
       "aged_65_older                  3715\n",
       "aged_70_older                  3434\n",
       "gdp_per_capita                 3645\n",
       "extreme_poverty               13488\n",
       "cardiovasc_death_rate          3270\n",
       "diabetes_prevalence            2249\n",
       "female_smokers                 9476\n",
       "male_smokers                   9762\n",
       "hospital_beds_per_thousand     6000\n",
       "life_expectancy                 402\n",
       "dtype: int64"
      ]
     },
     "execution_count": 24,
     "metadata": {},
     "output_type": "execute_result"
    }
   ],
   "source": [
    "df.isna().sum()"
   ]
  },
  {
   "cell_type": "markdown",
   "metadata": {},
   "source": [
    "We can observe that now with our already reduced data the variable extreme poverty has almost half values missing and therefore the better way would be to delete this column as imputing it would lead to misleading results. Even male and female smokers have very high values."
   ]
  },
  {
   "cell_type": "code",
   "execution_count": 25,
   "metadata": {},
   "outputs": [],
   "source": [
    "df.drop(['extreme_poverty','female_smokers','male_smokers'], axis = 1, inplace = True)"
   ]
  },
  {
   "cell_type": "code",
   "execution_count": 26,
   "metadata": {},
   "outputs": [
    {
     "data": {
      "text/plain": [
       "Index(['iso_code', 'continent', 'location', 'total_cases', 'new_cases',\n",
       "       'total_deaths', 'new_deaths', 'stringency_index', 'population_density',\n",
       "       'median_age', 'aged_65_older', 'aged_70_older', 'gdp_per_capita',\n",
       "       'cardiovasc_death_rate', 'diabetes_prevalence',\n",
       "       'hospital_beds_per_thousand', 'life_expectancy'],\n",
       "      dtype='object')"
      ]
     },
     "execution_count": 26,
     "metadata": {},
     "output_type": "execute_result"
    }
   ],
   "source": [
    "df.columns"
   ]
  },
  {
   "cell_type": "code",
   "execution_count": 27,
   "metadata": {},
   "outputs": [
    {
     "data": {
      "text/html": [
       "<div>\n",
       "<style scoped>\n",
       "    .dataframe tbody tr th:only-of-type {\n",
       "        vertical-align: middle;\n",
       "    }\n",
       "\n",
       "    .dataframe tbody tr th {\n",
       "        vertical-align: top;\n",
       "    }\n",
       "\n",
       "    .dataframe thead th {\n",
       "        text-align: right;\n",
       "    }\n",
       "</style>\n",
       "<table border=\"1\" class=\"dataframe\">\n",
       "  <thead>\n",
       "    <tr style=\"text-align: right;\">\n",
       "      <th></th>\n",
       "      <th>iso_code</th>\n",
       "      <th>continent</th>\n",
       "      <th>location</th>\n",
       "      <th>total_cases</th>\n",
       "      <th>new_cases</th>\n",
       "      <th>total_deaths</th>\n",
       "      <th>new_deaths</th>\n",
       "      <th>stringency_index</th>\n",
       "      <th>population_density</th>\n",
       "      <th>median_age</th>\n",
       "      <th>aged_65_older</th>\n",
       "      <th>aged_70_older</th>\n",
       "      <th>gdp_per_capita</th>\n",
       "      <th>cardiovasc_death_rate</th>\n",
       "      <th>diabetes_prevalence</th>\n",
       "      <th>hospital_beds_per_thousand</th>\n",
       "      <th>life_expectancy</th>\n",
       "    </tr>\n",
       "    <tr>\n",
       "      <th>date</th>\n",
       "      <th></th>\n",
       "      <th></th>\n",
       "      <th></th>\n",
       "      <th></th>\n",
       "      <th></th>\n",
       "      <th></th>\n",
       "      <th></th>\n",
       "      <th></th>\n",
       "      <th></th>\n",
       "      <th></th>\n",
       "      <th></th>\n",
       "      <th></th>\n",
       "      <th></th>\n",
       "      <th></th>\n",
       "      <th></th>\n",
       "      <th></th>\n",
       "      <th></th>\n",
       "    </tr>\n",
       "  </thead>\n",
       "  <tbody>\n",
       "    <tr>\n",
       "      <th>2019-12-31</th>\n",
       "      <td>AFG</td>\n",
       "      <td>Asia</td>\n",
       "      <td>Afghanistan</td>\n",
       "      <td>0.0</td>\n",
       "      <td>0.0</td>\n",
       "      <td>0.0</td>\n",
       "      <td>0.0</td>\n",
       "      <td>NaN</td>\n",
       "      <td>54.422</td>\n",
       "      <td>18.6</td>\n",
       "      <td>2.581</td>\n",
       "      <td>1.337</td>\n",
       "      <td>1803.987</td>\n",
       "      <td>597.029</td>\n",
       "      <td>9.59</td>\n",
       "      <td>0.5</td>\n",
       "      <td>64.83</td>\n",
       "    </tr>\n",
       "    <tr>\n",
       "      <th>2020-01-01</th>\n",
       "      <td>AFG</td>\n",
       "      <td>Asia</td>\n",
       "      <td>Afghanistan</td>\n",
       "      <td>0.0</td>\n",
       "      <td>0.0</td>\n",
       "      <td>0.0</td>\n",
       "      <td>0.0</td>\n",
       "      <td>0.0</td>\n",
       "      <td>54.422</td>\n",
       "      <td>18.6</td>\n",
       "      <td>2.581</td>\n",
       "      <td>1.337</td>\n",
       "      <td>1803.987</td>\n",
       "      <td>597.029</td>\n",
       "      <td>9.59</td>\n",
       "      <td>0.5</td>\n",
       "      <td>64.83</td>\n",
       "    </tr>\n",
       "    <tr>\n",
       "      <th>2020-01-02</th>\n",
       "      <td>AFG</td>\n",
       "      <td>Asia</td>\n",
       "      <td>Afghanistan</td>\n",
       "      <td>0.0</td>\n",
       "      <td>0.0</td>\n",
       "      <td>0.0</td>\n",
       "      <td>0.0</td>\n",
       "      <td>0.0</td>\n",
       "      <td>54.422</td>\n",
       "      <td>18.6</td>\n",
       "      <td>2.581</td>\n",
       "      <td>1.337</td>\n",
       "      <td>1803.987</td>\n",
       "      <td>597.029</td>\n",
       "      <td>9.59</td>\n",
       "      <td>0.5</td>\n",
       "      <td>64.83</td>\n",
       "    </tr>\n",
       "    <tr>\n",
       "      <th>2020-01-03</th>\n",
       "      <td>AFG</td>\n",
       "      <td>Asia</td>\n",
       "      <td>Afghanistan</td>\n",
       "      <td>0.0</td>\n",
       "      <td>0.0</td>\n",
       "      <td>0.0</td>\n",
       "      <td>0.0</td>\n",
       "      <td>0.0</td>\n",
       "      <td>54.422</td>\n",
       "      <td>18.6</td>\n",
       "      <td>2.581</td>\n",
       "      <td>1.337</td>\n",
       "      <td>1803.987</td>\n",
       "      <td>597.029</td>\n",
       "      <td>9.59</td>\n",
       "      <td>0.5</td>\n",
       "      <td>64.83</td>\n",
       "    </tr>\n",
       "    <tr>\n",
       "      <th>2020-01-04</th>\n",
       "      <td>AFG</td>\n",
       "      <td>Asia</td>\n",
       "      <td>Afghanistan</td>\n",
       "      <td>0.0</td>\n",
       "      <td>0.0</td>\n",
       "      <td>0.0</td>\n",
       "      <td>0.0</td>\n",
       "      <td>0.0</td>\n",
       "      <td>54.422</td>\n",
       "      <td>18.6</td>\n",
       "      <td>2.581</td>\n",
       "      <td>1.337</td>\n",
       "      <td>1803.987</td>\n",
       "      <td>597.029</td>\n",
       "      <td>9.59</td>\n",
       "      <td>0.5</td>\n",
       "      <td>64.83</td>\n",
       "    </tr>\n",
       "  </tbody>\n",
       "</table>\n",
       "</div>"
      ],
      "text/plain": [
       "           iso_code continent     location  total_cases  new_cases  \\\n",
       "date                                                                 \n",
       "2019-12-31      AFG      Asia  Afghanistan          0.0        0.0   \n",
       "2020-01-01      AFG      Asia  Afghanistan          0.0        0.0   \n",
       "2020-01-02      AFG      Asia  Afghanistan          0.0        0.0   \n",
       "2020-01-03      AFG      Asia  Afghanistan          0.0        0.0   \n",
       "2020-01-04      AFG      Asia  Afghanistan          0.0        0.0   \n",
       "\n",
       "            total_deaths  new_deaths  stringency_index  population_density  \\\n",
       "date                                                                         \n",
       "2019-12-31           0.0         0.0               NaN              54.422   \n",
       "2020-01-01           0.0         0.0               0.0              54.422   \n",
       "2020-01-02           0.0         0.0               0.0              54.422   \n",
       "2020-01-03           0.0         0.0               0.0              54.422   \n",
       "2020-01-04           0.0         0.0               0.0              54.422   \n",
       "\n",
       "            median_age  aged_65_older  aged_70_older  gdp_per_capita  \\\n",
       "date                                                                   \n",
       "2019-12-31        18.6          2.581          1.337        1803.987   \n",
       "2020-01-01        18.6          2.581          1.337        1803.987   \n",
       "2020-01-02        18.6          2.581          1.337        1803.987   \n",
       "2020-01-03        18.6          2.581          1.337        1803.987   \n",
       "2020-01-04        18.6          2.581          1.337        1803.987   \n",
       "\n",
       "            cardiovasc_death_rate  diabetes_prevalence  \\\n",
       "date                                                     \n",
       "2019-12-31                597.029                 9.59   \n",
       "2020-01-01                597.029                 9.59   \n",
       "2020-01-02                597.029                 9.59   \n",
       "2020-01-03                597.029                 9.59   \n",
       "2020-01-04                597.029                 9.59   \n",
       "\n",
       "            hospital_beds_per_thousand  life_expectancy  \n",
       "date                                                     \n",
       "2019-12-31                         0.5            64.83  \n",
       "2020-01-01                         0.5            64.83  \n",
       "2020-01-02                         0.5            64.83  \n",
       "2020-01-03                         0.5            64.83  \n",
       "2020-01-04                         0.5            64.83  "
      ]
     },
     "execution_count": 27,
     "metadata": {},
     "output_type": "execute_result"
    }
   ],
   "source": [
    "df.head()"
   ]
  },
  {
   "cell_type": "markdown",
   "metadata": {},
   "source": [
    "## Graphical Exploratory Analysis"
   ]
  },
  {
   "cell_type": "markdown",
   "metadata": {},
   "source": [
    "Before we go deeper into the dataset, it is good to perform some graphical exploratory analysis as we can quickly see and find issues with the data"
   ]
  },
  {
   "cell_type": "code",
   "execution_count": 28,
   "metadata": {},
   "outputs": [
    {
     "data": {
      "text/plain": [
       "continent\n",
       "Africa           7479\n",
       "Asia             8274\n",
       "Europe           9113\n",
       "North America    5047\n",
       "Oceania          1253\n",
       "South America    1975\n",
       "dtype: int64"
      ]
     },
     "execution_count": 28,
     "metadata": {},
     "output_type": "execute_result"
    }
   ],
   "source": [
    "df.groupby('continent').size()"
   ]
  },
  {
   "cell_type": "code",
   "execution_count": 29,
   "metadata": {},
   "outputs": [
    {
     "data": {
      "text/plain": [
       "<AxesSubplot:xlabel='continent', ylabel='count'>"
      ]
     },
     "execution_count": 29,
     "metadata": {},
     "output_type": "execute_result"
    },
    {
     "data": {
      "image/png": "[encoded data removed]",
      "text/plain": [
       "<Figure size 432x288 with 1 Axes>"
      ]
     },
     "metadata": {
      "needs_background": "light"
     },
     "output_type": "display_data"
    }
   ],
   "source": [
    "sns.countplot(x='continent',data=df, palette=\"OrRd\")"
   ]
  },
  {
   "cell_type": "code",
   "execution_count": 30,
   "metadata": {},
   "outputs": [
    {
     "data": {
      "text/plain": [
       "<AxesSubplot:ylabel='continent'>"
      ]
     },
     "execution_count": 30,
     "metadata": {},
     "output_type": "execute_result"
    },
    {
     "data": {
      "image/png": "[encoded data removed]",
      "text/plain": [
       "<Figure size 432x288 with 1 Axes>"
      ]
     },
     "metadata": {
      "needs_background": "light"
     },
     "output_type": "display_data"
    }
   ],
   "source": [
    "# Horizontal bar plot\n",
    "continents = df.groupby(\"continent\").size()\n",
    "continents.plot.barh(stacked=False)"
   ]
  },
  {
   "cell_type": "markdown",
   "metadata": {},
   "source": [
    "The above graph shows that Europe has majority of the cases"
   ]
  },
  {
   "cell_type": "code",
   "execution_count": 28,
   "metadata": {
    "scrolled": true
   },
   "outputs": [
    {
     "data": {
      "image/png": "[encoded data removed]",
      "text/plain": [
       "<Figure size 720x360 with 1 Axes>"
      ]
     },
     "metadata": {
      "needs_background": "light"
     },
     "output_type": "display_data"
    }
   ],
   "source": [
    "plt.figure(figsize=(10,5))\n",
    "ax = sns.boxplot(x=\"continent\", y=\"total_deaths\", data=df, showfliers=False)"
   ]
  },
  {
   "cell_type": "markdown",
   "metadata": {},
   "source": [
    "Based on the above boxplots, the number of deaths are highest in Europe followed by South America, Africa, Asia, North America, and Oceania."
   ]
  },
  {
   "cell_type": "markdown",
   "metadata": {},
   "source": [
    "#### Let's explore the population density in these continents"
   ]
  },
  {
   "cell_type": "code",
   "execution_count": 29,
   "metadata": {},
   "outputs": [
    {
     "data": {
      "image/png": "[encoded data removed]",
      "text/plain": [
       "<Figure size 720x432 with 1 Axes>"
      ]
     },
     "metadata": {
      "needs_background": "light"
     },
     "output_type": "display_data"
    }
   ],
   "source": [
    "plt.figure(figsize=(10,6))\n",
    "ax = sns.boxplot(x=\"continent\", y=\"population_density\", data=df, showfliers=False)"
   ]
  },
  {
   "cell_type": "markdown",
   "metadata": {},
   "source": [
    "The above chart shows that the population density is highest in North America followed by Asia, Europe, Africa, Oceania, and last South America. Therefore, even though Europe seem to have highest number of deaths and North America among the least number of deaths, it is important to consider that North America has higher population density compared to Europe.  "
   ]
  },
  {
   "cell_type": "markdown",
   "metadata": {},
   "source": [
    "Therefore, by comparing the above two plots, it is surprising that South America has the more number of deaths among all as it has the lesser population density. There can be several factors affecting the death rate. But this is probably because people in South America are not taking as good of a precaution as some other continents.Also, it is important to note that North America has high population density and surprisngly, North America has one of the least number of deaths. This means that more precautions and other methods are in place at North America when compared to Europe to beat the COVID-19 situation."
   ]
  },
  {
   "cell_type": "markdown",
   "metadata": {},
   "source": [
    "#### Let's explore the number of cases by continent"
   ]
  },
  {
   "cell_type": "code",
   "execution_count": 49,
   "metadata": {},
   "outputs": [
    {
     "data": {
      "image/png": "[encoded data removed]",
      "text/plain": [
       "<Figure size 720x432 with 1 Axes>"
      ]
     },
     "metadata": {},
     "output_type": "display_data"
    }
   ],
   "source": [
    "plt.figure(figsize=(10,6))\n",
    "ax = sns.boxplot(x=\"continent\", y=\"total_cases\", data=df, showfliers=False)"
   ]
  },
  {
   "cell_type": "markdown",
   "metadata": {},
   "source": [
    "Clearly, Europe and South America have the highest number of cases and so has highest number of deaths"
   ]
  },
  {
   "cell_type": "code",
   "execution_count": 50,
   "metadata": {},
   "outputs": [
    {
     "data": {
      "image/png": "[encoded data removed]",
      "text/plain": [
       "<Figure size 720x432 with 1 Axes>"
      ]
     },
     "metadata": {},
     "output_type": "display_data"
    }
   ],
   "source": [
    "plt.figure(figsize=(10,6))\n",
    "ax = sns.boxplot(x=\"continent\", y=\"gdp_per_capita\", data=df, showfliers=False)"
   ]
  },
  {
   "cell_type": "code",
   "execution_count": 31,
   "metadata": {},
   "outputs": [
    {
     "data": {
      "image/png": "[encoded data removed]",
      "text/plain": [
       "<Figure size 504x288 with 2 Axes>"
      ]
     },
     "metadata": {
      "needs_background": "light"
     },
     "output_type": "display_data"
    }
   ],
   "source": [
    "# heatmap for the correlation matrix\n",
    "plt.figure(figsize=(7,4))\n",
    "sns.heatmap(df.corr(),annot=True,cmap='cubehelix_r')\n",
    "plt.show()"
   ]
  },
  {
   "cell_type": "code",
   "execution_count": 55,
   "metadata": {},
   "outputs": [
    {
     "data": {
      "text/html": [
       "<div>\n",
       "<style scoped>\n",
       "    .dataframe tbody tr th:only-of-type {\n",
       "        vertical-align: middle;\n",
       "    }\n",
       "\n",
       "    .dataframe tbody tr th {\n",
       "        vertical-align: top;\n",
       "    }\n",
       "\n",
       "    .dataframe thead th {\n",
       "        text-align: right;\n",
       "    }\n",
       "</style>\n",
       "<table border=\"1\" class=\"dataframe\">\n",
       "  <thead>\n",
       "    <tr style=\"text-align: right;\">\n",
       "      <th></th>\n",
       "      <th>total_cases</th>\n",
       "      <th>new_cases</th>\n",
       "      <th>total_deaths</th>\n",
       "      <th>new_deaths</th>\n",
       "      <th>stringency_index</th>\n",
       "      <th>population_density</th>\n",
       "      <th>median_age</th>\n",
       "      <th>aged_65_older</th>\n",
       "      <th>aged_70_older</th>\n",
       "      <th>gdp_per_capita</th>\n",
       "      <th>extreme_poverty</th>\n",
       "      <th>cardiovasc_death_rate</th>\n",
       "      <th>diabetes_prevalence</th>\n",
       "      <th>female_smokers</th>\n",
       "      <th>male_smokers</th>\n",
       "      <th>hospital_beds_per_thousand</th>\n",
       "      <th>life_expectancy</th>\n",
       "    </tr>\n",
       "  </thead>\n",
       "  <tbody>\n",
       "    <tr>\n",
       "      <th>count</th>\n",
       "      <td>3.299800e+04</td>\n",
       "      <td>32998.000000</td>\n",
       "      <td>32998.000000</td>\n",
       "      <td>32998.000000</td>\n",
       "      <td>27130.000000</td>\n",
       "      <td>31910.000000</td>\n",
       "      <td>30074.000000</td>\n",
       "      <td>29638.000000</td>\n",
       "      <td>29919.000000</td>\n",
       "      <td>29708.000000</td>\n",
       "      <td>19865.000000</td>\n",
       "      <td>30083.000000</td>\n",
       "      <td>31104.000000</td>\n",
       "      <td>23877.000000</td>\n",
       "      <td>23591.000000</td>\n",
       "      <td>27353.000000</td>\n",
       "      <td>32951.000000</td>\n",
       "    </tr>\n",
       "    <tr>\n",
       "      <th>mean</th>\n",
       "      <td>5.101779e+04</td>\n",
       "      <td>1012.702103</td>\n",
       "      <td>2660.440057</td>\n",
       "      <td>40.009667</td>\n",
       "      <td>58.327987</td>\n",
       "      <td>368.561392</td>\n",
       "      <td>31.634754</td>\n",
       "      <td>9.450372</td>\n",
       "      <td>5.990319</td>\n",
       "      <td>21546.066343</td>\n",
       "      <td>11.489011</td>\n",
       "      <td>249.517591</td>\n",
       "      <td>8.039533</td>\n",
       "      <td>10.990606</td>\n",
       "      <td>32.629508</td>\n",
       "      <td>3.146980</td>\n",
       "      <td>74.244388</td>\n",
       "    </tr>\n",
       "    <tr>\n",
       "      <th>std</th>\n",
       "      <td>5.185198e+05</td>\n",
       "      <td>9318.058677</td>\n",
       "      <td>25257.517537</td>\n",
       "      <td>348.065275</td>\n",
       "      <td>29.773501</td>\n",
       "      <td>1680.063490</td>\n",
       "      <td>9.012636</td>\n",
       "      <td>6.375376</td>\n",
       "      <td>4.362110</td>\n",
       "      <td>20697.420278</td>\n",
       "      <td>18.736936</td>\n",
       "      <td>117.957827</td>\n",
       "      <td>4.116805</td>\n",
       "      <td>10.504692</td>\n",
       "      <td>13.328649</td>\n",
       "      <td>2.549325</td>\n",
       "      <td>7.316460</td>\n",
       "    </tr>\n",
       "    <tr>\n",
       "      <th>min</th>\n",
       "      <td>0.000000e+00</td>\n",
       "      <td>-29726.000000</td>\n",
       "      <td>0.000000</td>\n",
       "      <td>-1918.000000</td>\n",
       "      <td>0.000000</td>\n",
       "      <td>0.137000</td>\n",
       "      <td>15.100000</td>\n",
       "      <td>1.144000</td>\n",
       "      <td>0.526000</td>\n",
       "      <td>661.240000</td>\n",
       "      <td>0.100000</td>\n",
       "      <td>79.370000</td>\n",
       "      <td>0.990000</td>\n",
       "      <td>0.100000</td>\n",
       "      <td>7.700000</td>\n",
       "      <td>0.100000</td>\n",
       "      <td>53.280000</td>\n",
       "    </tr>\n",
       "    <tr>\n",
       "      <th>25%</th>\n",
       "      <td>2.100000e+01</td>\n",
       "      <td>0.000000</td>\n",
       "      <td>0.000000</td>\n",
       "      <td>0.000000</td>\n",
       "      <td>37.960000</td>\n",
       "      <td>39.497000</td>\n",
       "      <td>24.400000</td>\n",
       "      <td>3.607000</td>\n",
       "      <td>2.162000</td>\n",
       "      <td>6171.884000</td>\n",
       "      <td>0.500000</td>\n",
       "      <td>153.493000</td>\n",
       "      <td>5.310000</td>\n",
       "      <td>1.900000</td>\n",
       "      <td>21.400000</td>\n",
       "      <td>1.380000</td>\n",
       "      <td>70.390000</td>\n",
       "    </tr>\n",
       "    <tr>\n",
       "      <th>50%</th>\n",
       "      <td>4.470000e+02</td>\n",
       "      <td>5.000000</td>\n",
       "      <td>9.000000</td>\n",
       "      <td>0.000000</td>\n",
       "      <td>67.590000</td>\n",
       "      <td>90.672000</td>\n",
       "      <td>31.800000</td>\n",
       "      <td>7.104000</td>\n",
       "      <td>4.458000</td>\n",
       "      <td>15183.616000</td>\n",
       "      <td>1.700000</td>\n",
       "      <td>235.954000</td>\n",
       "      <td>7.110000</td>\n",
       "      <td>6.434000</td>\n",
       "      <td>31.400000</td>\n",
       "      <td>2.540000</td>\n",
       "      <td>75.860000</td>\n",
       "    </tr>\n",
       "    <tr>\n",
       "      <th>75%</th>\n",
       "      <td>5.105500e+03</td>\n",
       "      <td>102.000000</td>\n",
       "      <td>108.000000</td>\n",
       "      <td>2.000000</td>\n",
       "      <td>81.940000</td>\n",
       "      <td>222.873000</td>\n",
       "      <td>39.800000</td>\n",
       "      <td>14.864000</td>\n",
       "      <td>9.720000</td>\n",
       "      <td>33132.320000</td>\n",
       "      <td>15.000000</td>\n",
       "      <td>318.949000</td>\n",
       "      <td>10.080000</td>\n",
       "      <td>19.600000</td>\n",
       "      <td>40.900000</td>\n",
       "      <td>4.210000</td>\n",
       "      <td>80.100000</td>\n",
       "    </tr>\n",
       "    <tr>\n",
       "      <th>max</th>\n",
       "      <td>1.670892e+07</td>\n",
       "      <td>284710.000000</td>\n",
       "      <td>660123.000000</td>\n",
       "      <td>10512.000000</td>\n",
       "      <td>100.000000</td>\n",
       "      <td>19347.500000</td>\n",
       "      <td>48.200000</td>\n",
       "      <td>27.049000</td>\n",
       "      <td>18.493000</td>\n",
       "      <td>116935.600000</td>\n",
       "      <td>77.600000</td>\n",
       "      <td>724.417000</td>\n",
       "      <td>23.360000</td>\n",
       "      <td>44.000000</td>\n",
       "      <td>78.100000</td>\n",
       "      <td>13.800000</td>\n",
       "      <td>86.750000</td>\n",
       "    </tr>\n",
       "  </tbody>\n",
       "</table>\n",
       "</div>"
      ],
      "text/plain": [
       "        total_cases      new_cases   total_deaths    new_deaths  \\\n",
       "count  3.299800e+04   32998.000000   32998.000000  32998.000000   \n",
       "mean   5.101779e+04    1012.702103    2660.440057     40.009667   \n",
       "std    5.185198e+05    9318.058677   25257.517537    348.065275   \n",
       "min    0.000000e+00  -29726.000000       0.000000  -1918.000000   \n",
       "25%    2.100000e+01       0.000000       0.000000      0.000000   \n",
       "50%    4.470000e+02       5.000000       9.000000      0.000000   \n",
       "75%    5.105500e+03     102.000000     108.000000      2.000000   \n",
       "max    1.670892e+07  284710.000000  660123.000000  10512.000000   \n",
       "\n",
       "       stringency_index  population_density    median_age  aged_65_older  \\\n",
       "count      27130.000000        31910.000000  30074.000000   29638.000000   \n",
       "mean          58.327987          368.561392     31.634754       9.450372   \n",
       "std           29.773501         1680.063490      9.012636       6.375376   \n",
       "min            0.000000            0.137000     15.100000       1.144000   \n",
       "25%           37.960000           39.497000     24.400000       3.607000   \n",
       "50%           67.590000           90.672000     31.800000       7.104000   \n",
       "75%           81.940000          222.873000     39.800000      14.864000   \n",
       "max          100.000000        19347.500000     48.200000      27.049000   \n",
       "\n",
       "       aged_70_older  gdp_per_capita  extreme_poverty  cardiovasc_death_rate  \\\n",
       "count   29919.000000    29708.000000     19865.000000           30083.000000   \n",
       "mean        5.990319    21546.066343        11.489011             249.517591   \n",
       "std         4.362110    20697.420278        18.736936             117.957827   \n",
       "min         0.526000      661.240000         0.100000              79.370000   \n",
       "25%         2.162000     6171.884000         0.500000             153.493000   \n",
       "50%         4.458000    15183.616000         1.700000             235.954000   \n",
       "75%         9.720000    33132.320000        15.000000             318.949000   \n",
       "max        18.493000   116935.600000        77.600000             724.417000   \n",
       "\n",
       "       diabetes_prevalence  female_smokers  male_smokers  \\\n",
       "count         31104.000000    23877.000000  23591.000000   \n",
       "mean              8.039533       10.990606     32.629508   \n",
       "std               4.116805       10.504692     13.328649   \n",
       "min               0.990000        0.100000      7.700000   \n",
       "25%               5.310000        1.900000     21.400000   \n",
       "50%               7.110000        6.434000     31.400000   \n",
       "75%              10.080000       19.600000     40.900000   \n",
       "max              23.360000       44.000000     78.100000   \n",
       "\n",
       "       hospital_beds_per_thousand  life_expectancy  \n",
       "count                27353.000000     32951.000000  \n",
       "mean                     3.146980        74.244388  \n",
       "std                      2.549325         7.316460  \n",
       "min                      0.100000        53.280000  \n",
       "25%                      1.380000        70.390000  \n",
       "50%                      2.540000        75.860000  \n",
       "75%                      4.210000        80.100000  \n",
       "max                     13.800000        86.750000  "
      ]
     },
     "execution_count": 55,
     "metadata": {},
     "output_type": "execute_result"
    }
   ],
   "source": [
    "df.describe()"
   ]
  },
  {
   "cell_type": "markdown",
   "metadata": {},
   "source": [
    "Europe and Oceana are richest continents of all. Oceana has least population density and that's why less number of cases leading to lesser number of deaths. However, Europe on the other hand, is among the richest continents, ranks number third in population density and total number of cases, and still has the highest number of total deaths. So, it will be interesting to study Europe among all the continents and help them predict total number of deaths ahead of time. This will help Europe in managing the situation better to some extent. "
   ]
  },
  {
   "cell_type": "markdown",
   "metadata": {},
   "source": [
    "### Studying Europe"
   ]
  },
  {
   "cell_type": "code",
   "execution_count": 32,
   "metadata": {},
   "outputs": [
    {
     "data": {
      "text/html": [
       "<div>\n",
       "<style scoped>\n",
       "    .dataframe tbody tr th:only-of-type {\n",
       "        vertical-align: middle;\n",
       "    }\n",
       "\n",
       "    .dataframe tbody tr th {\n",
       "        vertical-align: top;\n",
       "    }\n",
       "\n",
       "    .dataframe thead th {\n",
       "        text-align: right;\n",
       "    }\n",
       "</style>\n",
       "<table border=\"1\" class=\"dataframe\">\n",
       "  <thead>\n",
       "    <tr style=\"text-align: right;\">\n",
       "      <th></th>\n",
       "      <th>iso_code</th>\n",
       "      <th>location</th>\n",
       "      <th>total_cases</th>\n",
       "      <th>new_cases</th>\n",
       "      <th>total_deaths</th>\n",
       "      <th>new_deaths</th>\n",
       "      <th>stringency_index</th>\n",
       "      <th>population_density</th>\n",
       "      <th>median_age</th>\n",
       "      <th>aged_65_older</th>\n",
       "      <th>aged_70_older</th>\n",
       "      <th>gdp_per_capita</th>\n",
       "      <th>cardiovasc_death_rate</th>\n",
       "      <th>diabetes_prevalence</th>\n",
       "      <th>hospital_beds_per_thousand</th>\n",
       "      <th>life_expectancy</th>\n",
       "    </tr>\n",
       "    <tr>\n",
       "      <th>date</th>\n",
       "      <th></th>\n",
       "      <th></th>\n",
       "      <th></th>\n",
       "      <th></th>\n",
       "      <th></th>\n",
       "      <th></th>\n",
       "      <th></th>\n",
       "      <th></th>\n",
       "      <th></th>\n",
       "      <th></th>\n",
       "      <th></th>\n",
       "      <th></th>\n",
       "      <th></th>\n",
       "      <th></th>\n",
       "      <th></th>\n",
       "      <th></th>\n",
       "    </tr>\n",
       "  </thead>\n",
       "  <tbody>\n",
       "    <tr>\n",
       "      <th>2020-03-09</th>\n",
       "      <td>ALB</td>\n",
       "      <td>Albania</td>\n",
       "      <td>2.0</td>\n",
       "      <td>2.0</td>\n",
       "      <td>0.0</td>\n",
       "      <td>0.0</td>\n",
       "      <td>36.11</td>\n",
       "      <td>104.871</td>\n",
       "      <td>38.0</td>\n",
       "      <td>13.188</td>\n",
       "      <td>8.643</td>\n",
       "      <td>11803.431</td>\n",
       "      <td>304.195</td>\n",
       "      <td>10.08</td>\n",
       "      <td>2.89</td>\n",
       "      <td>78.57</td>\n",
       "    </tr>\n",
       "    <tr>\n",
       "      <th>2020-03-10</th>\n",
       "      <td>ALB</td>\n",
       "      <td>Albania</td>\n",
       "      <td>6.0</td>\n",
       "      <td>4.0</td>\n",
       "      <td>0.0</td>\n",
       "      <td>0.0</td>\n",
       "      <td>41.67</td>\n",
       "      <td>104.871</td>\n",
       "      <td>38.0</td>\n",
       "      <td>13.188</td>\n",
       "      <td>8.643</td>\n",
       "      <td>11803.431</td>\n",
       "      <td>304.195</td>\n",
       "      <td>10.08</td>\n",
       "      <td>2.89</td>\n",
       "      <td>78.57</td>\n",
       "    </tr>\n",
       "    <tr>\n",
       "      <th>2020-03-11</th>\n",
       "      <td>ALB</td>\n",
       "      <td>Albania</td>\n",
       "      <td>10.0</td>\n",
       "      <td>4.0</td>\n",
       "      <td>0.0</td>\n",
       "      <td>0.0</td>\n",
       "      <td>51.85</td>\n",
       "      <td>104.871</td>\n",
       "      <td>38.0</td>\n",
       "      <td>13.188</td>\n",
       "      <td>8.643</td>\n",
       "      <td>11803.431</td>\n",
       "      <td>304.195</td>\n",
       "      <td>10.08</td>\n",
       "      <td>2.89</td>\n",
       "      <td>78.57</td>\n",
       "    </tr>\n",
       "    <tr>\n",
       "      <th>2020-03-12</th>\n",
       "      <td>ALB</td>\n",
       "      <td>Albania</td>\n",
       "      <td>11.0</td>\n",
       "      <td>1.0</td>\n",
       "      <td>1.0</td>\n",
       "      <td>1.0</td>\n",
       "      <td>51.85</td>\n",
       "      <td>104.871</td>\n",
       "      <td>38.0</td>\n",
       "      <td>13.188</td>\n",
       "      <td>8.643</td>\n",
       "      <td>11803.431</td>\n",
       "      <td>304.195</td>\n",
       "      <td>10.08</td>\n",
       "      <td>2.89</td>\n",
       "      <td>78.57</td>\n",
       "    </tr>\n",
       "    <tr>\n",
       "      <th>2020-03-13</th>\n",
       "      <td>ALB</td>\n",
       "      <td>Albania</td>\n",
       "      <td>23.0</td>\n",
       "      <td>12.0</td>\n",
       "      <td>1.0</td>\n",
       "      <td>0.0</td>\n",
       "      <td>78.70</td>\n",
       "      <td>104.871</td>\n",
       "      <td>38.0</td>\n",
       "      <td>13.188</td>\n",
       "      <td>8.643</td>\n",
       "      <td>11803.431</td>\n",
       "      <td>304.195</td>\n",
       "      <td>10.08</td>\n",
       "      <td>2.89</td>\n",
       "      <td>78.57</td>\n",
       "    </tr>\n",
       "  </tbody>\n",
       "</table>\n",
       "</div>"
      ],
      "text/plain": [
       "           iso_code location  total_cases  new_cases  total_deaths  \\\n",
       "date                                                                 \n",
       "2020-03-09      ALB  Albania          2.0        2.0           0.0   \n",
       "2020-03-10      ALB  Albania          6.0        4.0           0.0   \n",
       "2020-03-11      ALB  Albania         10.0        4.0           0.0   \n",
       "2020-03-12      ALB  Albania         11.0        1.0           1.0   \n",
       "2020-03-13      ALB  Albania         23.0       12.0           1.0   \n",
       "\n",
       "            new_deaths  stringency_index  population_density  median_age  \\\n",
       "date                                                                       \n",
       "2020-03-09         0.0             36.11             104.871        38.0   \n",
       "2020-03-10         0.0             41.67             104.871        38.0   \n",
       "2020-03-11         0.0             51.85             104.871        38.0   \n",
       "2020-03-12         1.0             51.85             104.871        38.0   \n",
       "2020-03-13         0.0             78.70             104.871        38.0   \n",
       "\n",
       "            aged_65_older  aged_70_older  gdp_per_capita  \\\n",
       "date                                                       \n",
       "2020-03-09         13.188          8.643       11803.431   \n",
       "2020-03-10         13.188          8.643       11803.431   \n",
       "2020-03-11         13.188          8.643       11803.431   \n",
       "2020-03-12         13.188          8.643       11803.431   \n",
       "2020-03-13         13.188          8.643       11803.431   \n",
       "\n",
       "            cardiovasc_death_rate  diabetes_prevalence  \\\n",
       "date                                                     \n",
       "2020-03-09                304.195                10.08   \n",
       "2020-03-10                304.195                10.08   \n",
       "2020-03-11                304.195                10.08   \n",
       "2020-03-12                304.195                10.08   \n",
       "2020-03-13                304.195                10.08   \n",
       "\n",
       "            hospital_beds_per_thousand  life_expectancy  \n",
       "date                                                     \n",
       "2020-03-09                        2.89            78.57  \n",
       "2020-03-10                        2.89            78.57  \n",
       "2020-03-11                        2.89            78.57  \n",
       "2020-03-12                        2.89            78.57  \n",
       "2020-03-13                        2.89            78.57  "
      ]
     },
     "execution_count": 32,
     "metadata": {},
     "output_type": "execute_result"
    }
   ],
   "source": [
    "df_eu = df[df['continent'] == \"Europe\"]\n",
    "df_eu = df_eu.drop(\"continent\", axis=1)\n",
    "\n",
    "df_eu.head()"
   ]
  },
  {
   "cell_type": "code",
   "execution_count": 33,
   "metadata": {},
   "outputs": [
    {
     "data": {
      "text/plain": [
       "location\n",
       "Albania                   143\n",
       "Andorra                   138\n",
       "Austria                   212\n",
       "Belarus                   212\n",
       "Belgium                   212\n",
       "Bosnia and Herzegovina    139\n",
       "Bulgaria                  142\n",
       "Croatia                   212\n",
       "Cyprus                    140\n",
       "Czech Republic            212\n",
       "Denmark                   212\n",
       "Estonia                   212\n",
       "Faeroe Islands            146\n",
       "Finland                   212\n",
       "France                    212\n",
       "Germany                   212\n",
       "Gibraltar                 132\n",
       "Greece                    212\n",
       "Guernsey                  132\n",
       "Hungary                   148\n",
       "Iceland                   212\n",
       "Ireland                   210\n",
       "Isle of Man               131\n",
       "Italy                     212\n",
       "Jersey                    132\n",
       "Kosovo                    138\n",
       "Latvia                    152\n",
       "Liechtenstein             141\n",
       "Lithuania                 212\n",
       "Luxembourg                205\n",
       "Macedonia                 203\n",
       "Malta                     175\n",
       "Moldova                   142\n",
       "Monaco                    200\n",
       "Montenegro                134\n",
       "Netherlands               212\n",
       "Norway                    212\n",
       "Poland                    147\n",
       "Portugal                  151\n",
       "Romania                   210\n",
       "Russia                    212\n",
       "San Marino                211\n",
       "Serbia                    155\n",
       "Slovakia                  144\n",
       "Slovenia                  146\n",
       "Spain                     211\n",
       "Sweden                    212\n",
       "Switzerland               212\n",
       "Ukraine                   138\n",
       "United Kingdom            212\n",
       "Vatican                   137\n",
       "dtype: int64"
      ]
     },
     "execution_count": 33,
     "metadata": {},
     "output_type": "execute_result"
    }
   ],
   "source": [
    "df_eu.groupby('location').size()"
   ]
  },
  {
   "cell_type": "code",
   "execution_count": 34,
   "metadata": {},
   "outputs": [
    {
     "data": {
      "image/png": "[encoded data removed]",
      "text/plain": [
       "<Figure size 1440x288 with 1 Axes>"
      ]
     },
     "metadata": {
      "needs_background": "light"
     },
     "output_type": "display_data"
    }
   ],
   "source": [
    "plt.figure(figsize=(20,4))\n",
    "ax=sns.countplot(x ='location',data=df_eu, palette=\"OrRd\")\n",
    "ax.set_xticklabels(ax.get_xticklabels(), rotation=40, ha=\"right\")\n",
    "plt.show()"
   ]
  },
  {
   "cell_type": "code",
   "execution_count": 35,
   "metadata": {},
   "outputs": [
    {
     "data": {
      "image/png": "[encoded data removed]",
      "text/plain": [
       "<Figure size 640x480 with 1 Axes>"
      ]
     },
     "metadata": {},
     "output_type": "display_data"
    },
    {
     "data": {
      "text/plain": [
       "<ggplot: (116307112021)>"
      ]
     },
     "execution_count": 35,
     "metadata": {},
     "output_type": "execute_result"
    }
   ],
   "source": [
    "(ggplot(df_eu, aes(x='gdp_per_capita'))   \n",
    " + geom_histogram(bins=12,\n",
    "                 color =\"red\", \n",
    "                 fill =\"orange\")\n",
    " + labs(title=\"Histogram for gdp_per_capita\", x=\"gdp_per_capita\", y=\"Count\")\n",
    ")"
   ]
  },
  {
   "cell_type": "markdown",
   "metadata": {},
   "source": [
    "#### Median_Age"
   ]
  },
  {
   "cell_type": "code",
   "execution_count": 36,
   "metadata": {},
   "outputs": [
    {
     "data": {
      "image/png": "[encoded data removed]",
      "text/plain": [
       "<Figure size 640x480 with 1 Axes>"
      ]
     },
     "metadata": {},
     "output_type": "display_data"
    },
    {
     "data": {
      "text/plain": [
       "<ggplot: (116307155439)>"
      ]
     },
     "execution_count": 36,
     "metadata": {},
     "output_type": "execute_result"
    }
   ],
   "source": [
    "(ggplot(df, aes(x='median_age'))   \n",
    " + geom_histogram(bins=12,\n",
    "                 color =\"red\", \n",
    "                 fill =\"orange\")\n",
    " + labs(title=\"Histogram for median_age\", x=\"median_age\", y=\"Count\")\n",
    ")"
   ]
  },
  {
   "cell_type": "code",
   "execution_count": 37,
   "metadata": {},
   "outputs": [
    {
     "data": {
      "text/plain": [
       "Text(0.5, 1.0, 'Total Number of Cases vs Total Deaths')"
      ]
     },
     "execution_count": 37,
     "metadata": {},
     "output_type": "execute_result"
    },
    {
     "data": {
      "image/png": "[encoded data removed]",
      "text/plain": [
       "<Figure size 432x288 with 1 Axes>"
      ]
     },
     "metadata": {
      "needs_background": "light"
     },
     "output_type": "display_data"
    }
   ],
   "source": [
    "plt.scatter(df_eu['total_cases'], df_eu['total_deaths'], alpha = 0.1)\n",
    "plt.xlabel(\"Total Number of Cases\")\n",
    "plt.ylabel(\"Total Deaths\")\n",
    "plt.title(\"Total Number of Cases vs Total Deaths\")"
   ]
  },
  {
   "cell_type": "code",
   "execution_count": 38,
   "metadata": {},
   "outputs": [
    {
     "data": {
      "image/png": "[encoded data removed]",
      "text/plain": [
       "<Figure size 1440x1080 with 16 Axes>"
      ]
     },
     "metadata": {
      "needs_background": "light"
     },
     "output_type": "display_data"
    }
   ],
   "source": [
    "df_eu.hist(bins = 50, figsize = (20,15))\n",
    "plt.show()"
   ]
  },
  {
   "cell_type": "code",
   "execution_count": 31,
   "metadata": {},
   "outputs": [
    {
     "data": {
      "image/png": "[encoded data removed]",
      "text/plain": [
       "<Figure size 504x288 with 2 Axes>"
      ]
     },
     "metadata": {
      "needs_background": "light"
     },
     "output_type": "display_data"
    }
   ],
   "source": [
    "# heatmap for the correlation matrix for EU subset\n",
    "plt.figure(figsize=(7,4))\n",
    "sns.heatmap(df_eu.corr(),annot=True,cmap='cubehelix_r')\n",
    "plt.show()"
   ]
  },
  {
   "cell_type": "markdown",
   "metadata": {},
   "source": [
    "#### We can observe that new_deaths, new_cases re correlated. We can also see that median_age, aged_65_older and aged_70_older are correlated. We can include only median_age in our model."
   ]
  },
  {
   "cell_type": "code",
   "execution_count": 18,
   "metadata": {},
   "outputs": [
    {
     "name": "stdout",
     "output_type": "stream",
     "text": [
      "0.0        2651\n",
      "1.0         269\n",
      "9.0         142\n",
      "5.0         136\n",
      "10.0        125\n",
      "13.0        120\n",
      "24.0        109\n",
      "2.0         106\n",
      "28.0         96\n",
      "31.0         95\n",
      "3.0          84\n",
      "4.0          79\n",
      "42.0         76\n",
      "30.0         67\n",
      "69.0         65\n",
      "19.0         64\n",
      "110.0        55\n",
      "52.0         52\n",
      "6.0          48\n",
      "17.0         45\n",
      "111.0        43\n",
      "8.0          42\n",
      "7.0          41\n",
      "51.0         37\n",
      "41.0         36\n",
      "29.0         36\n",
      "18.0         33\n",
      "12.0         32\n",
      "23.0         32\n",
      "328.0        31\n",
      "           ... \n",
      "618.0         1\n",
      "1466.0        1\n",
      "466.0         1\n",
      "484.0         1\n",
      "9628.0        1\n",
      "1521.0        1\n",
      "8489.0        1\n",
      "3807.0        1\n",
      "38489.0       1\n",
      "31763.0       1\n",
      "9111.0        1\n",
      "42589.0       1\n",
      "28628.0       1\n",
      "40542.0       1\n",
      "28330.0       1\n",
      "5452.0        1\n",
      "620.0         1\n",
      "2116.0        1\n",
      "231.0         1\n",
      "18276.0       1\n",
      "1105.0        1\n",
      "34405.0       1\n",
      "7478.0        1\n",
      "1129.0        1\n",
      "3868.0        1\n",
      "28413.0       1\n",
      "16879.0       1\n",
      "44650.0       1\n",
      "2182.0        1\n",
      "1693.0        1\n",
      "Name: total_deaths, Length: 1973, dtype: int64\n"
     ]
    }
   ],
   "source": [
    "# Taking a look at the outcome variable: 'total_deaths'\n",
    "print(df_eu['total_deaths'].value_counts())"
   ]
  },
  {
   "cell_type": "markdown",
   "metadata": {},
   "source": [
    "#### Convert Categorical Columns to Numerical"
   ]
  },
  {
   "cell_type": "markdown",
   "metadata": {},
   "source": [
    "#### Get Dummy Variables"
   ]
  },
  {
   "cell_type": "code",
   "execution_count": 39,
   "metadata": {},
   "outputs": [],
   "source": [
    "df_eu = pd.get_dummies(df_eu, columns = ['iso_code', 'location'], drop_first = True)"
   ]
  },
  {
   "cell_type": "markdown",
   "metadata": {},
   "source": [
    "#### Statistical Exploratory Analysis"
   ]
  },
  {
   "cell_type": "markdown",
   "metadata": {},
   "source": [
    "#### Describe Numeric Columns"
   ]
  },
  {
   "cell_type": "code",
   "execution_count": 40,
   "metadata": {},
   "outputs": [
    {
     "data": {
      "text/html": [
       "<div>\n",
       "<style scoped>\n",
       "    .dataframe tbody tr th:only-of-type {\n",
       "        vertical-align: middle;\n",
       "    }\n",
       "\n",
       "    .dataframe tbody tr th {\n",
       "        vertical-align: top;\n",
       "    }\n",
       "\n",
       "    .dataframe thead th {\n",
       "        text-align: right;\n",
       "    }\n",
       "</style>\n",
       "<table border=\"1\" class=\"dataframe\">\n",
       "  <thead>\n",
       "    <tr style=\"text-align: right;\">\n",
       "      <th></th>\n",
       "      <th>total_cases</th>\n",
       "      <th>new_cases</th>\n",
       "      <th>total_deaths</th>\n",
       "      <th>new_deaths</th>\n",
       "      <th>stringency_index</th>\n",
       "      <th>population_density</th>\n",
       "      <th>median_age</th>\n",
       "      <th>aged_65_older</th>\n",
       "      <th>aged_70_older</th>\n",
       "      <th>gdp_per_capita</th>\n",
       "      <th>...</th>\n",
       "      <th>location_San Marino</th>\n",
       "      <th>location_Serbia</th>\n",
       "      <th>location_Slovakia</th>\n",
       "      <th>location_Slovenia</th>\n",
       "      <th>location_Spain</th>\n",
       "      <th>location_Sweden</th>\n",
       "      <th>location_Switzerland</th>\n",
       "      <th>location_Ukraine</th>\n",
       "      <th>location_United Kingdom</th>\n",
       "      <th>location_Vatican</th>\n",
       "    </tr>\n",
       "  </thead>\n",
       "  <tbody>\n",
       "    <tr>\n",
       "      <th>count</th>\n",
       "      <td>9027.000000</td>\n",
       "      <td>9027.000000</td>\n",
       "      <td>9027.000000</td>\n",
       "      <td>9027.000000</td>\n",
       "      <td>7207.000000</td>\n",
       "      <td>8712.000000</td>\n",
       "      <td>7475.000000</td>\n",
       "      <td>7475.000000</td>\n",
       "      <td>7320.000000</td>\n",
       "      <td>7824.000000</td>\n",
       "      <td>...</td>\n",
       "      <td>9113.000000</td>\n",
       "      <td>9113.000000</td>\n",
       "      <td>9113.000000</td>\n",
       "      <td>9113.000000</td>\n",
       "      <td>9113.000000</td>\n",
       "      <td>9113.000000</td>\n",
       "      <td>9113.000000</td>\n",
       "      <td>9113.000000</td>\n",
       "      <td>9113.000000</td>\n",
       "      <td>9113.000000</td>\n",
       "    </tr>\n",
       "    <tr>\n",
       "      <th>mean</th>\n",
       "      <td>24474.764374</td>\n",
       "      <td>307.505262</td>\n",
       "      <td>2088.278609</td>\n",
       "      <td>22.369669</td>\n",
       "      <td>47.684135</td>\n",
       "      <td>650.715591</td>\n",
       "      <td>42.144187</td>\n",
       "      <td>17.862396</td>\n",
       "      <td>11.895578</td>\n",
       "      <td>35119.094811</td>\n",
       "      <td>...</td>\n",
       "      <td>0.023154</td>\n",
       "      <td>0.017009</td>\n",
       "      <td>0.015802</td>\n",
       "      <td>0.016021</td>\n",
       "      <td>0.023154</td>\n",
       "      <td>0.023263</td>\n",
       "      <td>0.023263</td>\n",
       "      <td>0.015143</td>\n",
       "      <td>0.023263</td>\n",
       "      <td>0.015033</td>\n",
       "    </tr>\n",
       "    <tr>\n",
       "      <th>std</th>\n",
       "      <td>73462.064768</td>\n",
       "      <td>1138.343507</td>\n",
       "      <td>6821.101474</td>\n",
       "      <td>101.066729</td>\n",
       "      <td>30.470777</td>\n",
       "      <td>2902.621269</td>\n",
       "      <td>2.555188</td>\n",
       "      <td>2.734599</td>\n",
       "      <td>2.198739</td>\n",
       "      <td>17827.141089</td>\n",
       "      <td>...</td>\n",
       "      <td>0.150400</td>\n",
       "      <td>0.129311</td>\n",
       "      <td>0.124714</td>\n",
       "      <td>0.125563</td>\n",
       "      <td>0.150400</td>\n",
       "      <td>0.150747</td>\n",
       "      <td>0.150747</td>\n",
       "      <td>0.122129</td>\n",
       "      <td>0.150747</td>\n",
       "      <td>0.121693</td>\n",
       "    </tr>\n",
       "    <tr>\n",
       "      <th>min</th>\n",
       "      <td>0.000000</td>\n",
       "      <td>-29726.000000</td>\n",
       "      <td>0.000000</td>\n",
       "      <td>-1918.000000</td>\n",
       "      <td>0.000000</td>\n",
       "      <td>3.404000</td>\n",
       "      <td>37.300000</td>\n",
       "      <td>10.864000</td>\n",
       "      <td>6.955000</td>\n",
       "      <td>5189.972000</td>\n",
       "      <td>...</td>\n",
       "      <td>0.000000</td>\n",
       "      <td>0.000000</td>\n",
       "      <td>0.000000</td>\n",
       "      <td>0.000000</td>\n",
       "      <td>0.000000</td>\n",
       "      <td>0.000000</td>\n",
       "      <td>0.000000</td>\n",
       "      <td>0.000000</td>\n",
       "      <td>0.000000</td>\n",
       "      <td>0.000000</td>\n",
       "    </tr>\n",
       "    <tr>\n",
       "      <th>25%</th>\n",
       "      <td>70.000000</td>\n",
       "      <td>0.000000</td>\n",
       "      <td>0.000000</td>\n",
       "      <td>0.000000</td>\n",
       "      <td>19.440000</td>\n",
       "      <td>65.180000</td>\n",
       "      <td>40.300000</td>\n",
       "      <td>15.070000</td>\n",
       "      <td>9.842000</td>\n",
       "      <td>23313.199000</td>\n",
       "      <td>...</td>\n",
       "      <td>0.000000</td>\n",
       "      <td>0.000000</td>\n",
       "      <td>0.000000</td>\n",
       "      <td>0.000000</td>\n",
       "      <td>0.000000</td>\n",
       "      <td>0.000000</td>\n",
       "      <td>0.000000</td>\n",
       "      <td>0.000000</td>\n",
       "      <td>0.000000</td>\n",
       "      <td>0.000000</td>\n",
       "    </tr>\n",
       "    <tr>\n",
       "      <th>50%</th>\n",
       "      <td>1097.000000</td>\n",
       "      <td>11.000000</td>\n",
       "      <td>29.000000</td>\n",
       "      <td>0.000000</td>\n",
       "      <td>51.850000</td>\n",
       "      <td>106.749000</td>\n",
       "      <td>42.400000</td>\n",
       "      <td>18.577000</td>\n",
       "      <td>12.325000</td>\n",
       "      <td>32605.906000</td>\n",
       "      <td>...</td>\n",
       "      <td>0.000000</td>\n",
       "      <td>0.000000</td>\n",
       "      <td>0.000000</td>\n",
       "      <td>0.000000</td>\n",
       "      <td>0.000000</td>\n",
       "      <td>0.000000</td>\n",
       "      <td>0.000000</td>\n",
       "      <td>0.000000</td>\n",
       "      <td>0.000000</td>\n",
       "      <td>0.000000</td>\n",
       "    </tr>\n",
       "    <tr>\n",
       "      <th>75%</th>\n",
       "      <td>9861.000000</td>\n",
       "      <td>132.000000</td>\n",
       "      <td>329.000000</td>\n",
       "      <td>4.000000</td>\n",
       "      <td>74.070000</td>\n",
       "      <td>205.859000</td>\n",
       "      <td>43.500000</td>\n",
       "      <td>19.718000</td>\n",
       "      <td>13.433000</td>\n",
       "      <td>45436.686000</td>\n",
       "      <td>...</td>\n",
       "      <td>0.000000</td>\n",
       "      <td>0.000000</td>\n",
       "      <td>0.000000</td>\n",
       "      <td>0.000000</td>\n",
       "      <td>0.000000</td>\n",
       "      <td>0.000000</td>\n",
       "      <td>0.000000</td>\n",
       "      <td>0.000000</td>\n",
       "      <td>0.000000</td>\n",
       "      <td>0.000000</td>\n",
       "    </tr>\n",
       "    <tr>\n",
       "      <th>max</th>\n",
       "      <td>823515.000000</td>\n",
       "      <td>12640.000000</td>\n",
       "      <td>45878.000000</td>\n",
       "      <td>2004.000000</td>\n",
       "      <td>100.000000</td>\n",
       "      <td>19347.500000</td>\n",
       "      <td>47.900000</td>\n",
       "      <td>23.021000</td>\n",
       "      <td>16.240000</td>\n",
       "      <td>94277.965000</td>\n",
       "      <td>...</td>\n",
       "      <td>1.000000</td>\n",
       "      <td>1.000000</td>\n",
       "      <td>1.000000</td>\n",
       "      <td>1.000000</td>\n",
       "      <td>1.000000</td>\n",
       "      <td>1.000000</td>\n",
       "      <td>1.000000</td>\n",
       "      <td>1.000000</td>\n",
       "      <td>1.000000</td>\n",
       "      <td>1.000000</td>\n",
       "    </tr>\n",
       "  </tbody>\n",
       "</table>\n",
       "<p>8 rows × 114 columns</p>\n",
       "</div>"
      ],
      "text/plain": [
       "         total_cases     new_cases  total_deaths   new_deaths  \\\n",
       "count    9027.000000   9027.000000   9027.000000  9027.000000   \n",
       "mean    24474.764374    307.505262   2088.278609    22.369669   \n",
       "std     73462.064768   1138.343507   6821.101474   101.066729   \n",
       "min         0.000000 -29726.000000      0.000000 -1918.000000   \n",
       "25%        70.000000      0.000000      0.000000     0.000000   \n",
       "50%      1097.000000     11.000000     29.000000     0.000000   \n",
       "75%      9861.000000    132.000000    329.000000     4.000000   \n",
       "max    823515.000000  12640.000000  45878.000000  2004.000000   \n",
       "\n",
       "       stringency_index  population_density   median_age  aged_65_older  \\\n",
       "count       7207.000000         8712.000000  7475.000000    7475.000000   \n",
       "mean          47.684135          650.715591    42.144187      17.862396   \n",
       "std           30.470777         2902.621269     2.555188       2.734599   \n",
       "min            0.000000            3.404000    37.300000      10.864000   \n",
       "25%           19.440000           65.180000    40.300000      15.070000   \n",
       "50%           51.850000          106.749000    42.400000      18.577000   \n",
       "75%           74.070000          205.859000    43.500000      19.718000   \n",
       "max          100.000000        19347.500000    47.900000      23.021000   \n",
       "\n",
       "       aged_70_older  gdp_per_capita        ...         location_San Marino  \\\n",
       "count    7320.000000     7824.000000        ...                 9113.000000   \n",
       "mean       11.895578    35119.094811        ...                    0.023154   \n",
       "std         2.198739    17827.141089        ...                    0.150400   \n",
       "min         6.955000     5189.972000        ...                    0.000000   \n",
       "25%         9.842000    23313.199000        ...                    0.000000   \n",
       "50%        12.325000    32605.906000        ...                    0.000000   \n",
       "75%        13.433000    45436.686000        ...                    0.000000   \n",
       "max        16.240000    94277.965000        ...                    1.000000   \n",
       "\n",
       "       location_Serbia  location_Slovakia  location_Slovenia  location_Spain  \\\n",
       "count      9113.000000        9113.000000        9113.000000     9113.000000   \n",
       "mean          0.017009           0.015802           0.016021        0.023154   \n",
       "std           0.129311           0.124714           0.125563        0.150400   \n",
       "min           0.000000           0.000000           0.000000        0.000000   \n",
       "25%           0.000000           0.000000           0.000000        0.000000   \n",
       "50%           0.000000           0.000000           0.000000        0.000000   \n",
       "75%           0.000000           0.000000           0.000000        0.000000   \n",
       "max           1.000000           1.000000           1.000000        1.000000   \n",
       "\n",
       "       location_Sweden  location_Switzerland  location_Ukraine  \\\n",
       "count      9113.000000           9113.000000       9113.000000   \n",
       "mean          0.023263              0.023263          0.015143   \n",
       "std           0.150747              0.150747          0.122129   \n",
       "min           0.000000              0.000000          0.000000   \n",
       "25%           0.000000              0.000000          0.000000   \n",
       "50%           0.000000              0.000000          0.000000   \n",
       "75%           0.000000              0.000000          0.000000   \n",
       "max           1.000000              1.000000          1.000000   \n",
       "\n",
       "       location_United Kingdom  location_Vatican  \n",
       "count              9113.000000       9113.000000  \n",
       "mean                  0.023263          0.015033  \n",
       "std                   0.150747          0.121693  \n",
       "min                   0.000000          0.000000  \n",
       "25%                   0.000000          0.000000  \n",
       "50%                   0.000000          0.000000  \n",
       "75%                   0.000000          0.000000  \n",
       "max                   1.000000          1.000000  \n",
       "\n",
       "[8 rows x 114 columns]"
      ]
     },
     "execution_count": 40,
     "metadata": {},
     "output_type": "execute_result"
    }
   ],
   "source": [
    "df_eu.describe(include = [np.number])"
   ]
  },
  {
   "cell_type": "markdown",
   "metadata": {},
   "source": [
    "As observed above in the correlation matrix we can only use one of three columns median, 65_older or 70_older as they are highly correlated,we can also see that total deaths are very highly correlated with total cases as well as new deaths. Let's experiment with dropping median, 70_older as 65_older would suffice and let's also drop new_deaths, new_cases"
   ]
  },
  {
   "cell_type": "code",
   "execution_count": 41,
   "metadata": {},
   "outputs": [],
   "source": [
    "df_eu.drop(['aged_65_older','aged_70_older','new_cases','new_deaths'], axis = 1, inplace = True)"
   ]
  },
  {
   "cell_type": "markdown",
   "metadata": {},
   "source": [
    "### Handling Missing Values"
   ]
  },
  {
   "cell_type": "markdown",
   "metadata": {},
   "source": [
    "As seen from above df.isnull().sum(), there are several missing values in this dataset. Therefore, we first need to handle these missing values before proceeding further. We will use SimpleImputer for this."
   ]
  },
  {
   "cell_type": "code",
   "execution_count": 42,
   "metadata": {},
   "outputs": [
    {
     "data": {
      "text/plain": [
       "total_cases                     86\n",
       "total_deaths                    86\n",
       "stringency_index              1906\n",
       "population_density             401\n",
       "median_age                    1638\n",
       "gdp_per_capita                1289\n",
       "cardiovasc_death_rate         1500\n",
       "diabetes_prevalence            948\n",
       "hospital_beds_per_thousand    1086\n",
       "life_expectancy                402\n",
       "iso_code_AND                     0\n",
       "iso_code_AUT                     0\n",
       "iso_code_BEL                     0\n",
       "iso_code_BGR                     0\n",
       "iso_code_BIH                     0\n",
       "iso_code_BLR                     0\n",
       "iso_code_CHE                     0\n",
       "iso_code_CYP                     0\n",
       "iso_code_CZE                     0\n",
       "iso_code_DEU                     0\n",
       "iso_code_DNK                     0\n",
       "iso_code_ESP                     0\n",
       "iso_code_EST                     0\n",
       "iso_code_FIN                     0\n",
       "iso_code_FRA                     0\n",
       "iso_code_FRO                     0\n",
       "iso_code_GBR                     0\n",
       "iso_code_GGY                     0\n",
       "iso_code_GIB                     0\n",
       "iso_code_GRC                     0\n",
       "                              ... \n",
       "location_Ireland                 0\n",
       "location_Isle of Man             0\n",
       "location_Italy                   0\n",
       "location_Jersey                  0\n",
       "location_Kosovo                  0\n",
       "location_Latvia                  0\n",
       "location_Liechtenstein           0\n",
       "location_Lithuania               0\n",
       "location_Luxembourg              0\n",
       "location_Macedonia               0\n",
       "location_Malta                   0\n",
       "location_Moldova                 0\n",
       "location_Monaco                  0\n",
       "location_Montenegro              0\n",
       "location_Netherlands             0\n",
       "location_Norway                  0\n",
       "location_Poland                  0\n",
       "location_Portugal                0\n",
       "location_Romania                 0\n",
       "location_Russia                  0\n",
       "location_San Marino              0\n",
       "location_Serbia                  0\n",
       "location_Slovakia                0\n",
       "location_Slovenia                0\n",
       "location_Spain                   0\n",
       "location_Sweden                  0\n",
       "location_Switzerland             0\n",
       "location_Ukraine                 0\n",
       "location_United Kingdom          0\n",
       "location_Vatican                 0\n",
       "Length: 110, dtype: int64"
      ]
     },
     "execution_count": 42,
     "metadata": {},
     "output_type": "execute_result"
    }
   ],
   "source": [
    "df_eu.isnull().sum()"
   ]
  },
  {
   "cell_type": "code",
   "execution_count": 43,
   "metadata": {},
   "outputs": [],
   "source": [
    "# Impute missing values using Imputer in sklearn.preprocessing\n",
    "from sklearn.impute import SimpleImputer \n",
    "imputer = SimpleImputer(missing_values=np.nan, strategy='median')\n",
    "imputer.fit(df_eu)\n",
    "df_eu = pd.DataFrame(data=imputer.transform(df_eu) , columns=df_eu.columns)"
   ]
  },
  {
   "cell_type": "markdown",
   "metadata": {},
   "source": [
    "#### Training - Testing Model"
   ]
  },
  {
   "cell_type": "code",
   "execution_count": 44,
   "metadata": {},
   "outputs": [],
   "source": [
    "# Assign X as a DataFrame of features and y as a Series of the outcome variable\n",
    "X = df_eu.drop('total_deaths', 1)\n",
    "y = df_eu.total_deaths"
   ]
  },
  {
   "cell_type": "code",
   "execution_count": 45,
   "metadata": {},
   "outputs": [
    {
     "data": {
      "text/plain": [
       "location_Vatican                   0\n",
       "iso_code_LVA                       0\n",
       "iso_code_GRC                       0\n",
       "iso_code_HRV                       0\n",
       "iso_code_HUN                       0\n",
       "iso_code_IMN                       0\n",
       "iso_code_IRL                       0\n",
       "iso_code_ISL                       0\n",
       "iso_code_ITA                       0\n",
       "iso_code_JEY                       0\n",
       "iso_code_LIE                       0\n",
       "iso_code_LTU                       0\n",
       "iso_code_LUX                       0\n",
       "iso_code_MCO                       0\n",
       "iso_code_SRB                       0\n",
       "iso_code_MDA                       0\n",
       "iso_code_MKD                       0\n",
       "iso_code_MLT                       0\n",
       "iso_code_MNE                       0\n",
       "iso_code_NLD                       0\n",
       "iso_code_NOR                       0\n",
       "iso_code_OWID_KOS                  0\n",
       "iso_code_POL                       0\n",
       "iso_code_PRT                       0\n",
       "iso_code_ROU                       0\n",
       "iso_code_RUS                       0\n",
       "iso_code_GIB                       0\n",
       "iso_code_GGY                       0\n",
       "iso_code_GBR                       0\n",
       "iso_code_FRO                       0\n",
       "                                  ..\n",
       "location_Switzerland               0\n",
       "location_Ukraine                   0\n",
       "location_Jersey                    0\n",
       "location_Italy                     0\n",
       "location_Isle of Man               0\n",
       "location_Ireland                   0\n",
       "iso_code_SWE                       0\n",
       "iso_code_UKR                       0\n",
       "iso_code_VAT                       0\n",
       "location_Andorra                   0\n",
       "location_Austria                   0\n",
       "location_Belarus                   0\n",
       "location_Belgium                   0\n",
       "location_Bosnia and Herzegovina    0\n",
       "location_Bulgaria                  0\n",
       "location_Croatia                   0\n",
       "location_Cyprus                    0\n",
       "location_Czech Republic            0\n",
       "location_Denmark                   0\n",
       "location_Estonia                   0\n",
       "location_Faeroe Islands            0\n",
       "location_Finland                   0\n",
       "location_France                    0\n",
       "location_Germany                   0\n",
       "location_Gibraltar                 0\n",
       "location_Greece                    0\n",
       "location_Guernsey                  0\n",
       "location_Hungary                   0\n",
       "location_Iceland                   0\n",
       "total_cases                        0\n",
       "Length: 109, dtype: int64"
      ]
     },
     "execution_count": 45,
     "metadata": {},
     "output_type": "execute_result"
    }
   ],
   "source": [
    "X.isnull().sum().sort_values(ascending=False)"
   ]
  },
  {
   "cell_type": "code",
   "execution_count": 46,
   "metadata": {},
   "outputs": [
    {
     "data": {
      "text/plain": [
       "0.708217600829473"
      ]
     },
     "execution_count": 46,
     "metadata": {},
     "output_type": "execute_result"
    }
   ],
   "source": [
    "# Feature Scaling and linear regression\n",
    "scaler = StandardScaler() \n",
    "reg = LinearRegression()\n",
    "steps = [('scaling', scaler), ('regression', reg)] \n",
    "pipeline = Pipeline(steps)\n",
    "X_train, X_test, y_train, y_test = train_test_split(X, y, test_size=0.30, random_state=42) \n",
    "\n",
    "pipeline.fit(X_train, y_train) \n",
    "y_pred = pipeline.predict(X_test) \n",
    "pipeline.score(X_test, y_test)"
   ]
  },
  {
   "cell_type": "code",
   "execution_count": 47,
   "metadata": {},
   "outputs": [],
   "source": [
    "def train_score_regressor(sklearn_regressor, X_train, y_train, X_test, y_test, model_parameters, print_oob_score=False):\n",
    "    \"\"\"A helper function that:\n",
    "        - Trains a regressor on training data\n",
    "        - Scores data on training and test data\n",
    "        - Returns a trained model\n",
    "    \"\"\"\n",
    "    # Step 1: Initializing the sklearn regressor \n",
    "   \n",
    "    regressor = sklearn_regressor(**model_parameters)  \n",
    "    # Step 2: Training the algorithm using the X_train dataset of features and y_train, the associated target features\n",
    "\n",
    "    regressor.fit(X_train, y_train)\n",
    "    y_pred1 = regressor.predict (X_train)\n",
    "    y_pred2 = regressor.predict (X_test)\n",
    "   \n",
    "    # Step 3: Calculating the score of the predictive power on the training and testing dataset.\n",
    "    \n",
    "    print ('Train score: %.3f' % r2_score(y_train, y_pred1))\n",
    "    print ('Test score: %.3f' % r2_score(y_test, y_pred2))\n",
    "   \n",
    "    # Print the results!\n",
    "    #your code goes here\n",
    "    print(regressor)\n",
    "    return regressor"
   ]
  },
  {
   "cell_type": "code",
   "execution_count": 48,
   "metadata": {},
   "outputs": [
    {
     "name": "stdout",
     "output_type": "stream",
     "text": [
      "Train score: 1.000\n",
      "Test score: 1.000\n",
      "DecisionTreeRegressor(criterion='mse', max_depth=None, max_features=None,\n",
      "           max_leaf_nodes=None, min_impurity_decrease=0.0,\n",
      "           min_impurity_split=None, min_samples_leaf=1,\n",
      "           min_samples_split=2, min_weight_fraction_leaf=0.0,\n",
      "           presort=False, random_state=42, splitter='best')\n"
     ]
    }
   ],
   "source": [
    "trained_regressor = train_score_regressor(sklearn_regressor=DecisionTreeRegressor,\n",
    "                                          X_train=X_train, \n",
    "                                          y_train=y_train, \n",
    "                                          X_test=X_test, \n",
    "                                          y_test=y_test, \n",
    "                                          model_parameters={'random_state':42})"
   ]
  },
  {
   "cell_type": "markdown",
   "metadata": {},
   "source": [
    "This shows that it the decision tree is overfitting to the data. Let's get the best parameters with GridSearchCV and conduct hyperparameter tuning."
   ]
  },
  {
   "cell_type": "code",
   "execution_count": 49,
   "metadata": {},
   "outputs": [
    {
     "name": "stdout",
     "output_type": "stream",
     "text": [
      "GridSearchCV(cv='warn', error_score='raise-deprecating',\n",
      "       estimator=DecisionTreeRegressor(criterion='mse', max_depth=None, max_features=None,\n",
      "           max_leaf_nodes=None, min_impurity_decrease=0.0,\n",
      "           min_impurity_split=None, min_samples_leaf=1,\n",
      "           min_samples_split=2, min_weight_fraction_leaf=0.0,\n",
      "           presort=False, random_state=42, splitter='best'),\n",
      "       fit_params=None, iid='warn', n_jobs=None,\n",
      "       param_grid={'max_depth': [3, 4, 5], 'max_leaf_nodes': [2, 3, 4]},\n",
      "       pre_dispatch='2*n_jobs', refit=True, return_train_score='warn',\n",
      "       scoring=None, verbose=0)\n"
     ]
    }
   ],
   "source": [
    "# Setting parameters to search through\n",
    "parameters = {\"max_depth\":[3,4,5],\n",
    "              \"max_leaf_nodes\":[2,3,4]}\n",
    "decision_regressor= DecisionTreeRegressor(random_state=42)\n",
    "\n",
    "# Initialize GridSearch and then fit\n",
    "regressor=GridSearchCV(decision_regressor,parameters)\n",
    "regressor.fit(X_train, y_train)\n",
    "print(regressor)"
   ]
  },
  {
   "cell_type": "code",
   "execution_count": 50,
   "metadata": {},
   "outputs": [
    {
     "data": {
      "text/plain": [
       "{'criterion': 'mse',\n",
       " 'max_depth': 3,\n",
       " 'max_features': None,\n",
       " 'max_leaf_nodes': 4,\n",
       " 'min_impurity_decrease': 0.0,\n",
       " 'min_impurity_split': None,\n",
       " 'min_samples_leaf': 1,\n",
       " 'min_samples_split': 2,\n",
       " 'min_weight_fraction_leaf': 0.0,\n",
       " 'presort': False,\n",
       " 'random_state': 42,\n",
       " 'splitter': 'best'}"
      ]
     },
     "execution_count": 50,
     "metadata": {},
     "output_type": "execute_result"
    }
   ],
   "source": [
    "regressor.best_estimator_.get_params()"
   ]
  },
  {
   "cell_type": "code",
   "execution_count": 51,
   "metadata": {},
   "outputs": [
    {
     "name": "stdout",
     "output_type": "stream",
     "text": [
      "Train score: 0.924\n",
      "Test score: 0.918\n",
      "DecisionTreeRegressor(criterion='mse', max_depth=3, max_features=None,\n",
      "           max_leaf_nodes=4, min_impurity_decrease=0.0,\n",
      "           min_impurity_split=None, min_samples_leaf=1,\n",
      "           min_samples_split=2, min_weight_fraction_leaf=0.0,\n",
      "           presort=False, random_state=42, splitter='best')\n"
     ]
    }
   ],
   "source": [
    "# evaluating the tuned model\n",
    "trained_regressor = train_score_regressor(sklearn_regressor=DecisionTreeRegressor,\n",
    "                                          X_train=X_train, \n",
    "                                          y_train=y_train, \n",
    "                                          X_test=X_test, \n",
    "                                          y_test=y_test, \n",
    "                                          model_parameters=regressor.best_estimator_.get_params())"
   ]
  },
  {
   "cell_type": "markdown",
   "metadata": {},
   "source": [
    "Once we apply the best parameters we get a good but not overfitted accuracy score."
   ]
  },
  {
   "cell_type": "markdown",
   "metadata": {},
   "source": [
    "# Conclusion "
   ]
  },
  {
   "cell_type": "markdown",
   "metadata": {},
   "source": [
    "We tried a regresion model based on location details to predict total deaths and got an accurancy of 75%. This is very helpful to take proactive measures at locations which might be prone to be hotspots based on prior trends that we have captured for the same. Moving beyond the data set that we worked with, continuous data input would greatly improve the accuracy of our models over time. The data sets we’re working with are volatile, subject to change as spikes in infections can occur. With more data, the models would be able to predict future outcomes more reliably and help us predict future hotspots, whether by age, GDP or other variables."
   ]
  }
 ],
 "metadata": {
  "kernelspec": {
   "display_name": "Python 3",
   "language": "python",
   "name": "python3"
  },
  "language_info": {
   "codemirror_mode": {
    "name": "ipython",
    "version": 3
   },
   "file_extension": ".py",
   "mimetype": "text/x-python",
   "name": "python",
   "nbconvert_exporter": "python",
   "pygments_lexer": "ipython3",
   "version": "3.7.6"
  }
 },
 "nbformat": 4,
 "nbformat_minor": 2
}
