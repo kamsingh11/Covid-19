{
 "cells": [
  {
   "cell_type": "markdown",
   "metadata": {},
   "source": [
    "# Data Pre-processing"
   ]
  },
  {
   "cell_type": "markdown",
   "metadata": {},
   "source": [
    "#### Understanding structure of data \n",
    "Identifying Continuous and Categorical data\n",
    "Handling Missing data\n",
    "Methods to identify outliers\n",
    "Measuring centrality of data\n",
    "Measuring spread of data"
   ]
  },
  {
   "cell_type": "code",
   "execution_count": 1,
   "metadata": {},
   "outputs": [
    {
     "name": "stderr",
     "output_type": "stream",
     "text": [
      "In C:\\Users\\kamsi\\Anaconda3\\lib\\site-packages\\matplotlib\\mpl-data\\stylelib\\_classic_test.mplstyle: \n",
      "The text.latex.preview rcparam was deprecated in Matplotlib 3.3 and will be removed two minor releases later.\n",
      "In C:\\Users\\kamsi\\Anaconda3\\lib\\site-packages\\matplotlib\\mpl-data\\stylelib\\_classic_test.mplstyle: \n",
      "The mathtext.fallback_to_cm rcparam was deprecated in Matplotlib 3.3 and will be removed two minor releases later.\n",
      "In C:\\Users\\kamsi\\Anaconda3\\lib\\site-packages\\matplotlib\\mpl-data\\stylelib\\_classic_test.mplstyle: Support for setting the 'mathtext.fallback_to_cm' rcParam is deprecated since 3.3 and will be removed two minor releases later; use 'mathtext.fallback : 'cm' instead.\n",
      "In C:\\Users\\kamsi\\Anaconda3\\lib\\site-packages\\matplotlib\\mpl-data\\stylelib\\_classic_test.mplstyle: \n",
      "The validate_bool_maybe_none function was deprecated in Matplotlib 3.3 and will be removed two minor releases later.\n",
      "In C:\\Users\\kamsi\\Anaconda3\\lib\\site-packages\\matplotlib\\mpl-data\\stylelib\\_classic_test.mplstyle: \n",
      "The savefig.jpeg_quality rcparam was deprecated in Matplotlib 3.3 and will be removed two minor releases later.\n",
      "In C:\\Users\\kamsi\\Anaconda3\\lib\\site-packages\\matplotlib\\mpl-data\\stylelib\\_classic_test.mplstyle: \n",
      "The keymap.all_axes rcparam was deprecated in Matplotlib 3.3 and will be removed two minor releases later.\n",
      "In C:\\Users\\kamsi\\Anaconda3\\lib\\site-packages\\matplotlib\\mpl-data\\stylelib\\_classic_test.mplstyle: \n",
      "The animation.avconv_path rcparam was deprecated in Matplotlib 3.3 and will be removed two minor releases later.\n",
      "In C:\\Users\\kamsi\\Anaconda3\\lib\\site-packages\\matplotlib\\mpl-data\\stylelib\\_classic_test.mplstyle: \n",
      "The animation.avconv_args rcparam was deprecated in Matplotlib 3.3 and will be removed two minor releases later.\n"
     ]
    }
   ],
   "source": [
    "import pandas as pd\n",
    "import numpy as np\n",
    "from sklearn.impute import SimpleImputer\n",
    "import matplotlib.pylab as plt\n",
    "from sklearn.model_selection import train_test_split \n",
    "from sklearn.linear_model import LinearRegression \n",
    "from sklearn.model_selection import cross_val_score\n",
    "from sklearn.model_selection import RepeatedStratifiedKFold\n",
    "from sklearn.pipeline import Pipeline\n",
    "import seaborn as sns\n",
    "import datetime as dt\n",
    "import random\n",
    "import scipy.stats as stats\n",
    "%matplotlib inline \n",
    "sns.set()\n",
    "from pandas.api.types import CategoricalDtype\n",
    "from plotnine import *\n",
    "\n"
   ]
  },
  {
   "cell_type": "markdown",
   "metadata": {},
   "source": [
    "## Reading Data"
   ]
  },
  {
   "cell_type": "code",
   "execution_count": 2,
   "metadata": {},
   "outputs": [],
   "source": [
    "df = pd.read_csv(\"Data/owid-covid-data.csv\")"
   ]
  },
  {
   "cell_type": "markdown",
   "metadata": {},
   "source": [
    "## Understanding structure of data\n",
    "\n",
    "#### Looking at top 10 rows of data"
   ]
  },
  {
   "cell_type": "code",
   "execution_count": 3,
   "metadata": {},
   "outputs": [
    {
     "data": {
      "text/html": [
       "<div>\n",
       "<style scoped>\n",
       "    .dataframe tbody tr th:only-of-type {\n",
       "        vertical-align: middle;\n",
       "    }\n",
       "\n",
       "    .dataframe tbody tr th {\n",
       "        vertical-align: top;\n",
       "    }\n",
       "\n",
       "    .dataframe thead th {\n",
       "        text-align: right;\n",
       "    }\n",
       "</style>\n",
       "<table border=\"1\" class=\"dataframe\">\n",
       "  <thead>\n",
       "    <tr style=\"text-align: right;\">\n",
       "      <th></th>\n",
       "      <th>iso_code</th>\n",
       "      <th>continent</th>\n",
       "      <th>location</th>\n",
       "      <th>date</th>\n",
       "      <th>total_cases</th>\n",
       "      <th>new_cases</th>\n",
       "      <th>total_deaths</th>\n",
       "      <th>new_deaths</th>\n",
       "      <th>total_cases_per_million</th>\n",
       "      <th>new_cases_per_million</th>\n",
       "      <th>...</th>\n",
       "      <th>aged_70_older</th>\n",
       "      <th>gdp_per_capita</th>\n",
       "      <th>extreme_poverty</th>\n",
       "      <th>cardiovasc_death_rate</th>\n",
       "      <th>diabetes_prevalence</th>\n",
       "      <th>female_smokers</th>\n",
       "      <th>male_smokers</th>\n",
       "      <th>handwashing_facilities</th>\n",
       "      <th>hospital_beds_per_thousand</th>\n",
       "      <th>life_expectancy</th>\n",
       "    </tr>\n",
       "  </thead>\n",
       "  <tbody>\n",
       "    <tr>\n",
       "      <td>0</td>\n",
       "      <td>AFG</td>\n",
       "      <td>Asia</td>\n",
       "      <td>Afghanistan</td>\n",
       "      <td>2019-12-31</td>\n",
       "      <td>0.0</td>\n",
       "      <td>0.0</td>\n",
       "      <td>0.0</td>\n",
       "      <td>0.0</td>\n",
       "      <td>0.0</td>\n",
       "      <td>0.0</td>\n",
       "      <td>...</td>\n",
       "      <td>1.337</td>\n",
       "      <td>1803.987</td>\n",
       "      <td>NaN</td>\n",
       "      <td>597.029</td>\n",
       "      <td>9.59</td>\n",
       "      <td>NaN</td>\n",
       "      <td>NaN</td>\n",
       "      <td>37.746</td>\n",
       "      <td>0.5</td>\n",
       "      <td>64.83</td>\n",
       "    </tr>\n",
       "    <tr>\n",
       "      <td>1</td>\n",
       "      <td>AFG</td>\n",
       "      <td>Asia</td>\n",
       "      <td>Afghanistan</td>\n",
       "      <td>2020-01-01</td>\n",
       "      <td>0.0</td>\n",
       "      <td>0.0</td>\n",
       "      <td>0.0</td>\n",
       "      <td>0.0</td>\n",
       "      <td>0.0</td>\n",
       "      <td>0.0</td>\n",
       "      <td>...</td>\n",
       "      <td>1.337</td>\n",
       "      <td>1803.987</td>\n",
       "      <td>NaN</td>\n",
       "      <td>597.029</td>\n",
       "      <td>9.59</td>\n",
       "      <td>NaN</td>\n",
       "      <td>NaN</td>\n",
       "      <td>37.746</td>\n",
       "      <td>0.5</td>\n",
       "      <td>64.83</td>\n",
       "    </tr>\n",
       "    <tr>\n",
       "      <td>2</td>\n",
       "      <td>AFG</td>\n",
       "      <td>Asia</td>\n",
       "      <td>Afghanistan</td>\n",
       "      <td>2020-01-02</td>\n",
       "      <td>0.0</td>\n",
       "      <td>0.0</td>\n",
       "      <td>0.0</td>\n",
       "      <td>0.0</td>\n",
       "      <td>0.0</td>\n",
       "      <td>0.0</td>\n",
       "      <td>...</td>\n",
       "      <td>1.337</td>\n",
       "      <td>1803.987</td>\n",
       "      <td>NaN</td>\n",
       "      <td>597.029</td>\n",
       "      <td>9.59</td>\n",
       "      <td>NaN</td>\n",
       "      <td>NaN</td>\n",
       "      <td>37.746</td>\n",
       "      <td>0.5</td>\n",
       "      <td>64.83</td>\n",
       "    </tr>\n",
       "    <tr>\n",
       "      <td>3</td>\n",
       "      <td>AFG</td>\n",
       "      <td>Asia</td>\n",
       "      <td>Afghanistan</td>\n",
       "      <td>2020-01-03</td>\n",
       "      <td>0.0</td>\n",
       "      <td>0.0</td>\n",
       "      <td>0.0</td>\n",
       "      <td>0.0</td>\n",
       "      <td>0.0</td>\n",
       "      <td>0.0</td>\n",
       "      <td>...</td>\n",
       "      <td>1.337</td>\n",
       "      <td>1803.987</td>\n",
       "      <td>NaN</td>\n",
       "      <td>597.029</td>\n",
       "      <td>9.59</td>\n",
       "      <td>NaN</td>\n",
       "      <td>NaN</td>\n",
       "      <td>37.746</td>\n",
       "      <td>0.5</td>\n",
       "      <td>64.83</td>\n",
       "    </tr>\n",
       "    <tr>\n",
       "      <td>4</td>\n",
       "      <td>AFG</td>\n",
       "      <td>Asia</td>\n",
       "      <td>Afghanistan</td>\n",
       "      <td>2020-01-04</td>\n",
       "      <td>0.0</td>\n",
       "      <td>0.0</td>\n",
       "      <td>0.0</td>\n",
       "      <td>0.0</td>\n",
       "      <td>0.0</td>\n",
       "      <td>0.0</td>\n",
       "      <td>...</td>\n",
       "      <td>1.337</td>\n",
       "      <td>1803.987</td>\n",
       "      <td>NaN</td>\n",
       "      <td>597.029</td>\n",
       "      <td>9.59</td>\n",
       "      <td>NaN</td>\n",
       "      <td>NaN</td>\n",
       "      <td>37.746</td>\n",
       "      <td>0.5</td>\n",
       "      <td>64.83</td>\n",
       "    </tr>\n",
       "    <tr>\n",
       "      <td>5</td>\n",
       "      <td>AFG</td>\n",
       "      <td>Asia</td>\n",
       "      <td>Afghanistan</td>\n",
       "      <td>2020-01-05</td>\n",
       "      <td>0.0</td>\n",
       "      <td>0.0</td>\n",
       "      <td>0.0</td>\n",
       "      <td>0.0</td>\n",
       "      <td>0.0</td>\n",
       "      <td>0.0</td>\n",
       "      <td>...</td>\n",
       "      <td>1.337</td>\n",
       "      <td>1803.987</td>\n",
       "      <td>NaN</td>\n",
       "      <td>597.029</td>\n",
       "      <td>9.59</td>\n",
       "      <td>NaN</td>\n",
       "      <td>NaN</td>\n",
       "      <td>37.746</td>\n",
       "      <td>0.5</td>\n",
       "      <td>64.83</td>\n",
       "    </tr>\n",
       "    <tr>\n",
       "      <td>6</td>\n",
       "      <td>AFG</td>\n",
       "      <td>Asia</td>\n",
       "      <td>Afghanistan</td>\n",
       "      <td>2020-01-06</td>\n",
       "      <td>0.0</td>\n",
       "      <td>0.0</td>\n",
       "      <td>0.0</td>\n",
       "      <td>0.0</td>\n",
       "      <td>0.0</td>\n",
       "      <td>0.0</td>\n",
       "      <td>...</td>\n",
       "      <td>1.337</td>\n",
       "      <td>1803.987</td>\n",
       "      <td>NaN</td>\n",
       "      <td>597.029</td>\n",
       "      <td>9.59</td>\n",
       "      <td>NaN</td>\n",
       "      <td>NaN</td>\n",
       "      <td>37.746</td>\n",
       "      <td>0.5</td>\n",
       "      <td>64.83</td>\n",
       "    </tr>\n",
       "    <tr>\n",
       "      <td>7</td>\n",
       "      <td>AFG</td>\n",
       "      <td>Asia</td>\n",
       "      <td>Afghanistan</td>\n",
       "      <td>2020-01-07</td>\n",
       "      <td>0.0</td>\n",
       "      <td>0.0</td>\n",
       "      <td>0.0</td>\n",
       "      <td>0.0</td>\n",
       "      <td>0.0</td>\n",
       "      <td>0.0</td>\n",
       "      <td>...</td>\n",
       "      <td>1.337</td>\n",
       "      <td>1803.987</td>\n",
       "      <td>NaN</td>\n",
       "      <td>597.029</td>\n",
       "      <td>9.59</td>\n",
       "      <td>NaN</td>\n",
       "      <td>NaN</td>\n",
       "      <td>37.746</td>\n",
       "      <td>0.5</td>\n",
       "      <td>64.83</td>\n",
       "    </tr>\n",
       "    <tr>\n",
       "      <td>8</td>\n",
       "      <td>AFG</td>\n",
       "      <td>Asia</td>\n",
       "      <td>Afghanistan</td>\n",
       "      <td>2020-01-08</td>\n",
       "      <td>0.0</td>\n",
       "      <td>0.0</td>\n",
       "      <td>0.0</td>\n",
       "      <td>0.0</td>\n",
       "      <td>0.0</td>\n",
       "      <td>0.0</td>\n",
       "      <td>...</td>\n",
       "      <td>1.337</td>\n",
       "      <td>1803.987</td>\n",
       "      <td>NaN</td>\n",
       "      <td>597.029</td>\n",
       "      <td>9.59</td>\n",
       "      <td>NaN</td>\n",
       "      <td>NaN</td>\n",
       "      <td>37.746</td>\n",
       "      <td>0.5</td>\n",
       "      <td>64.83</td>\n",
       "    </tr>\n",
       "    <tr>\n",
       "      <td>9</td>\n",
       "      <td>AFG</td>\n",
       "      <td>Asia</td>\n",
       "      <td>Afghanistan</td>\n",
       "      <td>2020-01-09</td>\n",
       "      <td>0.0</td>\n",
       "      <td>0.0</td>\n",
       "      <td>0.0</td>\n",
       "      <td>0.0</td>\n",
       "      <td>0.0</td>\n",
       "      <td>0.0</td>\n",
       "      <td>...</td>\n",
       "      <td>1.337</td>\n",
       "      <td>1803.987</td>\n",
       "      <td>NaN</td>\n",
       "      <td>597.029</td>\n",
       "      <td>9.59</td>\n",
       "      <td>NaN</td>\n",
       "      <td>NaN</td>\n",
       "      <td>37.746</td>\n",
       "      <td>0.5</td>\n",
       "      <td>64.83</td>\n",
       "    </tr>\n",
       "  </tbody>\n",
       "</table>\n",
       "<p>10 rows × 34 columns</p>\n",
       "</div>"
      ],
      "text/plain": [
       "  iso_code continent     location        date  total_cases  new_cases  \\\n",
       "0      AFG      Asia  Afghanistan  2019-12-31          0.0        0.0   \n",
       "1      AFG      Asia  Afghanistan  2020-01-01          0.0        0.0   \n",
       "2      AFG      Asia  Afghanistan  2020-01-02          0.0        0.0   \n",
       "3      AFG      Asia  Afghanistan  2020-01-03          0.0        0.0   \n",
       "4      AFG      Asia  Afghanistan  2020-01-04          0.0        0.0   \n",
       "5      AFG      Asia  Afghanistan  2020-01-05          0.0        0.0   \n",
       "6      AFG      Asia  Afghanistan  2020-01-06          0.0        0.0   \n",
       "7      AFG      Asia  Afghanistan  2020-01-07          0.0        0.0   \n",
       "8      AFG      Asia  Afghanistan  2020-01-08          0.0        0.0   \n",
       "9      AFG      Asia  Afghanistan  2020-01-09          0.0        0.0   \n",
       "\n",
       "   total_deaths  new_deaths  total_cases_per_million  new_cases_per_million  \\\n",
       "0           0.0         0.0                      0.0                    0.0   \n",
       "1           0.0         0.0                      0.0                    0.0   \n",
       "2           0.0         0.0                      0.0                    0.0   \n",
       "3           0.0         0.0                      0.0                    0.0   \n",
       "4           0.0         0.0                      0.0                    0.0   \n",
       "5           0.0         0.0                      0.0                    0.0   \n",
       "6           0.0         0.0                      0.0                    0.0   \n",
       "7           0.0         0.0                      0.0                    0.0   \n",
       "8           0.0         0.0                      0.0                    0.0   \n",
       "9           0.0         0.0                      0.0                    0.0   \n",
       "\n",
       "   ...  aged_70_older  gdp_per_capita  extreme_poverty  cardiovasc_death_rate  \\\n",
       "0  ...          1.337        1803.987              NaN                597.029   \n",
       "1  ...          1.337        1803.987              NaN                597.029   \n",
       "2  ...          1.337        1803.987              NaN                597.029   \n",
       "3  ...          1.337        1803.987              NaN                597.029   \n",
       "4  ...          1.337        1803.987              NaN                597.029   \n",
       "5  ...          1.337        1803.987              NaN                597.029   \n",
       "6  ...          1.337        1803.987              NaN                597.029   \n",
       "7  ...          1.337        1803.987              NaN                597.029   \n",
       "8  ...          1.337        1803.987              NaN                597.029   \n",
       "9  ...          1.337        1803.987              NaN                597.029   \n",
       "\n",
       "   diabetes_prevalence  female_smokers  male_smokers  handwashing_facilities  \\\n",
       "0                 9.59             NaN           NaN                  37.746   \n",
       "1                 9.59             NaN           NaN                  37.746   \n",
       "2                 9.59             NaN           NaN                  37.746   \n",
       "3                 9.59             NaN           NaN                  37.746   \n",
       "4                 9.59             NaN           NaN                  37.746   \n",
       "5                 9.59             NaN           NaN                  37.746   \n",
       "6                 9.59             NaN           NaN                  37.746   \n",
       "7                 9.59             NaN           NaN                  37.746   \n",
       "8                 9.59             NaN           NaN                  37.746   \n",
       "9                 9.59             NaN           NaN                  37.746   \n",
       "\n",
       "  hospital_beds_per_thousand  life_expectancy  \n",
       "0                        0.5            64.83  \n",
       "1                        0.5            64.83  \n",
       "2                        0.5            64.83  \n",
       "3                        0.5            64.83  \n",
       "4                        0.5            64.83  \n",
       "5                        0.5            64.83  \n",
       "6                        0.5            64.83  \n",
       "7                        0.5            64.83  \n",
       "8                        0.5            64.83  \n",
       "9                        0.5            64.83  \n",
       "\n",
       "[10 rows x 34 columns]"
      ]
     },
     "execution_count": 3,
     "metadata": {},
     "output_type": "execute_result"
    }
   ],
   "source": [
    "df.head(10)"
   ]
  },
  {
   "cell_type": "code",
   "execution_count": 4,
   "metadata": {},
   "outputs": [
    {
     "data": {
      "text/html": [
       "<div>\n",
       "<style scoped>\n",
       "    .dataframe tbody tr th:only-of-type {\n",
       "        vertical-align: middle;\n",
       "    }\n",
       "\n",
       "    .dataframe tbody tr th {\n",
       "        vertical-align: top;\n",
       "    }\n",
       "\n",
       "    .dataframe thead th {\n",
       "        text-align: right;\n",
       "    }\n",
       "</style>\n",
       "<table border=\"1\" class=\"dataframe\">\n",
       "  <thead>\n",
       "    <tr style=\"text-align: right;\">\n",
       "      <th></th>\n",
       "      <th>iso_code</th>\n",
       "      <th>continent</th>\n",
       "      <th>location</th>\n",
       "      <th>date</th>\n",
       "      <th>total_cases</th>\n",
       "      <th>new_cases</th>\n",
       "      <th>total_deaths</th>\n",
       "      <th>new_deaths</th>\n",
       "      <th>total_cases_per_million</th>\n",
       "      <th>new_cases_per_million</th>\n",
       "      <th>...</th>\n",
       "      <th>aged_70_older</th>\n",
       "      <th>gdp_per_capita</th>\n",
       "      <th>extreme_poverty</th>\n",
       "      <th>cardiovasc_death_rate</th>\n",
       "      <th>diabetes_prevalence</th>\n",
       "      <th>female_smokers</th>\n",
       "      <th>male_smokers</th>\n",
       "      <th>handwashing_facilities</th>\n",
       "      <th>hospital_beds_per_thousand</th>\n",
       "      <th>life_expectancy</th>\n",
       "    </tr>\n",
       "  </thead>\n",
       "  <tbody>\n",
       "    <tr>\n",
       "      <td>33407</td>\n",
       "      <td>NaN</td>\n",
       "      <td>NaN</td>\n",
       "      <td>International</td>\n",
       "      <td>2020-02-23</td>\n",
       "      <td>634.0</td>\n",
       "      <td>0.0</td>\n",
       "      <td>2.0</td>\n",
       "      <td>0.0</td>\n",
       "      <td>NaN</td>\n",
       "      <td>NaN</td>\n",
       "      <td>...</td>\n",
       "      <td>NaN</td>\n",
       "      <td>NaN</td>\n",
       "      <td>NaN</td>\n",
       "      <td>NaN</td>\n",
       "      <td>NaN</td>\n",
       "      <td>NaN</td>\n",
       "      <td>NaN</td>\n",
       "      <td>NaN</td>\n",
       "      <td>NaN</td>\n",
       "      <td>NaN</td>\n",
       "    </tr>\n",
       "    <tr>\n",
       "      <td>33408</td>\n",
       "      <td>NaN</td>\n",
       "      <td>NaN</td>\n",
       "      <td>International</td>\n",
       "      <td>2020-02-24</td>\n",
       "      <td>691.0</td>\n",
       "      <td>57.0</td>\n",
       "      <td>3.0</td>\n",
       "      <td>1.0</td>\n",
       "      <td>NaN</td>\n",
       "      <td>NaN</td>\n",
       "      <td>...</td>\n",
       "      <td>NaN</td>\n",
       "      <td>NaN</td>\n",
       "      <td>NaN</td>\n",
       "      <td>NaN</td>\n",
       "      <td>NaN</td>\n",
       "      <td>NaN</td>\n",
       "      <td>NaN</td>\n",
       "      <td>NaN</td>\n",
       "      <td>NaN</td>\n",
       "      <td>NaN</td>\n",
       "    </tr>\n",
       "    <tr>\n",
       "      <td>33409</td>\n",
       "      <td>NaN</td>\n",
       "      <td>NaN</td>\n",
       "      <td>International</td>\n",
       "      <td>2020-02-25</td>\n",
       "      <td>691.0</td>\n",
       "      <td>0.0</td>\n",
       "      <td>3.0</td>\n",
       "      <td>0.0</td>\n",
       "      <td>NaN</td>\n",
       "      <td>NaN</td>\n",
       "      <td>...</td>\n",
       "      <td>NaN</td>\n",
       "      <td>NaN</td>\n",
       "      <td>NaN</td>\n",
       "      <td>NaN</td>\n",
       "      <td>NaN</td>\n",
       "      <td>NaN</td>\n",
       "      <td>NaN</td>\n",
       "      <td>NaN</td>\n",
       "      <td>NaN</td>\n",
       "      <td>NaN</td>\n",
       "    </tr>\n",
       "    <tr>\n",
       "      <td>33410</td>\n",
       "      <td>NaN</td>\n",
       "      <td>NaN</td>\n",
       "      <td>International</td>\n",
       "      <td>2020-02-26</td>\n",
       "      <td>691.0</td>\n",
       "      <td>0.0</td>\n",
       "      <td>4.0</td>\n",
       "      <td>1.0</td>\n",
       "      <td>NaN</td>\n",
       "      <td>NaN</td>\n",
       "      <td>...</td>\n",
       "      <td>NaN</td>\n",
       "      <td>NaN</td>\n",
       "      <td>NaN</td>\n",
       "      <td>NaN</td>\n",
       "      <td>NaN</td>\n",
       "      <td>NaN</td>\n",
       "      <td>NaN</td>\n",
       "      <td>NaN</td>\n",
       "      <td>NaN</td>\n",
       "      <td>NaN</td>\n",
       "    </tr>\n",
       "    <tr>\n",
       "      <td>33411</td>\n",
       "      <td>NaN</td>\n",
       "      <td>NaN</td>\n",
       "      <td>International</td>\n",
       "      <td>2020-02-27</td>\n",
       "      <td>705.0</td>\n",
       "      <td>14.0</td>\n",
       "      <td>4.0</td>\n",
       "      <td>0.0</td>\n",
       "      <td>NaN</td>\n",
       "      <td>NaN</td>\n",
       "      <td>...</td>\n",
       "      <td>NaN</td>\n",
       "      <td>NaN</td>\n",
       "      <td>NaN</td>\n",
       "      <td>NaN</td>\n",
       "      <td>NaN</td>\n",
       "      <td>NaN</td>\n",
       "      <td>NaN</td>\n",
       "      <td>NaN</td>\n",
       "      <td>NaN</td>\n",
       "      <td>NaN</td>\n",
       "    </tr>\n",
       "    <tr>\n",
       "      <td>33412</td>\n",
       "      <td>NaN</td>\n",
       "      <td>NaN</td>\n",
       "      <td>International</td>\n",
       "      <td>2020-02-28</td>\n",
       "      <td>705.0</td>\n",
       "      <td>0.0</td>\n",
       "      <td>4.0</td>\n",
       "      <td>0.0</td>\n",
       "      <td>NaN</td>\n",
       "      <td>NaN</td>\n",
       "      <td>...</td>\n",
       "      <td>NaN</td>\n",
       "      <td>NaN</td>\n",
       "      <td>NaN</td>\n",
       "      <td>NaN</td>\n",
       "      <td>NaN</td>\n",
       "      <td>NaN</td>\n",
       "      <td>NaN</td>\n",
       "      <td>NaN</td>\n",
       "      <td>NaN</td>\n",
       "      <td>NaN</td>\n",
       "    </tr>\n",
       "    <tr>\n",
       "      <td>33413</td>\n",
       "      <td>NaN</td>\n",
       "      <td>NaN</td>\n",
       "      <td>International</td>\n",
       "      <td>2020-02-29</td>\n",
       "      <td>705.0</td>\n",
       "      <td>0.0</td>\n",
       "      <td>6.0</td>\n",
       "      <td>2.0</td>\n",
       "      <td>NaN</td>\n",
       "      <td>NaN</td>\n",
       "      <td>...</td>\n",
       "      <td>NaN</td>\n",
       "      <td>NaN</td>\n",
       "      <td>NaN</td>\n",
       "      <td>NaN</td>\n",
       "      <td>NaN</td>\n",
       "      <td>NaN</td>\n",
       "      <td>NaN</td>\n",
       "      <td>NaN</td>\n",
       "      <td>NaN</td>\n",
       "      <td>NaN</td>\n",
       "    </tr>\n",
       "    <tr>\n",
       "      <td>33414</td>\n",
       "      <td>NaN</td>\n",
       "      <td>NaN</td>\n",
       "      <td>International</td>\n",
       "      <td>2020-03-01</td>\n",
       "      <td>705.0</td>\n",
       "      <td>0.0</td>\n",
       "      <td>6.0</td>\n",
       "      <td>0.0</td>\n",
       "      <td>NaN</td>\n",
       "      <td>NaN</td>\n",
       "      <td>...</td>\n",
       "      <td>NaN</td>\n",
       "      <td>NaN</td>\n",
       "      <td>NaN</td>\n",
       "      <td>NaN</td>\n",
       "      <td>NaN</td>\n",
       "      <td>NaN</td>\n",
       "      <td>NaN</td>\n",
       "      <td>NaN</td>\n",
       "      <td>NaN</td>\n",
       "      <td>NaN</td>\n",
       "    </tr>\n",
       "    <tr>\n",
       "      <td>33415</td>\n",
       "      <td>NaN</td>\n",
       "      <td>NaN</td>\n",
       "      <td>International</td>\n",
       "      <td>2020-03-02</td>\n",
       "      <td>705.0</td>\n",
       "      <td>0.0</td>\n",
       "      <td>6.0</td>\n",
       "      <td>0.0</td>\n",
       "      <td>NaN</td>\n",
       "      <td>NaN</td>\n",
       "      <td>...</td>\n",
       "      <td>NaN</td>\n",
       "      <td>NaN</td>\n",
       "      <td>NaN</td>\n",
       "      <td>NaN</td>\n",
       "      <td>NaN</td>\n",
       "      <td>NaN</td>\n",
       "      <td>NaN</td>\n",
       "      <td>NaN</td>\n",
       "      <td>NaN</td>\n",
       "      <td>NaN</td>\n",
       "    </tr>\n",
       "    <tr>\n",
       "      <td>33416</td>\n",
       "      <td>NaN</td>\n",
       "      <td>NaN</td>\n",
       "      <td>International</td>\n",
       "      <td>2020-03-10</td>\n",
       "      <td>696.0</td>\n",
       "      <td>-9.0</td>\n",
       "      <td>7.0</td>\n",
       "      <td>1.0</td>\n",
       "      <td>NaN</td>\n",
       "      <td>NaN</td>\n",
       "      <td>...</td>\n",
       "      <td>NaN</td>\n",
       "      <td>NaN</td>\n",
       "      <td>NaN</td>\n",
       "      <td>NaN</td>\n",
       "      <td>NaN</td>\n",
       "      <td>NaN</td>\n",
       "      <td>NaN</td>\n",
       "      <td>NaN</td>\n",
       "      <td>NaN</td>\n",
       "      <td>NaN</td>\n",
       "    </tr>\n",
       "  </tbody>\n",
       "</table>\n",
       "<p>10 rows × 34 columns</p>\n",
       "</div>"
      ],
      "text/plain": [
       "      iso_code continent       location        date  total_cases  new_cases  \\\n",
       "33407      NaN       NaN  International  2020-02-23        634.0        0.0   \n",
       "33408      NaN       NaN  International  2020-02-24        691.0       57.0   \n",
       "33409      NaN       NaN  International  2020-02-25        691.0        0.0   \n",
       "33410      NaN       NaN  International  2020-02-26        691.0        0.0   \n",
       "33411      NaN       NaN  International  2020-02-27        705.0       14.0   \n",
       "33412      NaN       NaN  International  2020-02-28        705.0        0.0   \n",
       "33413      NaN       NaN  International  2020-02-29        705.0        0.0   \n",
       "33414      NaN       NaN  International  2020-03-01        705.0        0.0   \n",
       "33415      NaN       NaN  International  2020-03-02        705.0        0.0   \n",
       "33416      NaN       NaN  International  2020-03-10        696.0       -9.0   \n",
       "\n",
       "       total_deaths  new_deaths  total_cases_per_million  \\\n",
       "33407           2.0         0.0                      NaN   \n",
       "33408           3.0         1.0                      NaN   \n",
       "33409           3.0         0.0                      NaN   \n",
       "33410           4.0         1.0                      NaN   \n",
       "33411           4.0         0.0                      NaN   \n",
       "33412           4.0         0.0                      NaN   \n",
       "33413           6.0         2.0                      NaN   \n",
       "33414           6.0         0.0                      NaN   \n",
       "33415           6.0         0.0                      NaN   \n",
       "33416           7.0         1.0                      NaN   \n",
       "\n",
       "       new_cases_per_million  ...  aged_70_older  gdp_per_capita  \\\n",
       "33407                    NaN  ...            NaN             NaN   \n",
       "33408                    NaN  ...            NaN             NaN   \n",
       "33409                    NaN  ...            NaN             NaN   \n",
       "33410                    NaN  ...            NaN             NaN   \n",
       "33411                    NaN  ...            NaN             NaN   \n",
       "33412                    NaN  ...            NaN             NaN   \n",
       "33413                    NaN  ...            NaN             NaN   \n",
       "33414                    NaN  ...            NaN             NaN   \n",
       "33415                    NaN  ...            NaN             NaN   \n",
       "33416                    NaN  ...            NaN             NaN   \n",
       "\n",
       "       extreme_poverty  cardiovasc_death_rate  diabetes_prevalence  \\\n",
       "33407              NaN                    NaN                  NaN   \n",
       "33408              NaN                    NaN                  NaN   \n",
       "33409              NaN                    NaN                  NaN   \n",
       "33410              NaN                    NaN                  NaN   \n",
       "33411              NaN                    NaN                  NaN   \n",
       "33412              NaN                    NaN                  NaN   \n",
       "33413              NaN                    NaN                  NaN   \n",
       "33414              NaN                    NaN                  NaN   \n",
       "33415              NaN                    NaN                  NaN   \n",
       "33416              NaN                    NaN                  NaN   \n",
       "\n",
       "       female_smokers  male_smokers  handwashing_facilities  \\\n",
       "33407             NaN           NaN                     NaN   \n",
       "33408             NaN           NaN                     NaN   \n",
       "33409             NaN           NaN                     NaN   \n",
       "33410             NaN           NaN                     NaN   \n",
       "33411             NaN           NaN                     NaN   \n",
       "33412             NaN           NaN                     NaN   \n",
       "33413             NaN           NaN                     NaN   \n",
       "33414             NaN           NaN                     NaN   \n",
       "33415             NaN           NaN                     NaN   \n",
       "33416             NaN           NaN                     NaN   \n",
       "\n",
       "      hospital_beds_per_thousand  life_expectancy  \n",
       "33407                        NaN              NaN  \n",
       "33408                        NaN              NaN  \n",
       "33409                        NaN              NaN  \n",
       "33410                        NaN              NaN  \n",
       "33411                        NaN              NaN  \n",
       "33412                        NaN              NaN  \n",
       "33413                        NaN              NaN  \n",
       "33414                        NaN              NaN  \n",
       "33415                        NaN              NaN  \n",
       "33416                        NaN              NaN  \n",
       "\n",
       "[10 rows x 34 columns]"
      ]
     },
     "execution_count": 4,
     "metadata": {},
     "output_type": "execute_result"
    }
   ],
   "source": [
    "df.tail(10)"
   ]
  },
  {
   "cell_type": "markdown",
   "metadata": {},
   "source": [
    "#### Looking at all the variables and their types"
   ]
  },
  {
   "cell_type": "code",
   "execution_count": 5,
   "metadata": {},
   "outputs": [
    {
     "name": "stdout",
     "output_type": "stream",
     "text": [
      "<class 'pandas.core.frame.DataFrame'>\n",
      "RangeIndex: 33417 entries, 0 to 33416\n",
      "Data columns (total 34 columns):\n",
      "iso_code                           33353 non-null object\n",
      "continent                          33141 non-null object\n",
      "location                           33417 non-null object\n",
      "date                               33417 non-null object\n",
      "total_cases                        33062 non-null float64\n",
      "new_cases                          33062 non-null float64\n",
      "total_deaths                       33062 non-null float64\n",
      "new_deaths                         33062 non-null float64\n",
      "total_cases_per_million            32998 non-null float64\n",
      "new_cases_per_million              32998 non-null float64\n",
      "total_deaths_per_million           32998 non-null float64\n",
      "new_deaths_per_million             32998 non-null float64\n",
      "new_tests                          10401 non-null float64\n",
      "total_tests                        10647 non-null float64\n",
      "total_tests_per_thousand           10647 non-null float64\n",
      "new_tests_per_thousand             10401 non-null float64\n",
      "new_tests_smoothed                 11520 non-null float64\n",
      "new_tests_smoothed_per_thousand    11520 non-null float64\n",
      "tests_units                        12288 non-null object\n",
      "stringency_index                   27130 non-null float64\n",
      "population                         33353 non-null float64\n",
      "population_density                 31910 non-null float64\n",
      "median_age                         30074 non-null float64\n",
      "aged_65_older                      29638 non-null float64\n",
      "aged_70_older                      29919 non-null float64\n",
      "gdp_per_capita                     29708 non-null float64\n",
      "extreme_poverty                    19865 non-null float64\n",
      "cardiovasc_death_rate              30083 non-null float64\n",
      "diabetes_prevalence                31104 non-null float64\n",
      "female_smokers                     23877 non-null float64\n",
      "male_smokers                       23591 non-null float64\n",
      "handwashing_facilities             13764 non-null float64\n",
      "hospital_beds_per_thousand         27353 non-null float64\n",
      "life_expectancy                    32951 non-null float64\n",
      "dtypes: float64(29), object(5)\n",
      "memory usage: 8.7+ MB\n"
     ]
    }
   ],
   "source": [
    "df.info()"
   ]
  },
  {
   "cell_type": "markdown",
   "metadata": {},
   "source": [
    "There are 33417 observations and 34 columns where 5 variables are of categorical data type and the remaining 29 variables are of numerical data types\n",
    "\n",
    "#### The following is a list of names of variables in this data set\n"
   ]
  },
  {
   "cell_type": "code",
   "execution_count": 6,
   "metadata": {},
   "outputs": [
    {
     "data": {
      "text/plain": [
       "Index(['iso_code', 'continent', 'location', 'date', 'total_cases', 'new_cases',\n",
       "       'total_deaths', 'new_deaths', 'total_cases_per_million',\n",
       "       'new_cases_per_million', 'total_deaths_per_million',\n",
       "       'new_deaths_per_million', 'new_tests', 'total_tests',\n",
       "       'total_tests_per_thousand', 'new_tests_per_thousand',\n",
       "       'new_tests_smoothed', 'new_tests_smoothed_per_thousand', 'tests_units',\n",
       "       'stringency_index', 'population', 'population_density', 'median_age',\n",
       "       'aged_65_older', 'aged_70_older', 'gdp_per_capita', 'extreme_poverty',\n",
       "       'cardiovasc_death_rate', 'diabetes_prevalence', 'female_smokers',\n",
       "       'male_smokers', 'handwashing_facilities', 'hospital_beds_per_thousand',\n",
       "       'life_expectancy'],\n",
       "      dtype='object')"
      ]
     },
     "execution_count": 6,
     "metadata": {},
     "output_type": "execute_result"
    }
   ],
   "source": [
    "df.columns"
   ]
  },
  {
   "cell_type": "markdown",
   "metadata": {},
   "source": [
    "#### Converting data types"
   ]
  },
  {
   "cell_type": "code",
   "execution_count": 7,
   "metadata": {},
   "outputs": [],
   "source": [
    "df['date']= pd.to_datetime(df['date'])\n",
    "df['date'] = df['date'].map(dt.datetime.toordinal)"
   ]
  },
  {
   "cell_type": "markdown",
   "metadata": {},
   "source": [
    "#### Describing and Summarizing numerical or continuous variables"
   ]
  },
  {
   "cell_type": "code",
   "execution_count": 8,
   "metadata": {},
   "outputs": [
    {
     "data": {
      "text/html": [
       "<div>\n",
       "<style scoped>\n",
       "    .dataframe tbody tr th:only-of-type {\n",
       "        vertical-align: middle;\n",
       "    }\n",
       "\n",
       "    .dataframe tbody tr th {\n",
       "        vertical-align: top;\n",
       "    }\n",
       "\n",
       "    .dataframe thead th {\n",
       "        text-align: right;\n",
       "    }\n",
       "</style>\n",
       "<table border=\"1\" class=\"dataframe\">\n",
       "  <thead>\n",
       "    <tr style=\"text-align: right;\">\n",
       "      <th></th>\n",
       "      <th>date</th>\n",
       "      <th>total_cases</th>\n",
       "      <th>new_cases</th>\n",
       "      <th>total_deaths</th>\n",
       "      <th>new_deaths</th>\n",
       "      <th>total_cases_per_million</th>\n",
       "      <th>new_cases_per_million</th>\n",
       "      <th>total_deaths_per_million</th>\n",
       "      <th>new_deaths_per_million</th>\n",
       "      <th>new_tests</th>\n",
       "      <th>...</th>\n",
       "      <th>aged_70_older</th>\n",
       "      <th>gdp_per_capita</th>\n",
       "      <th>extreme_poverty</th>\n",
       "      <th>cardiovasc_death_rate</th>\n",
       "      <th>diabetes_prevalence</th>\n",
       "      <th>female_smokers</th>\n",
       "      <th>male_smokers</th>\n",
       "      <th>handwashing_facilities</th>\n",
       "      <th>hospital_beds_per_thousand</th>\n",
       "      <th>life_expectancy</th>\n",
       "    </tr>\n",
       "  </thead>\n",
       "  <tbody>\n",
       "    <tr>\n",
       "      <td>count</td>\n",
       "      <td>33417.000000</td>\n",
       "      <td>3.306200e+04</td>\n",
       "      <td>33062.000000</td>\n",
       "      <td>33062.000000</td>\n",
       "      <td>33062.00000</td>\n",
       "      <td>32998.000000</td>\n",
       "      <td>32998.000000</td>\n",
       "      <td>32998.000000</td>\n",
       "      <td>32998.000000</td>\n",
       "      <td>10401.000000</td>\n",
       "      <td>...</td>\n",
       "      <td>29919.000000</td>\n",
       "      <td>29708.000000</td>\n",
       "      <td>19865.000000</td>\n",
       "      <td>30083.000000</td>\n",
       "      <td>31104.000000</td>\n",
       "      <td>23877.000000</td>\n",
       "      <td>23591.000000</td>\n",
       "      <td>13764.000000</td>\n",
       "      <td>27353.000000</td>\n",
       "      <td>32951.000000</td>\n",
       "    </tr>\n",
       "    <tr>\n",
       "      <td>mean</td>\n",
       "      <td>737551.449741</td>\n",
       "      <td>5.091939e+04</td>\n",
       "      <td>1010.762809</td>\n",
       "      <td>2655.291634</td>\n",
       "      <td>39.93243</td>\n",
       "      <td>1103.657007</td>\n",
       "      <td>17.858746</td>\n",
       "      <td>40.909829</td>\n",
       "      <td>0.533204</td>\n",
       "      <td>16320.258341</td>\n",
       "      <td>...</td>\n",
       "      <td>5.990319</td>\n",
       "      <td>21546.066343</td>\n",
       "      <td>11.489011</td>\n",
       "      <td>249.517591</td>\n",
       "      <td>8.039533</td>\n",
       "      <td>10.990606</td>\n",
       "      <td>32.629508</td>\n",
       "      <td>53.246010</td>\n",
       "      <td>3.146980</td>\n",
       "      <td>74.244388</td>\n",
       "    </tr>\n",
       "    <tr>\n",
       "      <td>std</td>\n",
       "      <td>53.610095</td>\n",
       "      <td>5.180225e+05</td>\n",
       "      <td>9309.139517</td>\n",
       "      <td>25233.329557</td>\n",
       "      <td>347.73264</td>\n",
       "      <td>2674.940362</td>\n",
       "      <td>62.928423</td>\n",
       "      <td>123.250689</td>\n",
       "      <td>3.006846</td>\n",
       "      <td>59168.420750</td>\n",
       "      <td>...</td>\n",
       "      <td>4.362110</td>\n",
       "      <td>20697.420278</td>\n",
       "      <td>18.736936</td>\n",
       "      <td>117.957827</td>\n",
       "      <td>4.116805</td>\n",
       "      <td>10.504692</td>\n",
       "      <td>13.328649</td>\n",
       "      <td>31.456423</td>\n",
       "      <td>2.549325</td>\n",
       "      <td>7.316460</td>\n",
       "    </tr>\n",
       "    <tr>\n",
       "      <td>min</td>\n",
       "      <td>737424.000000</td>\n",
       "      <td>0.000000e+00</td>\n",
       "      <td>-29726.000000</td>\n",
       "      <td>0.000000</td>\n",
       "      <td>-1918.00000</td>\n",
       "      <td>0.000000</td>\n",
       "      <td>-437.881000</td>\n",
       "      <td>0.000000</td>\n",
       "      <td>-41.023000</td>\n",
       "      <td>-3743.000000</td>\n",
       "      <td>...</td>\n",
       "      <td>0.526000</td>\n",
       "      <td>661.240000</td>\n",
       "      <td>0.100000</td>\n",
       "      <td>79.370000</td>\n",
       "      <td>0.990000</td>\n",
       "      <td>0.100000</td>\n",
       "      <td>7.700000</td>\n",
       "      <td>1.188000</td>\n",
       "      <td>0.100000</td>\n",
       "      <td>53.280000</td>\n",
       "    </tr>\n",
       "    <tr>\n",
       "      <td>25%</td>\n",
       "      <td>737515.000000</td>\n",
       "      <td>2.100000e+01</td>\n",
       "      <td>0.000000</td>\n",
       "      <td>0.000000</td>\n",
       "      <td>0.00000</td>\n",
       "      <td>8.521500</td>\n",
       "      <td>0.000000</td>\n",
       "      <td>0.000000</td>\n",
       "      <td>0.000000</td>\n",
       "      <td>805.000000</td>\n",
       "      <td>...</td>\n",
       "      <td>2.162000</td>\n",
       "      <td>6171.884000</td>\n",
       "      <td>0.500000</td>\n",
       "      <td>153.493000</td>\n",
       "      <td>5.310000</td>\n",
       "      <td>1.900000</td>\n",
       "      <td>21.400000</td>\n",
       "      <td>22.863000</td>\n",
       "      <td>1.380000</td>\n",
       "      <td>70.390000</td>\n",
       "    </tr>\n",
       "    <tr>\n",
       "      <td>50%</td>\n",
       "      <td>737556.000000</td>\n",
       "      <td>4.460000e+02</td>\n",
       "      <td>5.000000</td>\n",
       "      <td>9.000000</td>\n",
       "      <td>0.00000</td>\n",
       "      <td>155.458000</td>\n",
       "      <td>0.773000</td>\n",
       "      <td>2.043000</td>\n",
       "      <td>0.000000</td>\n",
       "      <td>2766.000000</td>\n",
       "      <td>...</td>\n",
       "      <td>4.458000</td>\n",
       "      <td>15183.616000</td>\n",
       "      <td>1.700000</td>\n",
       "      <td>235.954000</td>\n",
       "      <td>7.110000</td>\n",
       "      <td>6.434000</td>\n",
       "      <td>31.400000</td>\n",
       "      <td>55.182000</td>\n",
       "      <td>2.540000</td>\n",
       "      <td>75.860000</td>\n",
       "    </tr>\n",
       "    <tr>\n",
       "      <td>75%</td>\n",
       "      <td>737596.000000</td>\n",
       "      <td>5.066500e+03</td>\n",
       "      <td>102.000000</td>\n",
       "      <td>107.000000</td>\n",
       "      <td>2.00000</td>\n",
       "      <td>936.628000</td>\n",
       "      <td>10.572000</td>\n",
       "      <td>21.692000</td>\n",
       "      <td>0.140000</td>\n",
       "      <td>9307.000000</td>\n",
       "      <td>...</td>\n",
       "      <td>9.720000</td>\n",
       "      <td>33132.320000</td>\n",
       "      <td>15.000000</td>\n",
       "      <td>318.949000</td>\n",
       "      <td>10.080000</td>\n",
       "      <td>19.600000</td>\n",
       "      <td>40.900000</td>\n",
       "      <td>83.741000</td>\n",
       "      <td>4.210000</td>\n",
       "      <td>80.100000</td>\n",
       "    </tr>\n",
       "    <tr>\n",
       "      <td>max</td>\n",
       "      <td>737635.000000</td>\n",
       "      <td>1.670892e+07</td>\n",
       "      <td>284710.000000</td>\n",
       "      <td>660123.000000</td>\n",
       "      <td>10512.00000</td>\n",
       "      <td>38138.741000</td>\n",
       "      <td>4944.376000</td>\n",
       "      <td>1237.551000</td>\n",
       "      <td>200.040000</td>\n",
       "      <td>929838.000000</td>\n",
       "      <td>...</td>\n",
       "      <td>18.493000</td>\n",
       "      <td>116935.600000</td>\n",
       "      <td>77.600000</td>\n",
       "      <td>724.417000</td>\n",
       "      <td>23.360000</td>\n",
       "      <td>44.000000</td>\n",
       "      <td>78.100000</td>\n",
       "      <td>98.999000</td>\n",
       "      <td>13.800000</td>\n",
       "      <td>86.750000</td>\n",
       "    </tr>\n",
       "  </tbody>\n",
       "</table>\n",
       "<p>8 rows × 30 columns</p>\n",
       "</div>"
      ],
      "text/plain": [
       "                date   total_cases      new_cases   total_deaths   new_deaths  \\\n",
       "count   33417.000000  3.306200e+04   33062.000000   33062.000000  33062.00000   \n",
       "mean   737551.449741  5.091939e+04    1010.762809    2655.291634     39.93243   \n",
       "std        53.610095  5.180225e+05    9309.139517   25233.329557    347.73264   \n",
       "min    737424.000000  0.000000e+00  -29726.000000       0.000000  -1918.00000   \n",
       "25%    737515.000000  2.100000e+01       0.000000       0.000000      0.00000   \n",
       "50%    737556.000000  4.460000e+02       5.000000       9.000000      0.00000   \n",
       "75%    737596.000000  5.066500e+03     102.000000     107.000000      2.00000   \n",
       "max    737635.000000  1.670892e+07  284710.000000  660123.000000  10512.00000   \n",
       "\n",
       "       total_cases_per_million  new_cases_per_million  \\\n",
       "count             32998.000000           32998.000000   \n",
       "mean               1103.657007              17.858746   \n",
       "std                2674.940362              62.928423   \n",
       "min                   0.000000            -437.881000   \n",
       "25%                   8.521500               0.000000   \n",
       "50%                 155.458000               0.773000   \n",
       "75%                 936.628000              10.572000   \n",
       "max               38138.741000            4944.376000   \n",
       "\n",
       "       total_deaths_per_million  new_deaths_per_million      new_tests  ...  \\\n",
       "count              32998.000000            32998.000000   10401.000000  ...   \n",
       "mean                  40.909829                0.533204   16320.258341  ...   \n",
       "std                  123.250689                3.006846   59168.420750  ...   \n",
       "min                    0.000000              -41.023000   -3743.000000  ...   \n",
       "25%                    0.000000                0.000000     805.000000  ...   \n",
       "50%                    2.043000                0.000000    2766.000000  ...   \n",
       "75%                   21.692000                0.140000    9307.000000  ...   \n",
       "max                 1237.551000              200.040000  929838.000000  ...   \n",
       "\n",
       "       aged_70_older  gdp_per_capita  extreme_poverty  cardiovasc_death_rate  \\\n",
       "count   29919.000000    29708.000000     19865.000000           30083.000000   \n",
       "mean        5.990319    21546.066343        11.489011             249.517591   \n",
       "std         4.362110    20697.420278        18.736936             117.957827   \n",
       "min         0.526000      661.240000         0.100000              79.370000   \n",
       "25%         2.162000     6171.884000         0.500000             153.493000   \n",
       "50%         4.458000    15183.616000         1.700000             235.954000   \n",
       "75%         9.720000    33132.320000        15.000000             318.949000   \n",
       "max        18.493000   116935.600000        77.600000             724.417000   \n",
       "\n",
       "       diabetes_prevalence  female_smokers  male_smokers  \\\n",
       "count         31104.000000    23877.000000  23591.000000   \n",
       "mean              8.039533       10.990606     32.629508   \n",
       "std               4.116805       10.504692     13.328649   \n",
       "min               0.990000        0.100000      7.700000   \n",
       "25%               5.310000        1.900000     21.400000   \n",
       "50%               7.110000        6.434000     31.400000   \n",
       "75%              10.080000       19.600000     40.900000   \n",
       "max              23.360000       44.000000     78.100000   \n",
       "\n",
       "       handwashing_facilities  hospital_beds_per_thousand  life_expectancy  \n",
       "count            13764.000000                27353.000000     32951.000000  \n",
       "mean                53.246010                    3.146980        74.244388  \n",
       "std                 31.456423                    2.549325         7.316460  \n",
       "min                  1.188000                    0.100000        53.280000  \n",
       "25%                 22.863000                    1.380000        70.390000  \n",
       "50%                 55.182000                    2.540000        75.860000  \n",
       "75%                 83.741000                    4.210000        80.100000  \n",
       "max                 98.999000                   13.800000        86.750000  \n",
       "\n",
       "[8 rows x 30 columns]"
      ]
     },
     "execution_count": 8,
     "metadata": {},
     "output_type": "execute_result"
    }
   ],
   "source": [
    "df.describe()"
   ]
  },
  {
   "cell_type": "markdown",
   "metadata": {},
   "source": [
    "### Feature Selection\n",
    "#### Dropping unnecessary and redundant numerical columns before analyzing data"
   ]
  },
  {
   "cell_type": "code",
   "execution_count": 9,
   "metadata": {},
   "outputs": [
    {
     "data": {
      "text/plain": [
       "iso_code                              64\n",
       "continent                            276\n",
       "location                               0\n",
       "date                                   0\n",
       "total_cases                          355\n",
       "new_cases                            355\n",
       "total_deaths                         355\n",
       "new_deaths                           355\n",
       "total_cases_per_million              419\n",
       "new_cases_per_million                419\n",
       "total_deaths_per_million             419\n",
       "new_deaths_per_million               419\n",
       "new_tests                          23016\n",
       "total_tests                        22770\n",
       "total_tests_per_thousand           22770\n",
       "new_tests_per_thousand             23016\n",
       "new_tests_smoothed                 21897\n",
       "new_tests_smoothed_per_thousand    21897\n",
       "tests_units                        21129\n",
       "stringency_index                    6287\n",
       "population                            64\n",
       "population_density                  1507\n",
       "median_age                          3343\n",
       "aged_65_older                       3779\n",
       "aged_70_older                       3498\n",
       "gdp_per_capita                      3709\n",
       "extreme_poverty                    13552\n",
       "cardiovasc_death_rate               3334\n",
       "diabetes_prevalence                 2313\n",
       "female_smokers                      9540\n",
       "male_smokers                        9826\n",
       "handwashing_facilities             19653\n",
       "hospital_beds_per_thousand          6064\n",
       "life_expectancy                      466\n",
       "dtype: int64"
      ]
     },
     "execution_count": 9,
     "metadata": {},
     "output_type": "execute_result"
    }
   ],
   "source": [
    "df.isna().sum()"
   ]
  },
  {
   "cell_type": "markdown",
   "metadata": {},
   "source": [
    "There are a total number of 33417 observations and the following variables have more than 60% of data as missing values. \n",
    "\n",
    "new_tests, total_tests, total_tests_per_thousand, new_tests_per_thousand, new_tests_smoothed, new_tests_smoothed_per_thousand, tests_units, \n",
    "\n",
    "and the variable \"handwashing_facilities\"  has 19653 close to 60% of data as missing values.\n",
    "\n",
    "Therefore, these variables should be removed in order to avoid any bias in modeling. The variable extreme_poverty is also having 40% of its values as missing values. However, we will try to consider this variable as it has less than 50% of its missing values. \n"
   ]
  },
  {
   "cell_type": "code",
   "execution_count": 10,
   "metadata": {},
   "outputs": [],
   "source": [
    "df.drop(['new_tests', 'total_tests', 'total_tests_per_thousand', 'new_tests_per_thousand', 'new_tests_smoothed', 'new_tests_smoothed_per_thousand', 'tests_units', 'handwashing_facilities'], axis = 1, inplace = True)"
   ]
  },
  {
   "cell_type": "markdown",
   "metadata": {},
   "source": [
    "The below mentioned variables should also be removed as these are conversions per million. We would prefer to use per million numbers in general compared to just numbers, however, there are more missing values in variables using per million as conversions. Therefore, we stick to the original variables.\n",
    "\n",
    "total_cases_per_million, new_cases_per_million, total_deaths_per_million, and new_deaths_per_million"
   ]
  },
  {
   "cell_type": "code",
   "execution_count": 11,
   "metadata": {},
   "outputs": [],
   "source": [
    "df.drop(['total_cases_per_million', 'new_cases_per_million', 'total_deaths_per_million', 'new_deaths_per_million'], axis = 1, inplace = True)"
   ]
  },
  {
   "cell_type": "markdown",
   "metadata": {},
   "source": [
    "Because Population Density is calculated using Population, we need to remove Population"
   ]
  },
  {
   "cell_type": "code",
   "execution_count": 12,
   "metadata": {},
   "outputs": [],
   "source": [
    "df.drop(['population'], axis = 1, inplace = True)"
   ]
  },
  {
   "cell_type": "markdown",
   "metadata": {},
   "source": [
    "#### Describing and Summarizing categorical variables"
   ]
  },
  {
   "cell_type": "code",
   "execution_count": 13,
   "metadata": {},
   "outputs": [
    {
     "data": {
      "text/html": [
       "<div>\n",
       "<style scoped>\n",
       "    .dataframe tbody tr th:only-of-type {\n",
       "        vertical-align: middle;\n",
       "    }\n",
       "\n",
       "    .dataframe tbody tr th {\n",
       "        vertical-align: top;\n",
       "    }\n",
       "\n",
       "    .dataframe thead th {\n",
       "        text-align: right;\n",
       "    }\n",
       "</style>\n",
       "<table border=\"1\" class=\"dataframe\">\n",
       "  <thead>\n",
       "    <tr style=\"text-align: right;\">\n",
       "      <th></th>\n",
       "      <th>iso_code</th>\n",
       "      <th>continent</th>\n",
       "      <th>location</th>\n",
       "    </tr>\n",
       "  </thead>\n",
       "  <tbody>\n",
       "    <tr>\n",
       "      <td>count</td>\n",
       "      <td>33353</td>\n",
       "      <td>33141</td>\n",
       "      <td>33417</td>\n",
       "    </tr>\n",
       "    <tr>\n",
       "      <td>unique</td>\n",
       "      <td>211</td>\n",
       "      <td>6</td>\n",
       "      <td>212</td>\n",
       "    </tr>\n",
       "    <tr>\n",
       "      <td>top</td>\n",
       "      <td>AUT</td>\n",
       "      <td>Europe</td>\n",
       "      <td>Japan</td>\n",
       "    </tr>\n",
       "    <tr>\n",
       "      <td>freq</td>\n",
       "      <td>212</td>\n",
       "      <td>9113</td>\n",
       "      <td>212</td>\n",
       "    </tr>\n",
       "  </tbody>\n",
       "</table>\n",
       "</div>"
      ],
      "text/plain": [
       "       iso_code continent location\n",
       "count     33353     33141    33417\n",
       "unique      211         6      212\n",
       "top         AUT    Europe    Japan\n",
       "freq        212      9113      212"
      ]
     },
     "execution_count": 13,
     "metadata": {},
     "output_type": "execute_result"
    }
   ],
   "source": [
    "df.describe(include = 'O')"
   ]
  },
  {
   "cell_type": "code",
   "execution_count": 14,
   "metadata": {},
   "outputs": [
    {
     "data": {
      "text/plain": [
       "0    Asia\n",
       "1    Asia\n",
       "2    Asia\n",
       "3    Asia\n",
       "4    Asia\n",
       "Name: continent, dtype: object"
      ]
     },
     "execution_count": 14,
     "metadata": {},
     "output_type": "execute_result"
    }
   ],
   "source": [
    "df[\"continent\"].head()"
   ]
  },
  {
   "cell_type": "code",
   "execution_count": 15,
   "metadata": {},
   "outputs": [
    {
     "data": {
      "text/plain": [
       "33412    NaN\n",
       "33413    NaN\n",
       "33414    NaN\n",
       "33415    NaN\n",
       "33416    NaN\n",
       "Name: continent, dtype: object"
      ]
     },
     "execution_count": 15,
     "metadata": {},
     "output_type": "execute_result"
    }
   ],
   "source": [
    "df[\"continent\"].tail()"
   ]
  },
  {
   "cell_type": "code",
   "execution_count": 16,
   "metadata": {},
   "outputs": [
    {
     "data": {
      "text/plain": [
       "33412    International\n",
       "33413    International\n",
       "33414    International\n",
       "33415    International\n",
       "33416    International\n",
       "Name: location, dtype: object"
      ]
     },
     "execution_count": 16,
     "metadata": {},
     "output_type": "execute_result"
    }
   ],
   "source": [
    "df[\"location\"].tail()"
   ]
  },
  {
   "cell_type": "code",
   "execution_count": 17,
   "metadata": {},
   "outputs": [
    {
     "data": {
      "text/plain": [
       "33412    NaN\n",
       "33413    NaN\n",
       "33414    NaN\n",
       "33415    NaN\n",
       "33416    NaN\n",
       "Name: iso_code, dtype: object"
      ]
     },
     "execution_count": 17,
     "metadata": {},
     "output_type": "execute_result"
    }
   ],
   "source": [
    "df[\"iso_code\"].tail()"
   ]
  },
  {
   "cell_type": "markdown",
   "metadata": {},
   "source": [
    "#### Drop specific rows\n",
    "\n",
    "Looking at the categorical variables. Some of the rows for iso_code has no values and corresponding continent also doesn't have any values. Also, the corresponding location has only \"International\" as the values. This means there is no way to track which location in these rows belongs to which continent and such. Therefore, we should remove these rows. There are only 64 such rows with no values in iso_code variables. Therefore, removing such a small data will not affect our model. "
   ]
  },
  {
   "cell_type": "code",
   "execution_count": 18,
   "metadata": {},
   "outputs": [],
   "source": [
    "df = df.dropna(how='all', subset=['iso_code'])"
   ]
  },
  {
   "cell_type": "markdown",
   "metadata": {},
   "source": [
    "#### Looking at shape of new dataset \n",
    "\n",
    "We now have 33353 observations instead of 33417 observations and 21 variables instead of 34 variables."
   ]
  },
  {
   "cell_type": "code",
   "execution_count": 19,
   "metadata": {},
   "outputs": [
    {
     "data": {
      "text/plain": [
       "(33353, 21)"
      ]
     },
     "execution_count": 19,
     "metadata": {},
     "output_type": "execute_result"
    }
   ],
   "source": [
    "df.shape"
   ]
  },
  {
   "cell_type": "markdown",
   "metadata": {},
   "source": [
    "All the names of variables in our current data set are listed below"
   ]
  },
  {
   "cell_type": "code",
   "execution_count": 20,
   "metadata": {},
   "outputs": [
    {
     "data": {
      "text/plain": [
       "Index(['iso_code', 'continent', 'location', 'date', 'total_cases', 'new_cases',\n",
       "       'total_deaths', 'new_deaths', 'stringency_index', 'population_density',\n",
       "       'median_age', 'aged_65_older', 'aged_70_older', 'gdp_per_capita',\n",
       "       'extreme_poverty', 'cardiovasc_death_rate', 'diabetes_prevalence',\n",
       "       'female_smokers', 'male_smokers', 'hospital_beds_per_thousand',\n",
       "       'life_expectancy'],\n",
       "      dtype='object')"
      ]
     },
     "execution_count": 20,
     "metadata": {},
     "output_type": "execute_result"
    }
   ],
   "source": [
    "df.columns"
   ]
  },
  {
   "cell_type": "markdown",
   "metadata": {},
   "source": [
    "## Graphical Exploratory Analysis"
   ]
  },
  {
   "cell_type": "markdown",
   "metadata": {},
   "source": [
    "Before we go deeper into the dataset, it is good to perform some graphical exploratory analysis as we can quickly see and find issues with the data"
   ]
  },
  {
   "cell_type": "code",
   "execution_count": 21,
   "metadata": {},
   "outputs": [
    {
     "data": {
      "text/plain": [
       "continent\n",
       "Africa           7479\n",
       "Asia             8274\n",
       "Europe           9113\n",
       "North America    5047\n",
       "Oceania          1253\n",
       "South America    1975\n",
       "dtype: int64"
      ]
     },
     "execution_count": 21,
     "metadata": {},
     "output_type": "execute_result"
    }
   ],
   "source": [
    "df.groupby('continent').size()"
   ]
  },
  {
   "cell_type": "code",
   "execution_count": 22,
   "metadata": {},
   "outputs": [
    {
     "data": {
      "text/plain": [
       "<AxesSubplot:xlabel='continent', ylabel='count'>"
      ]
     },
     "execution_count": 22,
     "metadata": {},
     "output_type": "execute_result"
    },
    {
     "data": {
      "image/png": "[encoded data removed]",
      "text/plain": [
       "<Figure size 432x288 with 1 Axes>"
      ]
     },
     "metadata": {
      "needs_background": "light"
     },
     "output_type": "display_data"
    }
   ],
   "source": [
    "sns.countplot(x='continent',data=df, palette=\"OrRd\")"
   ]
  },
  {
   "cell_type": "markdown",
   "metadata": {},
   "source": [
    "The above graph shows that Europe has majority of the cases"
   ]
  },
  {
   "cell_type": "code",
   "execution_count": 23,
   "metadata": {
    "scrolled": true
   },
   "outputs": [
    {
     "data": {
      "image/png": "[encoded data removed]",
      "text/plain": [
       "<Figure size 720x2160 with 1 Axes>"
      ]
     },
     "metadata": {
      "needs_background": "light"
     },
     "output_type": "display_data"
    }
   ],
   "source": [
    "plt.figure(figsize=(10,30))\n",
    "ax = sns.boxplot(x=\"continent\", y=\"total_deaths\", data=df, showfliers=False)"
   ]
  },
  {
   "cell_type": "markdown",
   "metadata": {},
   "source": [
    "Based on the above boxplots, the number of deaths are highest in Europe followed by South America, Africa, Asia, North America, and Oceans."
   ]
  },
  {
   "cell_type": "markdown",
   "metadata": {},
   "source": [
    "#### Let's explore the population density in these continents"
   ]
  },
  {
   "cell_type": "code",
   "execution_count": 24,
   "metadata": {},
   "outputs": [
    {
     "data": {
      "image/png": "[encoded data removed]",
      "text/plain": [
       "<Figure size 720x432 with 1 Axes>"
      ]
     },
     "metadata": {
      "needs_background": "light"
     },
     "output_type": "display_data"
    }
   ],
   "source": [
    "plt.figure(figsize=(10,6))\n",
    "ax = sns.boxplot(x=\"continent\", y=\"population_density\", data=df, showfliers=False)"
   ]
  },
  {
   "cell_type": "markdown",
   "metadata": {},
   "source": [
    "The above chart shows that the population density is highest in North America followed by Asia, Europe, Africa, Oceana, and last South America. Therefore, even though Europe seem to have highest number of deaths and North America among the least number of deaths, it is important to consider that North America has higher population density compared to Europe.  "
   ]
  },
  {
   "cell_type": "markdown",
   "metadata": {},
   "source": [
    "Therefore, by comparing the above two plots, it is surprising that South America has the more number of deaths among all as it has the lesser population density. There can be several factors affecting the death rate. But this is probably because people in South America are not taking as good of a precaution as some other continents.Also, it is important to note that North America has high population density and surprisngly, North America has one of the least number of deaths. This means that more precautions and other methods are in place at North America when compared to Europe to beat the COVID-19 situation."
   ]
  },
  {
   "cell_type": "markdown",
   "metadata": {},
   "source": [
    "#### Let's explore the number of cases by continent"
   ]
  },
  {
   "cell_type": "code",
   "execution_count": 25,
   "metadata": {},
   "outputs": [
    {
     "data": {
      "image/png": "[encoded data removed]",
      "text/plain": [
       "<Figure size 720x432 with 1 Axes>"
      ]
     },
     "metadata": {
      "needs_background": "light"
     },
     "output_type": "display_data"
    }
   ],
   "source": [
    "plt.figure(figsize=(10,6))\n",
    "ax = sns.boxplot(x=\"continent\", y=\"total_cases\", data=df, showfliers=False)"
   ]
  },
  {
   "cell_type": "markdown",
   "metadata": {},
   "source": [
    "Clearly, Europe and South America have the highest number of cases and so has highest number of deaths"
   ]
  },
  {
   "cell_type": "code",
   "execution_count": 26,
   "metadata": {},
   "outputs": [
    {
     "data": {
      "image/png": "[encoded data removed]",
      "text/plain": [
       "<Figure size 720x432 with 1 Axes>"
      ]
     },
     "metadata": {
      "needs_background": "light"
     },
     "output_type": "display_data"
    }
   ],
   "source": [
    "plt.figure(figsize=(10,6))\n",
    "ax = sns.boxplot(x=\"continent\", y=\"gdp_per_capita\", data=df, showfliers=False)"
   ]
  },
  {
   "cell_type": "markdown",
   "metadata": {},
   "source": [
    "Europe and Oceana are richest continents of all. Oceana has least population density and that's why less number of cases leading to lesser number of deaths. However, Europe on the other hand, is among the richest continents, ranks number third in population density and total number of cases, and still has the highest number of total deaths. So, it will be interesting to study Europe among all the continents and help them predict total number of deaths ahead of time. This will help Europe in managing the situation better to some extent. "
   ]
  },
  {
   "cell_type": "markdown",
   "metadata": {},
   "source": [
    "### Studying Europe"
   ]
  },
  {
   "cell_type": "code",
   "execution_count": 27,
   "metadata": {},
   "outputs": [
    {
     "data": {
      "text/html": [
       "<div>\n",
       "<style scoped>\n",
       "    .dataframe tbody tr th:only-of-type {\n",
       "        vertical-align: middle;\n",
       "    }\n",
       "\n",
       "    .dataframe tbody tr th {\n",
       "        vertical-align: top;\n",
       "    }\n",
       "\n",
       "    .dataframe thead th {\n",
       "        text-align: right;\n",
       "    }\n",
       "</style>\n",
       "<table border=\"1\" class=\"dataframe\">\n",
       "  <thead>\n",
       "    <tr style=\"text-align: right;\">\n",
       "      <th></th>\n",
       "      <th>iso_code</th>\n",
       "      <th>location</th>\n",
       "      <th>date</th>\n",
       "      <th>total_cases</th>\n",
       "      <th>new_cases</th>\n",
       "      <th>total_deaths</th>\n",
       "      <th>new_deaths</th>\n",
       "      <th>stringency_index</th>\n",
       "      <th>population_density</th>\n",
       "      <th>median_age</th>\n",
       "      <th>aged_65_older</th>\n",
       "      <th>aged_70_older</th>\n",
       "      <th>gdp_per_capita</th>\n",
       "      <th>extreme_poverty</th>\n",
       "      <th>cardiovasc_death_rate</th>\n",
       "      <th>diabetes_prevalence</th>\n",
       "      <th>female_smokers</th>\n",
       "      <th>male_smokers</th>\n",
       "      <th>hospital_beds_per_thousand</th>\n",
       "      <th>life_expectancy</th>\n",
       "    </tr>\n",
       "  </thead>\n",
       "  <tbody>\n",
       "    <tr>\n",
       "      <td>202</td>\n",
       "      <td>ALB</td>\n",
       "      <td>Albania</td>\n",
       "      <td>737493</td>\n",
       "      <td>2.0</td>\n",
       "      <td>2.0</td>\n",
       "      <td>0.0</td>\n",
       "      <td>0.0</td>\n",
       "      <td>36.11</td>\n",
       "      <td>104.871</td>\n",
       "      <td>38.0</td>\n",
       "      <td>13.188</td>\n",
       "      <td>8.643</td>\n",
       "      <td>11803.431</td>\n",
       "      <td>1.1</td>\n",
       "      <td>304.195</td>\n",
       "      <td>10.08</td>\n",
       "      <td>7.1</td>\n",
       "      <td>51.2</td>\n",
       "      <td>2.89</td>\n",
       "      <td>78.57</td>\n",
       "    </tr>\n",
       "    <tr>\n",
       "      <td>203</td>\n",
       "      <td>ALB</td>\n",
       "      <td>Albania</td>\n",
       "      <td>737494</td>\n",
       "      <td>6.0</td>\n",
       "      <td>4.0</td>\n",
       "      <td>0.0</td>\n",
       "      <td>0.0</td>\n",
       "      <td>41.67</td>\n",
       "      <td>104.871</td>\n",
       "      <td>38.0</td>\n",
       "      <td>13.188</td>\n",
       "      <td>8.643</td>\n",
       "      <td>11803.431</td>\n",
       "      <td>1.1</td>\n",
       "      <td>304.195</td>\n",
       "      <td>10.08</td>\n",
       "      <td>7.1</td>\n",
       "      <td>51.2</td>\n",
       "      <td>2.89</td>\n",
       "      <td>78.57</td>\n",
       "    </tr>\n",
       "    <tr>\n",
       "      <td>204</td>\n",
       "      <td>ALB</td>\n",
       "      <td>Albania</td>\n",
       "      <td>737495</td>\n",
       "      <td>10.0</td>\n",
       "      <td>4.0</td>\n",
       "      <td>0.0</td>\n",
       "      <td>0.0</td>\n",
       "      <td>51.85</td>\n",
       "      <td>104.871</td>\n",
       "      <td>38.0</td>\n",
       "      <td>13.188</td>\n",
       "      <td>8.643</td>\n",
       "      <td>11803.431</td>\n",
       "      <td>1.1</td>\n",
       "      <td>304.195</td>\n",
       "      <td>10.08</td>\n",
       "      <td>7.1</td>\n",
       "      <td>51.2</td>\n",
       "      <td>2.89</td>\n",
       "      <td>78.57</td>\n",
       "    </tr>\n",
       "    <tr>\n",
       "      <td>205</td>\n",
       "      <td>ALB</td>\n",
       "      <td>Albania</td>\n",
       "      <td>737496</td>\n",
       "      <td>11.0</td>\n",
       "      <td>1.0</td>\n",
       "      <td>1.0</td>\n",
       "      <td>1.0</td>\n",
       "      <td>51.85</td>\n",
       "      <td>104.871</td>\n",
       "      <td>38.0</td>\n",
       "      <td>13.188</td>\n",
       "      <td>8.643</td>\n",
       "      <td>11803.431</td>\n",
       "      <td>1.1</td>\n",
       "      <td>304.195</td>\n",
       "      <td>10.08</td>\n",
       "      <td>7.1</td>\n",
       "      <td>51.2</td>\n",
       "      <td>2.89</td>\n",
       "      <td>78.57</td>\n",
       "    </tr>\n",
       "    <tr>\n",
       "      <td>206</td>\n",
       "      <td>ALB</td>\n",
       "      <td>Albania</td>\n",
       "      <td>737497</td>\n",
       "      <td>23.0</td>\n",
       "      <td>12.0</td>\n",
       "      <td>1.0</td>\n",
       "      <td>0.0</td>\n",
       "      <td>78.70</td>\n",
       "      <td>104.871</td>\n",
       "      <td>38.0</td>\n",
       "      <td>13.188</td>\n",
       "      <td>8.643</td>\n",
       "      <td>11803.431</td>\n",
       "      <td>1.1</td>\n",
       "      <td>304.195</td>\n",
       "      <td>10.08</td>\n",
       "      <td>7.1</td>\n",
       "      <td>51.2</td>\n",
       "      <td>2.89</td>\n",
       "      <td>78.57</td>\n",
       "    </tr>\n",
       "  </tbody>\n",
       "</table>\n",
       "</div>"
      ],
      "text/plain": [
       "    iso_code location    date  total_cases  new_cases  total_deaths  \\\n",
       "202      ALB  Albania  737493          2.0        2.0           0.0   \n",
       "203      ALB  Albania  737494          6.0        4.0           0.0   \n",
       "204      ALB  Albania  737495         10.0        4.0           0.0   \n",
       "205      ALB  Albania  737496         11.0        1.0           1.0   \n",
       "206      ALB  Albania  737497         23.0       12.0           1.0   \n",
       "\n",
       "     new_deaths  stringency_index  population_density  median_age  \\\n",
       "202         0.0             36.11             104.871        38.0   \n",
       "203         0.0             41.67             104.871        38.0   \n",
       "204         0.0             51.85             104.871        38.0   \n",
       "205         1.0             51.85             104.871        38.0   \n",
       "206         0.0             78.70             104.871        38.0   \n",
       "\n",
       "     aged_65_older  aged_70_older  gdp_per_capita  extreme_poverty  \\\n",
       "202         13.188          8.643       11803.431              1.1   \n",
       "203         13.188          8.643       11803.431              1.1   \n",
       "204         13.188          8.643       11803.431              1.1   \n",
       "205         13.188          8.643       11803.431              1.1   \n",
       "206         13.188          8.643       11803.431              1.1   \n",
       "\n",
       "     cardiovasc_death_rate  diabetes_prevalence  female_smokers  male_smokers  \\\n",
       "202                304.195                10.08             7.1          51.2   \n",
       "203                304.195                10.08             7.1          51.2   \n",
       "204                304.195                10.08             7.1          51.2   \n",
       "205                304.195                10.08             7.1          51.2   \n",
       "206                304.195                10.08             7.1          51.2   \n",
       "\n",
       "     hospital_beds_per_thousand  life_expectancy  \n",
       "202                        2.89            78.57  \n",
       "203                        2.89            78.57  \n",
       "204                        2.89            78.57  \n",
       "205                        2.89            78.57  \n",
       "206                        2.89            78.57  "
      ]
     },
     "execution_count": 27,
     "metadata": {},
     "output_type": "execute_result"
    }
   ],
   "source": [
    "df = df[df['continent'] == \"Europe\"]\n",
    "df = df.drop(\"continent\", axis=1)\n",
    "\n",
    "df.head()"
   ]
  },
  {
   "cell_type": "code",
   "execution_count": 28,
   "metadata": {},
   "outputs": [
    {
     "data": {
      "text/plain": [
       "location\n",
       "Albania                   143\n",
       "Andorra                   138\n",
       "Austria                   212\n",
       "Belarus                   212\n",
       "Belgium                   212\n",
       "Bosnia and Herzegovina    139\n",
       "Bulgaria                  142\n",
       "Croatia                   212\n",
       "Cyprus                    140\n",
       "Czech Republic            212\n",
       "Denmark                   212\n",
       "Estonia                   212\n",
       "Faeroe Islands            146\n",
       "Finland                   212\n",
       "France                    212\n",
       "Germany                   212\n",
       "Gibraltar                 132\n",
       "Greece                    212\n",
       "Guernsey                  132\n",
       "Hungary                   148\n",
       "Iceland                   212\n",
       "Ireland                   210\n",
       "Isle of Man               131\n",
       "Italy                     212\n",
       "Jersey                    132\n",
       "Kosovo                    138\n",
       "Latvia                    152\n",
       "Liechtenstein             141\n",
       "Lithuania                 212\n",
       "Luxembourg                205\n",
       "Macedonia                 203\n",
       "Malta                     175\n",
       "Moldova                   142\n",
       "Monaco                    200\n",
       "Montenegro                134\n",
       "Netherlands               212\n",
       "Norway                    212\n",
       "Poland                    147\n",
       "Portugal                  151\n",
       "Romania                   210\n",
       "Russia                    212\n",
       "San Marino                211\n",
       "Serbia                    155\n",
       "Slovakia                  144\n",
       "Slovenia                  146\n",
       "Spain                     211\n",
       "Sweden                    212\n",
       "Switzerland               212\n",
       "Ukraine                   138\n",
       "United Kingdom            212\n",
       "Vatican                   137\n",
       "dtype: int64"
      ]
     },
     "execution_count": 28,
     "metadata": {},
     "output_type": "execute_result"
    }
   ],
   "source": [
    "df.groupby('location').size()"
   ]
  },
  {
   "cell_type": "code",
   "execution_count": 29,
   "metadata": {},
   "outputs": [
    {
     "data": {
      "text/plain": [
       "<AxesSubplot:xlabel='location', ylabel='count'>"
      ]
     },
     "execution_count": 29,
     "metadata": {},
     "output_type": "execute_result"
    },
    {
     "data": {
      "image/png": "[encoded data removed]",
      "text/plain": [
       "<Figure size 1440x288 with 1 Axes>"
      ]
     },
     "metadata": {
      "needs_background": "light"
     },
     "output_type": "display_data"
    }
   ],
   "source": [
    "plt.figure(figsize=(20,4))\n",
    "sns.countplot(x ='location',data=df, palette=\"OrRd\")"
   ]
  },
  {
   "cell_type": "code",
   "execution_count": 30,
   "metadata": {},
   "outputs": [
    {
     "name": "stderr",
     "output_type": "stream",
     "text": [
      "C:\\Users\\kamsi\\Anaconda3\\lib\\site-packages\\plotnine\\layer.py:360: PlotnineWarning: stat_bin : Removed 1289 rows containing non-finite values.\n",
      "  data = self.stat.compute_layer(data, params, layout)\n"
     ]
    },
    {
     "data": {
      "image/png": "[encoded data removed]",
      "text/plain": [
       "<Figure size 640x480 with 1 Axes>"
      ]
     },
     "metadata": {},
     "output_type": "display_data"
    },
    {
     "data": {
      "text/plain": [
       "<ggplot: (-9223371934671374004)>"
      ]
     },
     "execution_count": 30,
     "metadata": {},
     "output_type": "execute_result"
    }
   ],
   "source": [
    "(ggplot(df, aes(x='gdp_per_capita'))   \n",
    " + geom_histogram(bins=12,\n",
    "                 color =\"red\", \n",
    "                 fill =\"orange\")\n",
    " + labs(title=\"Histogram for gdp_per_capita\", x=\"gdp_per_capita\", y=\"Count\")\n",
    ")"
   ]
  },
  {
   "cell_type": "markdown",
   "metadata": {},
   "source": [
    "#### Median_Age"
   ]
  },
  {
   "cell_type": "code",
   "execution_count": 31,
   "metadata": {},
   "outputs": [
    {
     "name": "stderr",
     "output_type": "stream",
     "text": [
      "C:\\Users\\kamsi\\Anaconda3\\lib\\site-packages\\plotnine\\layer.py:360: PlotnineWarning: stat_bin : Removed 1638 rows containing non-finite values.\n",
      "  data = self.stat.compute_layer(data, params, layout)\n"
     ]
    },
    {
     "data": {
      "image/png": "[encoded data removed]",
      "text/plain": [
       "<Figure size 640x480 with 1 Axes>"
      ]
     },
     "metadata": {},
     "output_type": "display_data"
    },
    {
     "data": {
      "text/plain": [
       "<ggplot: (-9223371934671907528)>"
      ]
     },
     "execution_count": 31,
     "metadata": {},
     "output_type": "execute_result"
    }
   ],
   "source": [
    "(ggplot(df, aes(x='median_age'))   \n",
    " + geom_histogram(bins=12,\n",
    "                 color =\"red\", \n",
    "                 fill =\"orange\")\n",
    " + labs(title=\"Histogram for median_age\", x=\"median_age\", y=\"Count\")\n",
    ")"
   ]
  },
  {
   "cell_type": "code",
   "execution_count": 32,
   "metadata": {},
   "outputs": [
    {
     "data": {
      "text/plain": [
       "Text(0.5, 1.0, 'Total Number of Cases vs Total Deaths')"
      ]
     },
     "execution_count": 32,
     "metadata": {},
     "output_type": "execute_result"
    },
    {
     "data": {
      "image/png": "[encoded data removed]",
      "text/plain": [
       "<Figure size 432x288 with 1 Axes>"
      ]
     },
     "metadata": {
      "needs_background": "light"
     },
     "output_type": "display_data"
    }
   ],
   "source": [
    "plt.scatter(df['total_cases'], df['total_deaths'], alpha = 0.1)\n",
    "plt.xlabel(\"Total Number of Cases\")\n",
    "plt.ylabel(\"Total Deaths\")\n",
    "plt.title(\"Total Number of Cases vs Total Deaths\")"
   ]
  },
  {
   "cell_type": "code",
   "execution_count": 33,
   "metadata": {},
   "outputs": [
    {
     "name": "stderr",
     "output_type": "stream",
     "text": [
      "C:\\Users\\kamsi\\Anaconda3\\lib\\site-packages\\pandas\\plotting\\_matplotlib\\tools.py:307: MatplotlibDeprecationWarning: \n",
      "The rowNum attribute was deprecated in Matplotlib 3.2 and will be removed two minor releases later. Use ax.get_subplotspec().rowspan.start instead.\n",
      "  layout[ax.rowNum, ax.colNum] = ax.get_visible()\n",
      "C:\\Users\\kamsi\\Anaconda3\\lib\\site-packages\\pandas\\plotting\\_matplotlib\\tools.py:307: MatplotlibDeprecationWarning: \n",
      "The colNum attribute was deprecated in Matplotlib 3.2 and will be removed two minor releases later. Use ax.get_subplotspec().colspan.start instead.\n",
      "  layout[ax.rowNum, ax.colNum] = ax.get_visible()\n",
      "C:\\Users\\kamsi\\Anaconda3\\lib\\site-packages\\pandas\\plotting\\_matplotlib\\tools.py:313: MatplotlibDeprecationWarning: \n",
      "The rowNum attribute was deprecated in Matplotlib 3.2 and will be removed two minor releases later. Use ax.get_subplotspec().rowspan.start instead.\n",
      "  if not layout[ax.rowNum + 1, ax.colNum]:\n",
      "C:\\Users\\kamsi\\Anaconda3\\lib\\site-packages\\pandas\\plotting\\_matplotlib\\tools.py:313: MatplotlibDeprecationWarning: \n",
      "The colNum attribute was deprecated in Matplotlib 3.2 and will be removed two minor releases later. Use ax.get_subplotspec().colspan.start instead.\n",
      "  if not layout[ax.rowNum + 1, ax.colNum]:\n"
     ]
    },
    {
     "data": {
      "image/png": "[encoded data removed]",
      "text/plain": [
       "<Figure size 1440x1080 with 20 Axes>"
      ]
     },
     "metadata": {
      "needs_background": "light"
     },
     "output_type": "display_data"
    }
   ],
   "source": [
    "df.hist(bins = 50, figsize = (20,15))\n",
    "plt.show()"
   ]
  },
  {
   "cell_type": "code",
   "execution_count": 34,
   "metadata": {},
   "outputs": [
    {
     "name": "stdout",
     "output_type": "stream",
     "text": [
      "0.0        2651\n",
      "1.0         269\n",
      "9.0         142\n",
      "5.0         136\n",
      "10.0        125\n",
      "           ... \n",
      "28413.0       1\n",
      "16879.0       1\n",
      "44650.0       1\n",
      "2182.0        1\n",
      "1693.0        1\n",
      "Name: total_deaths, Length: 1973, dtype: int64\n"
     ]
    }
   ],
   "source": [
    "# Taking a look at the outcome variable: 'total_deaths'\n",
    "print(df['total_deaths'].value_counts())"
   ]
  },
  {
   "cell_type": "markdown",
   "metadata": {},
   "source": [
    "## Convert Categorical Columns to Numerical"
   ]
  },
  {
   "cell_type": "markdown",
   "metadata": {},
   "source": [
    "### Get Dummy Variables"
   ]
  },
  {
   "cell_type": "code",
   "execution_count": 35,
   "metadata": {},
   "outputs": [],
   "source": [
    "df = pd.get_dummies(df, columns = ['iso_code', 'location'], drop_first = True)"
   ]
  },
  {
   "cell_type": "markdown",
   "metadata": {},
   "source": [
    "## Statistical Exploratory Analysis"
   ]
  },
  {
   "cell_type": "markdown",
   "metadata": {},
   "source": [
    "### Describe Numeric Columns"
   ]
  },
  {
   "cell_type": "code",
   "execution_count": 36,
   "metadata": {},
   "outputs": [
    {
     "data": {
      "text/html": [
       "<div>\n",
       "<style scoped>\n",
       "    .dataframe tbody tr th:only-of-type {\n",
       "        vertical-align: middle;\n",
       "    }\n",
       "\n",
       "    .dataframe tbody tr th {\n",
       "        vertical-align: top;\n",
       "    }\n",
       "\n",
       "    .dataframe thead th {\n",
       "        text-align: right;\n",
       "    }\n",
       "</style>\n",
       "<table border=\"1\" class=\"dataframe\">\n",
       "  <thead>\n",
       "    <tr style=\"text-align: right;\">\n",
       "      <th></th>\n",
       "      <th>date</th>\n",
       "      <th>total_cases</th>\n",
       "      <th>new_cases</th>\n",
       "      <th>total_deaths</th>\n",
       "      <th>new_deaths</th>\n",
       "      <th>stringency_index</th>\n",
       "      <th>population_density</th>\n",
       "      <th>median_age</th>\n",
       "      <th>aged_65_older</th>\n",
       "      <th>aged_70_older</th>\n",
       "      <th>...</th>\n",
       "      <th>location_San Marino</th>\n",
       "      <th>location_Serbia</th>\n",
       "      <th>location_Slovakia</th>\n",
       "      <th>location_Slovenia</th>\n",
       "      <th>location_Spain</th>\n",
       "      <th>location_Sweden</th>\n",
       "      <th>location_Switzerland</th>\n",
       "      <th>location_Ukraine</th>\n",
       "      <th>location_United Kingdom</th>\n",
       "      <th>location_Vatican</th>\n",
       "    </tr>\n",
       "  </thead>\n",
       "  <tbody>\n",
       "    <tr>\n",
       "      <td>count</td>\n",
       "      <td>9113.000000</td>\n",
       "      <td>9027.000000</td>\n",
       "      <td>9027.000000</td>\n",
       "      <td>9027.000000</td>\n",
       "      <td>9027.000000</td>\n",
       "      <td>7207.000000</td>\n",
       "      <td>8712.000000</td>\n",
       "      <td>7475.000000</td>\n",
       "      <td>7475.000000</td>\n",
       "      <td>7320.000000</td>\n",
       "      <td>...</td>\n",
       "      <td>9113.000000</td>\n",
       "      <td>9113.000000</td>\n",
       "      <td>9113.000000</td>\n",
       "      <td>9113.000000</td>\n",
       "      <td>9113.000000</td>\n",
       "      <td>9113.000000</td>\n",
       "      <td>9113.000000</td>\n",
       "      <td>9113.000000</td>\n",
       "      <td>9113.000000</td>\n",
       "      <td>9113.000000</td>\n",
       "    </tr>\n",
       "    <tr>\n",
       "      <td>mean</td>\n",
       "      <td>737542.532536</td>\n",
       "      <td>24474.764374</td>\n",
       "      <td>307.505262</td>\n",
       "      <td>2088.278609</td>\n",
       "      <td>22.369669</td>\n",
       "      <td>47.684135</td>\n",
       "      <td>650.715591</td>\n",
       "      <td>42.144187</td>\n",
       "      <td>17.862396</td>\n",
       "      <td>11.895578</td>\n",
       "      <td>...</td>\n",
       "      <td>0.023154</td>\n",
       "      <td>0.017009</td>\n",
       "      <td>0.015802</td>\n",
       "      <td>0.016021</td>\n",
       "      <td>0.023154</td>\n",
       "      <td>0.023263</td>\n",
       "      <td>0.023263</td>\n",
       "      <td>0.015143</td>\n",
       "      <td>0.023263</td>\n",
       "      <td>0.015033</td>\n",
       "    </tr>\n",
       "    <tr>\n",
       "      <td>std</td>\n",
       "      <td>57.229586</td>\n",
       "      <td>73462.064768</td>\n",
       "      <td>1138.343507</td>\n",
       "      <td>6821.101474</td>\n",
       "      <td>101.066729</td>\n",
       "      <td>30.470777</td>\n",
       "      <td>2902.621269</td>\n",
       "      <td>2.555188</td>\n",
       "      <td>2.734599</td>\n",
       "      <td>2.198739</td>\n",
       "      <td>...</td>\n",
       "      <td>0.150400</td>\n",
       "      <td>0.129311</td>\n",
       "      <td>0.124714</td>\n",
       "      <td>0.125563</td>\n",
       "      <td>0.150400</td>\n",
       "      <td>0.150747</td>\n",
       "      <td>0.150747</td>\n",
       "      <td>0.122129</td>\n",
       "      <td>0.150747</td>\n",
       "      <td>0.121693</td>\n",
       "    </tr>\n",
       "    <tr>\n",
       "      <td>min</td>\n",
       "      <td>737424.000000</td>\n",
       "      <td>0.000000</td>\n",
       "      <td>-29726.000000</td>\n",
       "      <td>0.000000</td>\n",
       "      <td>-1918.000000</td>\n",
       "      <td>0.000000</td>\n",
       "      <td>3.404000</td>\n",
       "      <td>37.300000</td>\n",
       "      <td>10.864000</td>\n",
       "      <td>6.955000</td>\n",
       "      <td>...</td>\n",
       "      <td>0.000000</td>\n",
       "      <td>0.000000</td>\n",
       "      <td>0.000000</td>\n",
       "      <td>0.000000</td>\n",
       "      <td>0.000000</td>\n",
       "      <td>0.000000</td>\n",
       "      <td>0.000000</td>\n",
       "      <td>0.000000</td>\n",
       "      <td>0.000000</td>\n",
       "      <td>0.000000</td>\n",
       "    </tr>\n",
       "    <tr>\n",
       "      <td>25%</td>\n",
       "      <td>737501.000000</td>\n",
       "      <td>70.000000</td>\n",
       "      <td>0.000000</td>\n",
       "      <td>0.000000</td>\n",
       "      <td>0.000000</td>\n",
       "      <td>19.440000</td>\n",
       "      <td>65.180000</td>\n",
       "      <td>40.300000</td>\n",
       "      <td>15.070000</td>\n",
       "      <td>9.842000</td>\n",
       "      <td>...</td>\n",
       "      <td>0.000000</td>\n",
       "      <td>0.000000</td>\n",
       "      <td>0.000000</td>\n",
       "      <td>0.000000</td>\n",
       "      <td>0.000000</td>\n",
       "      <td>0.000000</td>\n",
       "      <td>0.000000</td>\n",
       "      <td>0.000000</td>\n",
       "      <td>0.000000</td>\n",
       "      <td>0.000000</td>\n",
       "    </tr>\n",
       "    <tr>\n",
       "      <td>50%</td>\n",
       "      <td>737546.000000</td>\n",
       "      <td>1097.000000</td>\n",
       "      <td>11.000000</td>\n",
       "      <td>29.000000</td>\n",
       "      <td>0.000000</td>\n",
       "      <td>51.850000</td>\n",
       "      <td>106.749000</td>\n",
       "      <td>42.400000</td>\n",
       "      <td>18.577000</td>\n",
       "      <td>12.325000</td>\n",
       "      <td>...</td>\n",
       "      <td>0.000000</td>\n",
       "      <td>0.000000</td>\n",
       "      <td>0.000000</td>\n",
       "      <td>0.000000</td>\n",
       "      <td>0.000000</td>\n",
       "      <td>0.000000</td>\n",
       "      <td>0.000000</td>\n",
       "      <td>0.000000</td>\n",
       "      <td>0.000000</td>\n",
       "      <td>0.000000</td>\n",
       "    </tr>\n",
       "    <tr>\n",
       "      <td>75%</td>\n",
       "      <td>737591.000000</td>\n",
       "      <td>9861.000000</td>\n",
       "      <td>132.000000</td>\n",
       "      <td>329.000000</td>\n",
       "      <td>4.000000</td>\n",
       "      <td>74.070000</td>\n",
       "      <td>205.859000</td>\n",
       "      <td>43.500000</td>\n",
       "      <td>19.718000</td>\n",
       "      <td>13.433000</td>\n",
       "      <td>...</td>\n",
       "      <td>0.000000</td>\n",
       "      <td>0.000000</td>\n",
       "      <td>0.000000</td>\n",
       "      <td>0.000000</td>\n",
       "      <td>0.000000</td>\n",
       "      <td>0.000000</td>\n",
       "      <td>0.000000</td>\n",
       "      <td>0.000000</td>\n",
       "      <td>0.000000</td>\n",
       "      <td>0.000000</td>\n",
       "    </tr>\n",
       "    <tr>\n",
       "      <td>max</td>\n",
       "      <td>737635.000000</td>\n",
       "      <td>823515.000000</td>\n",
       "      <td>12640.000000</td>\n",
       "      <td>45878.000000</td>\n",
       "      <td>2004.000000</td>\n",
       "      <td>100.000000</td>\n",
       "      <td>19347.500000</td>\n",
       "      <td>47.900000</td>\n",
       "      <td>23.021000</td>\n",
       "      <td>16.240000</td>\n",
       "      <td>...</td>\n",
       "      <td>1.000000</td>\n",
       "      <td>1.000000</td>\n",
       "      <td>1.000000</td>\n",
       "      <td>1.000000</td>\n",
       "      <td>1.000000</td>\n",
       "      <td>1.000000</td>\n",
       "      <td>1.000000</td>\n",
       "      <td>1.000000</td>\n",
       "      <td>1.000000</td>\n",
       "      <td>1.000000</td>\n",
       "    </tr>\n",
       "  </tbody>\n",
       "</table>\n",
       "<p>8 rows × 118 columns</p>\n",
       "</div>"
      ],
      "text/plain": [
       "                date    total_cases     new_cases  total_deaths   new_deaths  \\\n",
       "count    9113.000000    9027.000000   9027.000000   9027.000000  9027.000000   \n",
       "mean   737542.532536   24474.764374    307.505262   2088.278609    22.369669   \n",
       "std        57.229586   73462.064768   1138.343507   6821.101474   101.066729   \n",
       "min    737424.000000       0.000000 -29726.000000      0.000000 -1918.000000   \n",
       "25%    737501.000000      70.000000      0.000000      0.000000     0.000000   \n",
       "50%    737546.000000    1097.000000     11.000000     29.000000     0.000000   \n",
       "75%    737591.000000    9861.000000    132.000000    329.000000     4.000000   \n",
       "max    737635.000000  823515.000000  12640.000000  45878.000000  2004.000000   \n",
       "\n",
       "       stringency_index  population_density   median_age  aged_65_older  \\\n",
       "count       7207.000000         8712.000000  7475.000000    7475.000000   \n",
       "mean          47.684135          650.715591    42.144187      17.862396   \n",
       "std           30.470777         2902.621269     2.555188       2.734599   \n",
       "min            0.000000            3.404000    37.300000      10.864000   \n",
       "25%           19.440000           65.180000    40.300000      15.070000   \n",
       "50%           51.850000          106.749000    42.400000      18.577000   \n",
       "75%           74.070000          205.859000    43.500000      19.718000   \n",
       "max          100.000000        19347.500000    47.900000      23.021000   \n",
       "\n",
       "       aged_70_older  ...  location_San Marino  location_Serbia  \\\n",
       "count    7320.000000  ...          9113.000000      9113.000000   \n",
       "mean       11.895578  ...             0.023154         0.017009   \n",
       "std         2.198739  ...             0.150400         0.129311   \n",
       "min         6.955000  ...             0.000000         0.000000   \n",
       "25%         9.842000  ...             0.000000         0.000000   \n",
       "50%        12.325000  ...             0.000000         0.000000   \n",
       "75%        13.433000  ...             0.000000         0.000000   \n",
       "max        16.240000  ...             1.000000         1.000000   \n",
       "\n",
       "       location_Slovakia  location_Slovenia  location_Spain  location_Sweden  \\\n",
       "count        9113.000000        9113.000000     9113.000000      9113.000000   \n",
       "mean            0.015802           0.016021        0.023154         0.023263   \n",
       "std             0.124714           0.125563        0.150400         0.150747   \n",
       "min             0.000000           0.000000        0.000000         0.000000   \n",
       "25%             0.000000           0.000000        0.000000         0.000000   \n",
       "50%             0.000000           0.000000        0.000000         0.000000   \n",
       "75%             0.000000           0.000000        0.000000         0.000000   \n",
       "max             1.000000           1.000000        1.000000         1.000000   \n",
       "\n",
       "       location_Switzerland  location_Ukraine  location_United Kingdom  \\\n",
       "count           9113.000000       9113.000000              9113.000000   \n",
       "mean               0.023263          0.015143                 0.023263   \n",
       "std                0.150747          0.122129                 0.150747   \n",
       "min                0.000000          0.000000                 0.000000   \n",
       "25%                0.000000          0.000000                 0.000000   \n",
       "50%                0.000000          0.000000                 0.000000   \n",
       "75%                0.000000          0.000000                 0.000000   \n",
       "max                1.000000          1.000000                 1.000000   \n",
       "\n",
       "       location_Vatican  \n",
       "count       9113.000000  \n",
       "mean           0.015033  \n",
       "std            0.121693  \n",
       "min            0.000000  \n",
       "25%            0.000000  \n",
       "50%            0.000000  \n",
       "75%            0.000000  \n",
       "max            1.000000  \n",
       "\n",
       "[8 rows x 118 columns]"
      ]
     },
     "execution_count": 36,
     "metadata": {},
     "output_type": "execute_result"
    }
   ],
   "source": [
    "df.describe(include = [np.number])"
   ]
  },
  {
   "cell_type": "markdown",
   "metadata": {},
   "source": [
    "## Handling Missing Values"
   ]
  },
  {
   "cell_type": "markdown",
   "metadata": {},
   "source": [
    "As seen from above df.isnull().sum(), there are several missing values in this dataset. Therefore, we first need to handle these missing values before proceeding further. We will use SimpleImputer for this."
   ]
  },
  {
   "cell_type": "code",
   "execution_count": 37,
   "metadata": {},
   "outputs": [
    {
     "data": {
      "text/plain": [
       "date                        0\n",
       "total_cases                86\n",
       "new_cases                  86\n",
       "total_deaths               86\n",
       "new_deaths                 86\n",
       "                           ..\n",
       "location_Sweden             0\n",
       "location_Switzerland        0\n",
       "location_Ukraine            0\n",
       "location_United Kingdom     0\n",
       "location_Vatican            0\n",
       "Length: 118, dtype: int64"
      ]
     },
     "execution_count": 37,
     "metadata": {},
     "output_type": "execute_result"
    }
   ],
   "source": [
    "df.isnull().sum()"
   ]
  },
  {
   "cell_type": "code",
   "execution_count": 38,
   "metadata": {},
   "outputs": [],
   "source": [
    "# Impute missing values using Imputer in sklearn.preprocessing\n",
    "from sklearn.impute import SimpleImputer \n",
    "imputer = SimpleImputer(missing_values=np.nan, strategy='median')\n",
    "imputer.fit(df)\n",
    "df = pd.DataFrame(data=imputer.transform(df) , columns=df.columns)"
   ]
  },
  {
   "cell_type": "markdown",
   "metadata": {},
   "source": [
    "## Training - Testing Model"
   ]
  },
  {
   "cell_type": "code",
   "execution_count": 39,
   "metadata": {},
   "outputs": [],
   "source": [
    "# Assign X as a DataFrame of features and y as a Series of the outcome variable\n",
    "X = df.drop('total_deaths', 1)\n",
    "y = df.total_deaths"
   ]
  },
  {
   "cell_type": "code",
   "execution_count": 40,
   "metadata": {},
   "outputs": [
    {
     "data": {
      "text/plain": [
       "location_Vatican      0\n",
       "iso_code_ITA          0\n",
       "iso_code_FIN          0\n",
       "iso_code_FRA          0\n",
       "iso_code_FRO          0\n",
       "                     ..\n",
       "location_Germany      0\n",
       "location_Gibraltar    0\n",
       "location_Greece       0\n",
       "location_Guernsey     0\n",
       "date                  0\n",
       "Length: 117, dtype: int64"
      ]
     },
     "execution_count": 40,
     "metadata": {},
     "output_type": "execute_result"
    }
   ],
   "source": [
    "X.isnull().sum().sort_values(ascending=False)"
   ]
  },
  {
   "cell_type": "code",
   "execution_count": 41,
   "metadata": {},
   "outputs": [
    {
     "data": {
      "text/plain": [
       "0.7564315841332829"
      ]
     },
     "execution_count": 41,
     "metadata": {},
     "output_type": "execute_result"
    }
   ],
   "source": [
    "# Feature Scaling \n",
    "from sklearn.pipeline import Pipeline\n",
    "from sklearn.preprocessing import StandardScaler \n",
    "\n",
    "scaler = StandardScaler() \n",
    "reg = LinearRegression()\n",
    "steps = [('scaling', scaler), ('regression', reg)] \n",
    "pipeline = Pipeline(steps)\n",
    "X_train, X_test, y_train, y_test = train_test_split(X, y, test_size=0.3, random_state=42) \n",
    "\n",
    "pipeline.fit(X_train, y_train) \n",
    "y_pred = pipeline.predict(X_test) \n",
    "pipeline.score(X_test, y_test)"
   ]
  }
 ],
 "metadata": {
  "kernelspec": {
   "display_name": "Python 3",
   "language": "python",
   "name": "python3"
  },
  "language_info": {
   "codemirror_mode": {
    "name": "ipython",
    "version": 3
   },
   "file_extension": ".py",
   "mimetype": "text/x-python",
   "name": "python",
   "nbconvert_exporter": "python",
   "pygments_lexer": "ipython3",
   "version": "3.7.4"
  }
 },
 "nbformat": 4,
 "nbformat_minor": 2
}
